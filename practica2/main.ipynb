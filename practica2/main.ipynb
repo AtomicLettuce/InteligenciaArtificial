{
 "cells": [
  {
   "cell_type": "markdown",
   "metadata": {},
   "source": [
    "<font size=10>**Pràctica 2**</font>\n",
    "\n",
    "\n",
    "\n",
    "\n",
    "Lluís Picornell Company<br/>\n",
    "43477189J<br/>\n",
    "Xavier Vives Marcus<br/>\n",
    "43462573W<br/>"
   ]
  },
  {
   "cell_type": "markdown",
   "metadata": {},
   "source": [
    "# Totes les llibreries que emprarem:"
   ]
  },
  {
   "cell_type": "code",
   "execution_count": 1,
   "metadata": {},
   "outputs": [],
   "source": [
    "import pandas as pd\n",
    "import seaborn as sns\n",
    "import matplotlib.pyplot as plt\n",
    "from sklearn.model_selection import train_test_split\n",
    "from sklearn.linear_model import LogisticRegression\n",
    "from sklearn.ensemble import RandomForestClassifier\n",
    "from sklearn.linear_model import Perceptron\n",
    "from sklearn.metrics import classification_report\n",
    "from sklearn.inspection import permutation_importance\n",
    "import numpy as np"
   ]
  },
  {
   "cell_type": "markdown",
   "metadata": {},
   "source": [
    "# Neteja de dades"
   ]
  },
  {
   "cell_type": "code",
   "execution_count": 2,
   "metadata": {},
   "outputs": [
    {
     "name": "stdout",
     "output_type": "stream",
     "text": [
      "['PassengerId' 'Survived' 'Pclass' 'Name' 'Sex' 'Age' 'SibSp' 'Parch'\n",
      " 'Ticket' 'Fare' 'Cabin' 'Embarked']\n"
     ]
    }
   ],
   "source": [
    "# Llegim dades\n",
    "data = pd.read_csv('dades.csv')\n",
    "print(data.columns.values)"
   ]
  },
  {
   "cell_type": "markdown",
   "metadata": {},
   "source": [
    "Llevam columnes 'PassengerId' , 'Name' i 'Ticket' Ja que no aporten cap informació"
   ]
  },
  {
   "cell_type": "code",
   "execution_count": 3,
   "metadata": {},
   "outputs": [
    {
     "name": "stdout",
     "output_type": "stream",
     "text": [
      "['Survived' 'Pclass' 'Sex' 'Age' 'SibSp' 'Parch' 'Fare' 'Cabin' 'Embarked']\n"
     ]
    },
    {
     "data": {
      "text/html": [
       "<div>\n",
       "<style scoped>\n",
       "    .dataframe tbody tr th:only-of-type {\n",
       "        vertical-align: middle;\n",
       "    }\n",
       "\n",
       "    .dataframe tbody tr th {\n",
       "        vertical-align: top;\n",
       "    }\n",
       "\n",
       "    .dataframe thead th {\n",
       "        text-align: right;\n",
       "    }\n",
       "</style>\n",
       "<table border=\"1\" class=\"dataframe\">\n",
       "  <thead>\n",
       "    <tr style=\"text-align: right;\">\n",
       "      <th></th>\n",
       "      <th>Survived</th>\n",
       "      <th>Pclass</th>\n",
       "      <th>Sex</th>\n",
       "      <th>Age</th>\n",
       "      <th>SibSp</th>\n",
       "      <th>Parch</th>\n",
       "      <th>Fare</th>\n",
       "      <th>Cabin</th>\n",
       "      <th>Embarked</th>\n",
       "    </tr>\n",
       "  </thead>\n",
       "  <tbody>\n",
       "    <tr>\n",
       "      <th>0</th>\n",
       "      <td>0</td>\n",
       "      <td>3</td>\n",
       "      <td>male</td>\n",
       "      <td>22.0</td>\n",
       "      <td>1</td>\n",
       "      <td>0</td>\n",
       "      <td>7.2500</td>\n",
       "      <td>NaN</td>\n",
       "      <td>S</td>\n",
       "    </tr>\n",
       "    <tr>\n",
       "      <th>1</th>\n",
       "      <td>1</td>\n",
       "      <td>1</td>\n",
       "      <td>female</td>\n",
       "      <td>38.0</td>\n",
       "      <td>1</td>\n",
       "      <td>0</td>\n",
       "      <td>71.2833</td>\n",
       "      <td>C85</td>\n",
       "      <td>C</td>\n",
       "    </tr>\n",
       "    <tr>\n",
       "      <th>2</th>\n",
       "      <td>1</td>\n",
       "      <td>3</td>\n",
       "      <td>female</td>\n",
       "      <td>26.0</td>\n",
       "      <td>0</td>\n",
       "      <td>0</td>\n",
       "      <td>7.9250</td>\n",
       "      <td>NaN</td>\n",
       "      <td>S</td>\n",
       "    </tr>\n",
       "    <tr>\n",
       "      <th>3</th>\n",
       "      <td>1</td>\n",
       "      <td>1</td>\n",
       "      <td>female</td>\n",
       "      <td>35.0</td>\n",
       "      <td>1</td>\n",
       "      <td>0</td>\n",
       "      <td>53.1000</td>\n",
       "      <td>C123</td>\n",
       "      <td>S</td>\n",
       "    </tr>\n",
       "    <tr>\n",
       "      <th>4</th>\n",
       "      <td>0</td>\n",
       "      <td>3</td>\n",
       "      <td>male</td>\n",
       "      <td>35.0</td>\n",
       "      <td>0</td>\n",
       "      <td>0</td>\n",
       "      <td>8.0500</td>\n",
       "      <td>NaN</td>\n",
       "      <td>S</td>\n",
       "    </tr>\n",
       "    <tr>\n",
       "      <th>...</th>\n",
       "      <td>...</td>\n",
       "      <td>...</td>\n",
       "      <td>...</td>\n",
       "      <td>...</td>\n",
       "      <td>...</td>\n",
       "      <td>...</td>\n",
       "      <td>...</td>\n",
       "      <td>...</td>\n",
       "      <td>...</td>\n",
       "    </tr>\n",
       "    <tr>\n",
       "      <th>886</th>\n",
       "      <td>0</td>\n",
       "      <td>2</td>\n",
       "      <td>male</td>\n",
       "      <td>27.0</td>\n",
       "      <td>0</td>\n",
       "      <td>0</td>\n",
       "      <td>13.0000</td>\n",
       "      <td>NaN</td>\n",
       "      <td>S</td>\n",
       "    </tr>\n",
       "    <tr>\n",
       "      <th>887</th>\n",
       "      <td>1</td>\n",
       "      <td>1</td>\n",
       "      <td>female</td>\n",
       "      <td>19.0</td>\n",
       "      <td>0</td>\n",
       "      <td>0</td>\n",
       "      <td>30.0000</td>\n",
       "      <td>B42</td>\n",
       "      <td>S</td>\n",
       "    </tr>\n",
       "    <tr>\n",
       "      <th>888</th>\n",
       "      <td>0</td>\n",
       "      <td>3</td>\n",
       "      <td>female</td>\n",
       "      <td>NaN</td>\n",
       "      <td>1</td>\n",
       "      <td>2</td>\n",
       "      <td>23.4500</td>\n",
       "      <td>NaN</td>\n",
       "      <td>S</td>\n",
       "    </tr>\n",
       "    <tr>\n",
       "      <th>889</th>\n",
       "      <td>1</td>\n",
       "      <td>1</td>\n",
       "      <td>male</td>\n",
       "      <td>26.0</td>\n",
       "      <td>0</td>\n",
       "      <td>0</td>\n",
       "      <td>30.0000</td>\n",
       "      <td>C148</td>\n",
       "      <td>C</td>\n",
       "    </tr>\n",
       "    <tr>\n",
       "      <th>890</th>\n",
       "      <td>0</td>\n",
       "      <td>3</td>\n",
       "      <td>male</td>\n",
       "      <td>32.0</td>\n",
       "      <td>0</td>\n",
       "      <td>0</td>\n",
       "      <td>7.7500</td>\n",
       "      <td>NaN</td>\n",
       "      <td>Q</td>\n",
       "    </tr>\n",
       "  </tbody>\n",
       "</table>\n",
       "<p>891 rows × 9 columns</p>\n",
       "</div>"
      ],
      "text/plain": [
       "     Survived  Pclass     Sex   Age  SibSp  Parch     Fare Cabin Embarked\n",
       "0           0       3    male  22.0      1      0   7.2500   NaN        S\n",
       "1           1       1  female  38.0      1      0  71.2833   C85        C\n",
       "2           1       3  female  26.0      0      0   7.9250   NaN        S\n",
       "3           1       1  female  35.0      1      0  53.1000  C123        S\n",
       "4           0       3    male  35.0      0      0   8.0500   NaN        S\n",
       "..        ...     ...     ...   ...    ...    ...      ...   ...      ...\n",
       "886         0       2    male  27.0      0      0  13.0000   NaN        S\n",
       "887         1       1  female  19.0      0      0  30.0000   B42        S\n",
       "888         0       3  female   NaN      1      2  23.4500   NaN        S\n",
       "889         1       1    male  26.0      0      0  30.0000  C148        C\n",
       "890         0       3    male  32.0      0      0   7.7500   NaN        Q\n",
       "\n",
       "[891 rows x 9 columns]"
      ]
     },
     "execution_count": 3,
     "metadata": {},
     "output_type": "execute_result"
    }
   ],
   "source": [
    "data.drop(['PassengerId','Name','Ticket'],axis=1,inplace=True)\n",
    "print(data.columns.values)\n",
    "data"
   ]
  },
  {
   "cell_type": "markdown",
   "metadata": {},
   "source": [
    "Podem veure que la columna 'Sex' té valors que no seran compatibles amb el que volem fer. Per tant els substiuim per valors 0 o 1"
   ]
  },
  {
   "cell_type": "code",
   "execution_count": 4,
   "metadata": {},
   "outputs": [],
   "source": [
    "data['Sex'].replace('female', 0,inplace=True)\n",
    "data['Sex'].replace('male', 1,inplace=True)"
   ]
  },
  {
   "cell_type": "markdown",
   "metadata": {},
   "source": [
    "Comprovem quants de NaNs hi ha al nostre df"
   ]
  },
  {
   "cell_type": "code",
   "execution_count": 5,
   "metadata": {},
   "outputs": [
    {
     "name": "stdout",
     "output_type": "stream",
     "text": [
      "<class 'pandas.core.frame.DataFrame'>\n",
      "RangeIndex: 891 entries, 0 to 890\n",
      "Data columns (total 9 columns):\n",
      " #   Column    Non-Null Count  Dtype  \n",
      "---  ------    --------------  -----  \n",
      " 0   Survived  891 non-null    int64  \n",
      " 1   Pclass    891 non-null    int64  \n",
      " 2   Sex       891 non-null    int64  \n",
      " 3   Age       714 non-null    float64\n",
      " 4   SibSp     891 non-null    int64  \n",
      " 5   Parch     891 non-null    int64  \n",
      " 6   Fare      891 non-null    float64\n",
      " 7   Cabin     204 non-null    object \n",
      " 8   Embarked  889 non-null    object \n",
      "dtypes: float64(2), int64(5), object(2)\n",
      "memory usage: 62.8+ KB\n",
      "None\n"
     ]
    }
   ],
   "source": [
    "print(data.info())"
   ]
  },
  {
   "cell_type": "markdown",
   "metadata": {},
   "source": [
    "Podem veure que la columna 'Cabin' només hi ha 204 registres (d'un total de 891) que no son NaNs per tant eliminam la columna 'Cabin'"
   ]
  },
  {
   "cell_type": "code",
   "execution_count": 6,
   "metadata": {},
   "outputs": [],
   "source": [
    "data.drop(['Cabin'],axis=1,inplace=True)"
   ]
  },
  {
   "cell_type": "markdown",
   "metadata": {},
   "source": [
    "Substituim els valors NaN de la columna 'Age' per la mitjana de Age perquè tampoc n'hi ha tants que siguin NaN"
   ]
  },
  {
   "cell_type": "code",
   "execution_count": 7,
   "metadata": {},
   "outputs": [],
   "source": [
    "data['Age'].fillna(data['Age'].mean(), inplace = True)"
   ]
  },
  {
   "cell_type": "markdown",
   "metadata": {},
   "source": [
    "Canviam la columna Embarked per Embarked_C , Embarked_S i Embarked_Q i així poder treballar amb aquesta columna"
   ]
  },
  {
   "cell_type": "code",
   "execution_count": 8,
   "metadata": {},
   "outputs": [],
   "source": [
    "clb = data.pop(\"Embarked\")\n",
    "ohe_clb = pd.get_dummies(clb, prefix='Embarked')\n",
    "data = pd.concat([data.reset_index(drop=True), ohe_clb.reset_index(drop=True)], axis=1, sort=False)"
   ]
  },
  {
   "cell_type": "markdown",
   "metadata": {},
   "source": [
    "Podem veure que ja no tenim valors no numèrics"
   ]
  },
  {
   "cell_type": "code",
   "execution_count": 9,
   "metadata": {},
   "outputs": [
    {
     "name": "stdout",
     "output_type": "stream",
     "text": [
      "<class 'pandas.core.frame.DataFrame'>\n",
      "RangeIndex: 891 entries, 0 to 890\n",
      "Data columns (total 10 columns):\n",
      " #   Column      Non-Null Count  Dtype  \n",
      "---  ------      --------------  -----  \n",
      " 0   Survived    891 non-null    int64  \n",
      " 1   Pclass      891 non-null    int64  \n",
      " 2   Sex         891 non-null    int64  \n",
      " 3   Age         891 non-null    float64\n",
      " 4   SibSp       891 non-null    int64  \n",
      " 5   Parch       891 non-null    int64  \n",
      " 6   Fare        891 non-null    float64\n",
      " 7   Embarked_C  891 non-null    uint8  \n",
      " 8   Embarked_Q  891 non-null    uint8  \n",
      " 9   Embarked_S  891 non-null    uint8  \n",
      "dtypes: float64(2), int64(5), uint8(3)\n",
      "memory usage: 51.5 KB\n",
      "None\n"
     ]
    }
   ],
   "source": [
    "print(data.info())"
   ]
  },
  {
   "cell_type": "markdown",
   "metadata": {},
   "source": [
    "Anem a veure com de relacionades estan les dades"
   ]
  },
  {
   "cell_type": "code",
   "execution_count": 10,
   "metadata": {},
   "outputs": [
    {
     "data": {
      "image/png": "iVBORw0KGgoAAAANSUhEUgAABEgAAALkCAYAAAAcdQB5AAAABHNCSVQICAgIfAhkiAAAAAlwSFlzAAALEgAACxIB0t1+/AAAADh0RVh0U29mdHdhcmUAbWF0cGxvdGxpYiB2ZXJzaW9uMy4yLjAsIGh0dHA6Ly9tYXRwbG90bGliLm9yZy8GearUAAAgAElEQVR4nOzdd3zURf7H8ddsGpAEEmoogRR6lw5SgxQrigUVO57tPAveT/2dd+pZfp6eeqeeDUWxo4AFFelFRKQevQeCQEiFlE0lyfz+2JC6YIFkk+z7+XjwuOx357s7M87Nd/azn/musdYiIiIiIiIiIuLNHJ6ugIiIiIiIiIiIpylAIiIiIiIiIiJeTwESEREREREREfF6CpCIiIiIiIiIiNdTgEREREREREREvJ4CJCIiIiIiIiLi9RQgEREREREREZEaxRjzjjEmyRiz7RTPG2PMy8aYfcaYLcaYPmf6ngqQiIiIiIiIiEhNMwMYf5rnzwc6FP+7DXj9TN9QARIRERERERERqVGstd8Dx05TZALwvnX5CQgxxrQ8k/f0PZOTvZj1dAVERERERESkyhhPV6Aq9ejzgEc/027774u348r6OGmatXbab3yZ1sChMo8PFx87+nvrpQDJ79SjzwOerkKdtnXjC0yZ/ZKnq1GnTb/iXv6++GVPV6NOe+y8ewAY+9q/PVyTum3hXfcR84r6uCot/dN9DHr2RU9Xo0776aGpdPrfFzxdjTpv9zMP0OvvGstVafNjUxnxr395uhp12or77+eS6VonV6W5U+71dBXqvOJgyG8NiFTkLoh1RoEfbbERERERERERkdrmMBBe5nEbIP5MXlABEhERERERERGpbeYCNxT/ms0gIN1a+7u314C22IiIiIiIiIhIDWOM+QQYCTQ1xhwGHgP8AKy1bwDzgAuAfUA2cPOZvqcCJCIiIiIiIiJSo1hrr/mF5y3wx7P5ngqQiIiIiIiIiHiTOv0bPb+f7kEiIiIiIiIiIl5PARIRERERERER8XraYiMiIiIiIiLiTYz22LijDBIRERERERER8XrKIBERERERERHxJkogcUsZJCIiIiIiIiLi9RQgERERERERERGvpy02IiIiIiIiIt5EW2zcUgaJiIiIiIiIiHg9ZZCIiIiIiIiIeBWlkLijDBIRERERERER8XoKkIiIiIiIiIiI19MWGxEREREREREvYrXDxi1lkIiIiIiIiIiI11MGiYiIiIiIiIg3UQaJW8ogERERERERERGvpwCJiIiIiIiIiHg9bbERERERERER8SZGe2zcUQaJiIiIiIiIiHg9BUhERERERERExOspQCIiIiIiIiIiXk8BEhERERERERHxerpJax33xGOTGD6sC8eOOZl41fOerk6tdk2vEfRoGUF+QQHvrF/Iz2nJlcrc1Pc8IkKbA4ZE53HeWbeIvMITJc9HhLbgkZireOOn79hwZF811r7ms9ayYdZK4rcfxNffj0HXj6Zx22aVyq1+fwlJ+47gV88fgMHXjyY0vLRc6sFEFv5zDufeMpa2fdpXW/1ri7uGjqB/u0jyCk7w/JKF7EupPI7Dghvyl7EXEBwQwN6UZJ5bPJ+CoiKu7N2XmI6dAfAxhvDQxlz17ptk5uVVdzNqnLuHj2Bgu0hyC07w3OKF7E12068NG/K3cRcQXC+AvcnJPLPQ1a9DIqO4edBgrIXCoiJeXbmCbUfjAfj4xlvIzs+nyFoKi4q487NPqrtpNcKgyAjuHz0Sh8PB3M1b+WDNukplpo4exeDoSPJOnODJeQvYnZgEwNX9+nBJr+5YC7HJKTw1bwH5hYXcPXI4Q9tHUVBYyOG0dJ6atwCnxnKJYR0jeOSiUTgchlnrtvHWirXlnr+4d2f+MHwAAFn5J3j8y8XsTnCN++B6ATw1cSwdWzTFYvnLnAVs+vlotbehphsSHcFD413j+ouNW3lnVflxHdEklCcmjKNLy+a8snQV76/eAEC7JqE8d8WFJeXahDbitWU/8tGa/1Zr/WuSAe3a8aeRrr78dts2Pl5XeY64Z+RIBka65ohnFi5kb1LSac+9ZfBghkZHU2QtaTk5PLNgAalZWZzXuTNX9+1b8rrRzZrxh48+Yp+bed+b/GHQCPqFR5BXUMC/v1/I/tTK/XFhl55c0v0cWjYMYfKHb5KZl1vyXPew1tw6aAS+DgcZuTn8Zd6c6qy+d9I9Wt2q9gCJMeYR4FqgECgCbrfWrjnD17wE6Gqt/cdZqJ/TWht0pq9TU3z19To++fQHnn7iGk9XpVbrERZBi+AQ/jL/PaIah3F9nxieXvpppXIzN39PbkE+AJN6DiOmfS++270eAIPhih7nsi3h52qte20Rv/0gmcnpXPz4daTGJbJu5nLGPXil27LnXDrEbfCjqKiITV+uJqxLeFVXt1bq3zaC1o1CufmjGXRuEcY9I0Zzz5yZlcpNGTyUzzdvZPm+PdwzIobxXbrzzfYtzNq0gVmbXAv0Qe0imdirj4IjwMB2EbQOCeX6D2bQpUUY940czR9nVe7X24YMZfamjSzbu4f7RsZwQdfuzN22hY2HD/HjJ/sBiGrSlEfPv4CbPny/5LypX8wmIze30ut5C4cx/HlMDPd8OoekzEzevXEyK/fFEpd6rKTM4KhIwhuHcOW0d+jWqiUPjh3NlA8+oVlQEFf1PYdrpr9HXkEBT024kDFdOvHtth2sjTvI6ytWUmgtfxwxjBsHDeDVFSs92NKaw2EMj14ympunzyYxI5PZf5zM0p37iE0q7fPDxzK4btqnZOTmMbxjBE9OHMNVr30MwCMXj2Llnjju/fhr/Hwc1PPz81RTaiyHMfzlghhu/2AOiRmZfPyHySzfHcv+lNI+zsjJ5dn5yxjVufz17mDqcSa9+WHJ6yyaehtLd3nvly4OY7gvJoYHPv+c5MxM3rz2WlbFxnLwWGlfDoyIoE1ICJPffZeuYWFMjYnhzpkzT3vuzA0beGf1agAu792bGwcN4sUlS1i8axeLd+0CIKpJE56eMMHrgyN920TQqmEIt896j07NwrhzSAz/83XldfLOpKOs++4AT19wRbnjgf7+3DFkFI8v+IqUrEwa1atfXVUXqaRat9gYYwYDFwF9rLU9gfOAQ7/y3FMGc6y1c89GcKQu2rBxP+np2Z6uRq3Xu1UUPx7cCcD+Ywk08AugUb0GlcqdDI4A+Pn4Arbk8ej2vdhwZB+Zefrv4c6RLQeIHNgJYwxNI8PIz8knJz3rN73GnuVbCe8dTb3gyv9tBIZERrNot2sc70pMINDfn8YNKvdV79bhfB+7F4BFu3YyJDK6UpmRHTqxbO/uqq1wLTEkKppFO139ujMxgaAA9/16TptwVuxz9evCXTs5N8rVr7knSrPM6vn5YW2lU71a15ZhHE5LIz49nYKiIhbt3MXwDuXH5PAO0czbtgOA7fFHCQoIoElgIAA+DgcBvr74GEM9Xz+Sna55ZW3cQQqLO3tb/FGaB9eZ70bOWM/wMA6mpnH4eDonCov4dvNuRncp/yH9vz/Hk5HrCpBu+vkoYQ1d/RcY4E//iDbMXr8VgBOFRWTmKpBaUffWYRw6lsaRNNe4nr99FyM7lx/Xx7Jz2B6fSEFh0SlfZ2BkWw4dS+NoemZVV7nG6hIWxpG0NI4WzxFLd+9maHT5vhwaHc2C4nl6R0ICQQEBNA4MPO252fmla7p6fn64m5xHd+7MkuJgiTcb2C6KZftc/bs7OYFA/wBC61e+Du5PTSbJWXmsDo/uzOqDsaRkuZ5Lz82p2gqLnEZ134OkJZBirc0DsNamWGvjjTFxxpimAMaYfsaY5cV/P26MmWaMWQi8b4xZY4zpdvLFjDHLjTF9jTE3GWP+Y4xpVPxajuLnGxhjDhlj/Iwx0caY+caYDcaYlcaYzsVlIo0xq40x64wxT1Zzf0gtEVo/iGPZzpLHx3OchNR3v5i+ud8YXrzoD7QMDmXJvs0AhNQLpE/raJbHbq2W+tZG2elZNAgp7dMGIYFkp7kPkGz+eg3znp7Jhtk/UHii0HV+mpPDm/fTflg3t+cINAkMJLnMwiQly0mTwPLjuGG9ejjz8ygqXgimZGXStPiD5kkBvr70axvBD/v3Vn2la4GmgYHlFnzJTidNg9z0a15pvyY7M2kaVNqvQ6OimXHdDfzfxRP455JFJcettfxzwkTemHQNF3brXsUtqZmaBQeRlFHav0mZTpoFBZcvE+SmTHAQyU4nH61dz5d33so3d99OVl4ea+MOVnqPi3t2Y/X+uCprQ23TomEQCWU+cCdmZNKi0akDSFf078H3e+IACG/ciGNZ2TxzxTi++NP1PDVxLPX9tKO7oubBQSSUHbMZTloEB5/mDPfGd+/E/G3eHaxuGhREUubp52B3ZZoFBf3iubcOGcKsW2/lvM6dmV6cTVLWqI4dWbLbu/sfoEmDIJKzStfJqdmV1xen07phCEH+ATx9weW8OOFqRrXvXBXVlIqM8ey/Gqq6AyQLgXBjzB5jzGvGmBG/4py+wARr7bXATOAqAGNMS6CVtXbDyYLW2nRgM3DydS8GFlhrTwDTgD9Za/sCfwZeKy7zEvC6tbY/kHCqShhjbjPGrDfGrJ82bdpvaLLUBW7/L3yKb3nfXb+IB755m6OZx+nfpiMA1/Qeweytq7CnOknc9qe7ubP3hEFc9Oi1jHvwSvKzc9mxaCMAG2b/QO9LB+Nw6N7Tp2J+xcXIuBntFf/TDIqIYkdCvLbXFHPXrxW/aHTbr2XK/LA/lps+fJ9Hv/2amwcNLjl+z5zPuP3Tj3l47pdc2rMXPVu1Pmv1ri3cj9ryHexuaFtrCQ4IYHiHaCa+MZ2LXp1GPT8/xnftUq7cTYMHUFBkmb9j51mrc233S+O1rIFR4VzRrzvPz/8eAF+Hg66tWvDJms1c9soH5OSf4LaRA6qyurWS2zH7G9cIvg4HIzpFs3DHnrNUq9rJ/RrN/mIZa+0vnvv2jz9y5dtvs3jXLib27l2uWJewMPIKCjiQmvpbq1z3uJ2Df/3pPg4H7Zs254mFX/HY/C+Z1HsgrRqGnL36ifwG1RrSt9Y6jTF9gWHAKOBTY8zDv3DaXGvtyTyrz4BFwGO4AiWz3JT/FJgELAOuBl4zxgQBQ4BZZRayAcX/ey5wefHfHwDPnqLu03AFWQDsK2888AvVltpuVHRPhke6vrGNO5ZI4wZBUHwNDK0fRFqu85TnWixrD+1hfKe+rDq4g3ahzbl94PkABAXUo0dYBEW2iP/G76/ydtRke1ZsZd+q7QA0adeC7LTSPs1Oy6J+o8BK55w85uPnQ9SgLuxc4rop3bGfk1j1zkIA8pw5xG8/iPFxEN4rqqqbUaNd3L0nF3TtAcDupIRy37w3DQwiNav8OE7PzSHIPwCHMRRZS9PAYFKzymfyjGzf0eu310zo0ZMLu5X2a/My/dos6BT9GlDar82CKvcrwJb4I7Rq2IiG9eqRkZtbUiYtJ4cfYmPp3KIFW+KPVGHLap6kTCfNG5b2b/PizBC3ZY6UlklxZtE/oi3x6Rmk5biWEcv37KVH65YlwZALunfl3Ogo7p45u3oaU0skZGQS1qi0z1s0DCYpo/I1r1NYU56aOJY/zPictGzXfXIS0jNJyMhkyyHXd07zt+3hthEKkFSUmOEkrOy4bhhEUuap1xXuDO0Qya6jiRzL8u6tu8lOJ82Dy8/BKRXm11OV8fPx+cVzARbv2sU/Lr2Ud8tkkcR06uTV22su6NKTsZ1c6+S9KYk0CwziZJi5SYPymde/JCXLSUZuDnkFBeQVFLA94QiRjZsSn5FWBTWXEjU3icOjqj3n0VpbCCwHlhtjtgI3AgWUZrPUq3BKVplzjxhjUo0xPXEFQW538xZzgWeMMY1xZZ8sBQKBNGttbzfl4ZS5AOLNlsVuYVnsFgB6hkUQ074Xaw/tIapxGNkn8kjPrbwgaR7YiKSsdAB6t4okIdN1g7CHv5tRUuaWfmPYfPSA1wdHADqO6EHHEa4PmUe2xbFnxVba9e1AalwifvX93QZIctJdgRNrLYe37CekZRMAJjxxQ0mZ1e8voXX3dl4fHAH4etsWvt7mGscD2kUwoXtvlu/bTecWYWTl53Msu/I43nzkEMOjO7B83x7GdO7C6gOxJc818PenR6s2PLt4frW1oSb6ausWvtrq6teBERFc2rM3S/fupstp+nXT4UOMaN+BZXv3MLZzF1YV92urRo2IT3fNGx2aNcPPx4eM3Fzq+fpijCHnxAnq+frSr21b3l97Rvc0r5V2Hk0gPDSElo0akpzpZEyXzjz69bxyZVbujeXKvr1ZtHM33Vq1xJmXT2pWFokZmXRvFUaAry95BQX0a9eWXQmJgOuXca4f2J87P/6MvIICD7Ss5tp6OIGIpiG0CW1IYoaTC3t14oGZ5fu8ZaNgXrnuEh787DviUo6XHE9xZpOQlklk01AOpBxncHRbYpP0DXtF248k0LZJCK1DXH08vltn/vfzeb98Yhnnd+/Ed16+vQZgV0ICbUJDCWvYkBSnk5hOnXjyu+/KlVm1fz8Te/Viye7ddA0rnqezskjPzj7lua1DQjiS5vqAfm50ND8fLx3nBhjZoQP3zHL3Xa13mLdzC/N2uq6D/cIjuLBLL77fv4dOzVzr5OM5vz5wt+ZgLLcPGYXDGHwdPnRs3oKvtnvvrzKJZ1VrgMQY0wkostae3LjeGzgI1McVzPiO0myOU5kJPAg0stZWuqFDcZbKWlxbZ74pDshkGGMOGGOutNbOMq40kp7W2s3AKlyZJh8Ck8+8lTXLs/93Hf37RhMSEsji7/7Gq28s4Iuv1v7yiVLOloQ4eoRF8Mz4G8kvLOCd9aX3CLj33Am8t2Ex6blZ3NJ/LPX9/DHAofQUPti4zHOVrmVadWtH/PaDfP34h/j4+zLoutElzy179WsGTo6hQUggP85YRK4zByyEtmlK/6t/zU49AVh7MI4BbSOZMfkm8goKeH7pwpLnnrpwAi8uW8yx7Cze/ukH/jLmAm4cOITY5CTm79xeUu7cyPZsPHSQXH2gLLEmLo6B7SL58IabyD1RwHNLSvv1mYsn8PzSxaRmZTHtxx/42/gLuGXQEPYlJ/Hddle/Do/uwNjOXSgoKiKvoIAn5rs+JIU2aMATF14MgI9xsGTPLtb9XPn+GXVdobU8v2gZL111OQ5j+GbrNg6kpHJZ754AfLFpCz/uP8CQ6Ehm33YLuQUFPDVvAQDbjyawdPde3rvpOgqLitiTmMSXm11LhwfGxODv48PLk1zLjm3xR3lu4RLPNLKGKSyyPDF3KW/fcjk+xsGc9dvYl5TK1QNcfT5z7Rb+OHowIQ3q89iE0cXnFHH5qx8B8OTXS3l+0gX4+fhw6Fg6/zvbuwOq7hRayzPzlvH6da5x/eWmbcQmp3JlX1cfz9qwhSaBDfjktskEBvhTZC3XDerDZa++R1Z+PvV8fRkU1Y4nv1ns4ZZ4XqG1/HvpUp6fOBGHMczbvp241FQu6enqy7lbtvDTgQMMiojg45tvJq+ggH8sXHjacwFuHzqU8NBQrLUkZmbywuLSvu7Vpg3JTidHi4Pb3m79oTj6tongzStvJK+ggJdXlq6THx07gf/84FpfXNS1FxN79iW0fiAvXzaZDYfj+M8PSzicfpyNh+N4+bLJWCyLdm/n5+MKrIpnGFuNt8sv3l7zChCCK2tkH3Ab0AWYDiQCa4B+1tqRxpjHAae19vkyr9ECVxLtk9bavxcfu6n4nLuLH1+Ba/vNSGvtiuJjkcDruG4U6wfMtNY+UXz8Y1zBojnAX3/Fz/zaHn20xaYqbd34AlNmv+TpatRp06+4l78vftnT1ajTHjvvHgDGvvZvD9ekblt4133EvKI+rkpL/3Qfg5590dPVqNN+emgqnf73BU9Xo87b/cwD9Pq7xnJV2vzYVEb861+erkadtuL++7lkutbJVWnulHuhjm9C6Tb0IY/uotj+w7M1sn+r+x4kG3DdC6SilUBHN+Ufd3MskQr1ttbOAGaUeTybCgPaWnsAGO/m9Q4Ag8sc0s8Fi4iIiIiIiHgZ/e6aiIiIiIiIiDepwT+160n6PUwRERERERER8XoKkIiIiIiIiIiI19MWGxERERERERFvoh02bimDRERERERERES8njJIRERERERERLyKUkjcUQaJiIiIiIiIiHg9BUhERERERERExOtpi42IiIiIiIiIN9EOG7eUQSIiIiIiIiIiXk8ZJCIiIiIiIiLeRBkkbimDRERERERERES8ngIkIiIiIiIiIuL1tMVGRERERERExItYoz027iiDRERERERERES8ngIkIiIiIiIiIuL1FCAREREREREREa+nAImIiIiIiIiIeD3dpFVERERERETEm+gmrW4pg0REREREREREvJ4CJCIiIiIiIiLi9bTFRkRERERERMSbaIeNW8ogERERERERERGvpwwSERERERERES9iPV2BGkoZJCIiIiIiIiLi9RQgERERERERERGvZ6xVcs3voE4TERERERGpu+r0bUy7nPdXj36m3bn4qRrZv7oHye80ZfZLnq5CnTb9invp0ecBT1ejTtu68QX6PPWip6tRp23861QAbpml+aIqvXPlvQz8h8ZyVVrz8FSGvfgvT1ejTls59X6eWPKyp6tR5z06+h4mfag5uSp9et29dPvbC56uRp22/ckHGPSsrntV6aeHpnq6CuIhCpCIiIiIiIiIeJMamb/heboHiYiIiIiIiIh4PQVIRERERERERMTraYuNiIiIiIiIiDcx2mPjjjJIRERERERERKRGMcaMN8bsNsbsM8Y87Ob5RsaYr40xm40x240xN5/peypAIiIiIiIiIuJFrIf//RJjjA/wKnA+0BW4xhjTtUKxPwI7rLW9gJHAC8YY/9/UERUoQCIiIiIiIiIiNckAYJ+1dr+1Nh+YCUyoUMYCwcYYAwQBx4CCM3lTBUhEREREREREpNoYY24zxqwv8++2CkVaA4fKPD5cfKys/wBdgHhgK3CvtbboTOqlm7SKiIiIiIiIeBMP36PVWjsNmHaaIu5qWHF3zjhgExADRAOLjDErrbUZv7deyiARERERERERkZrkMBBe5nEbXJkiZd0MfG5d9gEHgM5n8qYKkIiIiIiIiIh4E2M8+++XrQM6GGMii2+8ejUwt0KZn4HRruaYFkAnYP+ZdIu22IiIiIiIiIhIjWGtLTDG3A0sAHyAd6y1240xdxQ//wbwJDDDGLMV15ach6y1KWfyvgqQiIiIiIiIiEiNYq2dB8yrcOyNMn/HA2PP5ntqi42IiIiIiIiIeD0FSERERERERETE6ylAIiIiIiIiIiJeT/cgEREREREREfEi9tf9kozXUQaJiIiIiIiIiHg9ZZCIiIiIiIiIeBMlkLilDBIRERERERER8XoKkIiIiIiIiIiI11OARERERERERES8ngIkIiIiIiIiIuL1dJNWERERERERES+in/l1TxkkIiIiIiIiIuL1FCAREREREREREa+nLTYiIiIiIiIi3kQ7bNxSgKQOuKbXCHq0jCC/oIB31i/k57TkSmVu6nseEaHNAUOi8zjvrFtEXuGJkucjQlvwSMxVvPHTd2w4sq8aa1/7PfHYJIYP68KxY04mXvW8p6tTaw2JiuDP40biYxx8sWkrM35cV+75iCahPH7xODqHNefV5av44KcNAPj7+PD2DZPw9/XBx2FYsnMvb3y/2hNNqBWu7V06X0xf536+uLlf+fli+lrXfNG7VRSXdRuMxVJUVMQnm75nb2p89TeihhkUGcHU80bicDiYu3kr7/+0rlKZqeeNYkh0JLknTvDktwvYnZgEwNX9+zChZ3csEJucwpPfLiC/sJDbhw1hWIdorLUcz87miW8XkOLMqt6G1SADItpx70hXH3+zdRsfravcx/eOGsmgyEjyTpzg/xYsZE+Sq48fHjuGIVFRHM/O5sb3Pygp375ZM/583mj8fXwoLLK8uHQJOxMSq61NNZ21lg2zVnJk+0F8/fwYfMNoGrdtVqnc6veXkLj3CP71/QEYdP1oGoc3I3HPEVa8MY+gpsEAhPeOpscF/au1DbXBTf1GcE7rCPIKCnh99UIOHKs8J//p3HFENWlBYVEh+1ISeWvNUgptUcnz0U1a8NS4q/j3D9+x5met4Soa2j6Chy8chY8xzNmwjbdXri33/IU9OzNl2AAAsvNP8OTXi9mdkExYw2CeuXw8TYIDsdYya90WPvzpv55oQo00KDKC+0eXXvs+WOPm2jd6FIOjXfPyk/PKXPv69eGSXt2x1nXte2qe69p398jhDG0fRUFhIYfT0nlq3gKceXnV3DLxdjU+QGKMKQS24qrrTuBGa232Kco+DjittV7zKbVHWAQtgkP4y/z3iGocxvV9Ynh66aeVys3c/D25BfkATOo5jJj2vfhu93oADIYrepzLtoSfq7XudcVXX6/jk09/4OknrvF0VWothzE8dH4Md300h8SMTD6cMpkVe2I5kHKspEx6Ti7PLVjGqE7ty52bX1jI7R/OIufECXwdDqbfOIlVsXFsPXK0uptR4/UIi6BFUAj/+51rvrihTwxPuZkvPtlUZr7oNYzR7Xsxb/d6diYeYlP8fgDaNGrKnYPO55EFH1Q635s4jOF/xsbwp5lzSMrMZMZNk1m5N5YDqaVjd0hUJOGhIVzx5jt0b9WSB8eNZsr7n9AsKIhJfc/h6rffI6+ggKcnXMiYrp34dusOPlyznjdX/gjAVX3PYcq5g3h2wRJPNdOjHMYwNSaG++d8TnJmJm9NvpZVsbHEHSvt40GREbQJCeGad96la8swHhgdw+2fzATgu+07+HzTZh4ZP67c6945bBjvrv6JNXFxDIqM4M5hw7hn1uxqbFnNFr/9IBlJ6Vzy+HWkxiWyduZyxj94pduyfS4bQts+7Ssdb9a+JaPuuqiqq1pr9W4VQVhwCPd+9R4dmoYxZUAMf51feU5eeWA3r6xaAMA9Q8cT074bi/ZuBcAYw7XnnMvmo1rDueMwhkcuHs0fZswmMSOTT++YzLJd+4hNLp0/jhzP4Kbpn5KRm8fQDhE8fskYrpn2MQVFRTw3fwU7jybRwN+PWXdex+rYgxpIMbAAACAASURBVOXO9VYOY/jzmBju+dR17Xv3xsms3BdLXJlr3+CoSMIbh3DltHfo1qolD44dzZQPXNe+q/qewzXTXde+pyZcyJgunfh22w7Wxh3k9RUrKbSWP44Yxo2DBvDqipUebGkdpwwSt2rDPUhyrLW9rbXdgXzgDk9XqCbp3SqKHw/uBGD/sQQa+AXQqF6DSuVOftgB8PPxBWzJ49Hte7HhyD4y89zGneQXbNi4n/R09d2Z6N4qjMPH0jiSlk5BURELtu9iZMfocmWOZ+ew42giBUVFlc7POeHKhvJ1OPB1OLDWViojcE7F+cL/l+cLfx9fbPF8UTbrLMDHF/UydG0ZxuHjacSnu8buoh27GN6h/Ngd3iGa77btAGBb/FGCAwJoEhgIgI/DQYCvLz7GUM/Pj5RMV5ZIVn7pf4P6fr5485DuEhbGkbQ0jhb38ZJduxkaXb6Ph0ZHM3+Ha2zvOJpAUJk+3nzkCBm5uW5e2RLo78p6CPQPICXLezN03Dm85QBRAzthjKFpZBj52fnkpKuPzqb+4VF8f8A1bvemJBDoH0BI/cpz8qb4uJK/96Uk0rhBUMnj8zv1Ys3P+0jP1TrEnR5twjiUmsbh4+mcKCxi3tbdjOpSPpi36VA8GbmuLIUth47SopGrf1OcWew86sp4yM4/wf7kYzRvGFy9DaihurYM43BamWvfTvfXvnnF177t8UfLzcvlrn2+fiQXZ0iujTtIYfEFb1v8UZoHByFS3Wp8BkkFK4GeAMaYG4A/4/qkv8Vae33ZgsaYPwC3Af7APuB6a222MeZK4DGgEEi31g43xnQD3i0u6wAut9buraY2nZHQ+kEcy3aWPD6e4ySkfpDbC+XN/cbQIyyCoxmpfLbFFY0NqRdIn9bR/HPF50T2a1Ft9RYpq1lwEAkZmSWPkzKddG/V8lef7zCGj6ZMJrxxCJ+t38y2+ISqqGatV3G+OJbtJPQU88Ut/cbQo2UE8RmpfLq59NubPq2iubzHEILrNeCllV9VS71rsubBQSRmlh+73SqM3WZuyjQLDmJXQiIfrV3PV3fdSl5BAWsOHGRN3MGScncMP5cLunfFmZfHXR/PqvrG1FDNgoJIKtN/yU4nXVqG/WKZpkFBpJ4m6PHy8hW8MPEy7hoxHIcx3FmccSIu2WlZNAgt/XDSIDSQ7LQs6jcKrFR209w1bJ23nrDObeg9YTA+fj4ApBxI4NunZ1K/USB9Jg4hpFWTaqt/bRBaP4jUrNI5OTXLSeP6QaTluA92+BgHw6M6M2PdiuLzA+kfHs0Tiz8nuonWcO60aBjE0fTSuSExPZOebU69vpjYtwcr98RVOt4qpCFdWjZny2Flp4LrupZUYd3WrWWFa19Q5TJlr31f3um69q09cJC1Za59J13csxuLd+6pukaInEJtyCABwBjjC5wPbC0OaDwCxFhrewH3ujnlc2tt/+LndwJTio8/CowrPn5J8bE7gJestb2BfsBhN+9/mzFmvTFm/bRp085q286E28yoU3zT+O76RTzwzdsczTxO/zYdAbim9whmb11V8g2xiCe4+xn23zImi6zlmrc/ZPxLb9GtVRjRzbQId8tdP5+im99Zv4ipX7/N0YzjDAjvWHJ8Y3wsjyz4gP+s+prLug+uoorWbhXHrvt52hIcEMDwDtFc9vp0LvzPNOr7+TG+W5eSIm98v4pLXnuLBdt3cmXf3lVb6drG/nIf/1Im2aW9evLKihVc8dbbvLJ8BQ+PHXsWK1gHuOs+Nx3de8IgLn7sWsY/dCV5WbnsWLQRgMbhzbj0yRu48JGr6TSyB9+/+V3V1rcWcn/tO7UpA0axM/EIu5Jd9366qd8IPv7vKmVNnlblTj5Vbw2IDGdi3+68uPD7cscb+Pvx76sv4R/fLSMrL/8UZ3sX9zszKszLbtccpde+iW9M56JXp1HPz4/xXbuUK3fT4AEUFNmSzECpKsbD/2qm2pBBUt8Ys6n475XAdOB2YLa1NgXAWutuM2B3Y8xTQAgQBCwoPr4KmGGM+Qz4vPjYauARY0wbXIGVStkj1tppwMnIiF0z+6Uzb9nvNCq6J8MjuwMQd6w41TLV9Vxo/SDScp2nPNdiWXtoD+M79WXVwR20C23O7QPPByAooB49wiIoskX8t/g+AyLVISnDSViZtNXmwUEkZ556HJ+KMy+PDQcPMSQ6gtjk1LNZxVorJronw6Nc88WBCvNF4wa/br44v1NffojbUe65PSnxNAtqRJB/PZz57rYveIekTCctgsuP3ZQKY9ddmWRnFv0j2hKflkFaTg4Ay/bspUfrlszfXn5BuGDHLl688jLe+sE7bz6c7HTSvEz/NQsKqnTD2iQ3ZU6XPQIwvmtXXlq2HIBle/bw0Jjzzl6la6ndK7YSu2o7AI3btSD7eOlYzj6eRQM32SMnM0p8/HyIHtyFHYtdN7H0K75pK0Dr7hGsm/k9uc4c6gXVr8om1HhjO/ZkdHvXnBybmkiTwCAovi9rk8Agjue4n5Ov6DGQhvXq88KK0nsRRTVpzj1DXWu4hgH1OKd1BIVFRaw/rDXcSYkZmbRsVDo3tGgUTJKb9UXHFk35+6VjueP9z0nPKb2m+Toc/PvqS/h2y04W79ANcE9KynSW227kuq5VvvY1bxgMR0rLpJy89qWXXvuWn7z2FQdDLujelXOjo7h7pu4JJZ5RGwIkOcWZHSWMMYbTB9kBZgCXWms3G2NuAkYCWGvvMMYMBC4ENhljeltrPzbGrCk+tsAYc6u1dulZbsdZsyx2C8titwDQMyyCmPa9WHtoD1GNw8g+kec2Xb55YCOSstIB6N0qkoRMV0zp4e9mlJS5pd8YNh89oOCIVLvt8QmENw6hVUhDkjKcjOvWmb98Me9XnRvSoD4FhUU48/II8PVlYGTbSr+A482Wxm5haZn5YnT7Xqz5jfPF0eL5ouzxtiHN8HX4eHVwBGDnUdfYbdmoIcmZTsZ07czf5pYfuyv3xXJFn94s3Lmb7q1a4szLJzUri8SMTLq3CiPA15e8ggL6t2tb8isq4aEhHDqeBsCwDtEcTPXemwLuSkigTUgoLRs2JNnpZHTnTvx9XvlshFWx+5nYuxdLdu+ma8swnPn5vxggSXE66d2mDZsOH6ZveDiH09Kqshm1QqcRPeg0ogcAR7bGsXvFVtr160BqXCL+9f3dbq/JSXdtu7HWcmjz/pJtNDnpWdRr2ABjDClxiVhrCQisV63tqYkW7tnCwj2uOfmc1hGM69iLH+P20KFpGNn5eW6318S070bPVm15cvHn5Ra/f/pyRsnfdw4ew8YjBxQcqWDbkQTaNgmhdUhDkjKdXNCjE/8zq/wc3bJRMC9dcwn/O/s7DqYeL/fcE5eNZX9yKu/9uKE6q13j7TyaQHhomWtfl848+nWFa9/eWK7s25tFO3fT7TTXvn7t2rKr+No3KDKC6wf2586PPyOvoMADLfMutuYmcXhUbQiQuLME+MIY8y9rbaoxprGbLJJg4Kgxxg+YTHH80hgTba1dA6wxxlwMhBtjGgH7rbUvG2OicN3npMYGSMrakhBHj7AInhl/I/mFBbyzflHJc/eeO4H3NiwmPTeLW/qPpb6fPwY4lJ7CBxuXea7Sdcyz/3cd/ftGExISyOLv/sarbyzgi6/W/vKJUqLQWp6dv4xXr7kch8Mwd9M29qekcnmfngDM2biFJoEN+HDKZAID/LHWcu2APlzxxns0Cwrk75eMx8cYjDEs2rmHlfsOeLhFNdOWhDh6tozgH+cXzxfrSueL+4ZOYMZ613wxZYBrvgA4lFY6X/Rt054h7bpQaIvILyzgjdVKmS+0lucXLuPlSZfjMIavt2zjQEoql/V2jd0vNm1hVewBhkRFMuf2W8g9UcCT81wJjduPJrB0917ev/k6CouK2JOYxJebXL9M8ceRw2jbOJQia0nIyODZ+d75Czbg6uN/LVvKC5dPxGEM327bTlxqKhN6uvr4qy1bWH3gAIMiI5h5y83kFhTwzIKFJec/dsH5nNMmnEb16zHnD7fyzurVfLttO88tWsy9o0bi43CQX1DAc4sWe6iFNVOr7u04sv0gcx/7EB9/XwZfP7rkuWWvfs3AyTE0CAlk1buLyHXmgIXQNk0ZcM0IAH7+byx7V27DOBz4+Pky9JaxGHc5917sv0fiOKdVBC9NuJH8ggJeX106Jz88agJv/rSY4zlZ3DoghuSsDJ4aNwmAtYf2MWer1hm/RmGR5elvljLtxstxOBx8sXEbsUmpXNXfNX98tm4Ld4wcTKMG9fnbxa4xXlBUxKQ3PqJP29ZM6N2N3QnJzLnLdavDfy/6gZV7tcYotJbnFy3jpatc175vtla+9v24/wBDoiOZfdst5BYU8FSFa997N5W59m12XfseGBODv48PL0+6HHDdqPW5hd57/RPPMDV936IxxmmtrXQLY2PMjcD/4LrZ6n+ttTeV/ZlfY8ydwIPAQVw/ExxcXOZzoAOujU9LgPuAh4HrgBNAAnDtKbbtnGSneHCLjTeYfsW99OjzgKerUadt3fgCfZ560dPVqNM2/nUqALfM0nxRld658l4G/kNjuSqteXgqw178l6erUaetnHo/Tyx52dPVqPMeHX0Pkz7UnFyVPr3uXrr97QVPV6NO2/7kAwx6Vte9qvTTQ1OhJt8o4yzocMnfPRoI2Dv3sRrZvzU+g8RdcKT4+HvAexWOPV7m79eB192cN9HNyz1T/E9ERERERESkbquR4QnPqzW/YiMiIiIiIiIiUlVqfAaJiIiIiIiIiJxNSiFxRxkkIiIiIiIiIuL1FCAREREREREREa+nLTYiIiIiIiIiXsRqh41byiAREREREREREa+nAImIiIiIiIiIeD1tsRERERERERHxJtpi45YySERERERERETE6ymDRERERERERMSrKIXEHWWQiIiIiIiIiIjXU4BERERERERERLyettiIiIiIiIiIeBGrHTZuKYNERERERERERLyeMkhEREREREREvIkySNxSBomIiIiIiIiIeD0FSERERERERETE62mLjYiIiIiIiIhX0R4bd5RBIiIiIiIiIiJeTxkkIiIiIiIiIt5ECSRuKYNERERERERERLyeAiQiIiIiIiIi4vW0xUZERERERETEi1htsXFLGSQiIiIiIiIi4vWUQSIiIiIiIiLiTZRB4pYySERERERERETE6xlrrafrUBup00REREREROquOp1jEXXVUx79TLv/s7/WyP7VFhsRERERERERr1Ij4xMepwDJ7/T3xS97ugp12mPn3UOfp170dDXqtI1/nUqPPg94uhp12taNLwAw8B8ay1VpzcNTueDNf3u6GnXavNvv4+qPXvJ0Neq0mZPv5bJ31cdV7Yub72Xsa5ovqtLCu+5TH1exhXfdR9+ntbaoShsemerpKoiHKEAiIiIiIiIi4kX0M7/u6SatIiIiIiIiIuL1FCAREREREREREa+nLTYiIiIiIiIi3kRbbNxSBomIiIiIiIiIeD0FSERERERERETE6ylAIiIiIiIiIiJeTwESEREREREREfF6ukmriIiIiIiIiDcxukurO8ogERERERERERGvpwCJiIiIiIiIiHg9BUhEREREREREvIg1nv33axhjxhtjdhtj9hljHj5FmZHGmE3GmO3GmBVn2i+6B4mIiIiIiIiI1BjGGB/gVWAMcBhYZ4yZa63dUaZMCPAaMN5a+7MxpvmZvq8ySERERERERESkJhkA7LPW7rfW5gMzgQkVylwLfG6t/RnAWpt0pm+qAImIiIiIiIiIVBtjzG3GmPVl/t1WoUhr4FCZx4eLj5XVEQg1xiw3xmwwxtxwpvXSFhsRERERERERqTbW2mnAtNMUcXenElvhsS/QFxgN1AdWG2N+stbu+b31UoBERERERERExJv8yhuletBhILzM4zZAvJsyKdbaLCDLGPM90Av43QESbbERERERERERkZpkHdDBGBNpjPEHrgbmVijzFTDMGONrjGkADAR2nsmbKoNERERERERExJuYmp1CYq0tMMbcDSwAfIB3rLXbjTF3FD//hrV2pzFmPrAFKALettZuO5P3VYBERERERERERGoUa+08YF6FY29UePxP4J9n6z21xUZEREREREREvJ4ySERERERERES8SMWfgxEXZZCIiIiIiIiIiNdTBomIiIiIiIiIN6nZ92j1GGWQiIiIiIiIiIjXU4BERERERERERLyettjUctZaNsxaSfz2g/j6+zHo+tE0btusUrnV7y8had8R/Or5AzD4+tGEhpeWSz2YyMJ/zuHcW8bStk/7aqt/bTEkKoI/jxuJj3HwxaatzPhxXbnnI5qE8vjF4+gc1pxXl6/ig582AODv48PbN0zC39cHH4dhyc69vPH9ak80oVZ74rFJDB/WhWPHnEy86nlPV6dWGRQZwdTzRuJwOJi7eSvv/7SuUpmp541iSHQkuSdO8OS3C9idmATA1f37MKFndywQm5zCk98uIL+wsOS8yQP6ck/MCMa+9BrpObnV1KKa7/YhI+jfNpK8ghO8uHwhsSnJlcpc1K0Xl/Y4h1aNQrj6vTfIyHX1X5uQUO4fOZb2TZvx3tof+XzLxuqufq1xY98RnNM6gryCAl5fvZC445X7+e4h44hq0oLCokL2pSby9pqlFNoiujZvzZ9HXEySMwOAtYf28fm2tdXdhBpvysAR9G3j6uNXfljI/tTKfXx+l55c3PUcWjYM4YaP3yQzzzWWG/j5c9/wcTQNCsbHOPhq20aW7ttR3U2oke4aOoL+7VxzxPNLFrLPzRwRFtyQv4y9gOCAAPamJPPc4vkUFBXRwN+fh88bT7OgYHwcDmZv2sDCXTvw8/HhhUuvxM/HBx+Hg5Wxe/lg3U8eaF3NcCZ9fGXvvsR07AyAjzGEhzbmqnffJDMvDwCHMfznimtIyXLy6Ly51dqummpwVAR/HutaJ3+5aSszVldeJz92kWud/NryVXywpnSd/NYNk/D3KV4n79rLm1onVx9tsXGrzgZIjDGPANcChUARcLu1do1na3X2xW8/SGZyOhc/fh2pcYmsm7mccQ9e6bbsOZcOcRv8KCoqYtOXqwnrEl7V1a2VHMbw0Pkx3PXRHBIzMvlwymRW7InlQMqxkjLpObk8t2AZozqV79/8wkJu/3AWOSdO4OtwMP3GSayKjWPrkaPV3Yxa7auv1/HJpz/w9BPXeLoqtYrDGP5nbAx/mjmHpMxMZtw0mZV7YzmQWjp2h0RFEh4awhVvvkP3Vi15cNxoprz/Cc2CgpjU9xyufvs98goKeHrChYzp2olvt7o+4DQPDmJARDuOpmd4qnk1Ur/wCFo3CuXWmTPo1DyMu4eO5v4vZ1YqtyMhnrUHD/DsJVeUO56Zm8sbq5YzOCK6uqpcK/VuFUHLhiHcN/c92jcJ49YBMfx1waeVyv0Qt5v//LgAgD+dO56Y9t1YtHcrALuS43luuT7cnEqfNhG0ahjCXXPeo2OzMG4fHMND31Tu412JR1l/6ABPjS8/ls/v0otD6cf4vyVf0zCgPv+5/Aa+37+LgqKi6mpCjdS/rWuOuPmjGXRuEcY9I0Zzz5zKc8SUwUP5fPNGlu/bwz0jYhjfpTvfbN/CJd17cfDYMR6dN5dG9eoz/dobWbpnFycKC3nwqznkFpzAx+HgX5ddxbqf49iVmFD9jfSwM+3jWZs2MGuT6wP8oHaRTOzVpyQ4AnBZz978fPwYDfz9q6tJNZrDGB4eH8NdH7vWyR/cMpkVeyuvk/+5cBkj3ayT7yi7Tr5hEqv2xbEtXutk8Zw6ucXGGDMYuAjoY63tCZwHHPJsrarGkS0HiBzYCWMMTSPDyM/JJyc96ze9xp7lWwnvHU294AZVVMvarXurMA4fS+NIWjoFRUUs2L6LkR3Lf3g5np3DjqOJbhd+OSdOAODrcODrcGCtflTrt9qwcT/p6dmerkat07VlGIePpxGf7hq7i3bsYniH8mN3eIdovtvmCnpsiz9KcEAATQIDAfBxOAjw9cXHGOr5+ZGSWTq33D96JP9Z/j1WPxJXzqCIaJbs2QnA7qQEAgP8CW1QeW7dn5pckr1QVnpuDnuTEyn08g+Rv6Rfmyi+3+/q532pCTTwDyCkXuV+3hQfV/J3bGoijRsEVVcVa70BbaNYts/Vx3uSEwj0DyC0fuU+PnAsmWRnZqXj1lrq+7o+QNbz88OZl6txDQyJjGbRble/7kpMINDfn8Zu5ojercP5PnYvAIt27WRIZOnc3cDfD4D6fn5klunX3ILS9YaPw+G1v+F5Nvr4pJEdOrFs7+6Sx00DgxjQLpL5O7dVUe1rn26twjhUZp28cMdp1smFv7BO9nHgtQNXaow6GSABWgIp1to8AGttirU23hjT1xizwhizwRizwBjT0hjTyBiz2xjTCcAY84kx5g8erf1vkJ2eRYOQ0gVfg5BAstPcB0g2f72GeU/PZMPsHyg84UqTz05zcnjzftoP61Yt9a2NmgUHkZBRuvhLynTSPDj4V5/vMIZPbr2OxVPvYM2Bn9kW733f5ohnNA8OIjGz/NhtVmHsNnNbJohkp5OP1q7nq7tu5ds/3Y4zL481cQcBGNY+imSnk71JKdXTkFqkaWAgyVml/ZmS5aSpPpSfdY0bBJGa7Sx5fCzbedrgh49xMCyyM5vjD5Yc69A0jGcvuJaHR02gTaPGVVrf2qhJgyBSs0r7ODXr9H1c0bydm2kTEsr0Sbfy70snM33NCn3sAZoEBpYLKKVkOWkSWL5fG9arhzM/j6LiL1RSsjJpWhy4/mrrJsJDG/PJjX/gzauv4/Uflpf0q8MYXr9qMp/dfBsbD/3MriTvXG+caR+fFODrS7+2Efywf2/JsTuHjuDt1T9QpMFcouJaIzGj8lrjdBzG8PGt17Ho/jv4ab/WyeJ5dTVAshAIN8bsMca8ZowZYYzxA14BrrDW9gXeAZ621qYDdwMzjDFXA6HW2rc8V/XfyM0EbdzsJ+s9YRAXPXot4x68kvzsXHYscu1r3zD7B3pfOhiHo64OhTPnrj9/y7fmRdZyzdsfMv6lt+jWKozoZk3OYu1EfpuKY9ft9lNrCQ4IYHiHaC57fToX/mca9f38GN+tCwG+vtw0ZCBvrvyxWupb+1TuUa2jq8fp+vmWAaPYmXSEXcnxgCvr4e4v3+WheR8zf/dmHhh+cfVUspb7LWP5nNbtOHAshSmfvs3Urz7mD4NGUt9PWxKMu0VFxTKnmUf6hbdjf0oy17z3Fnd++hF3DxtFg+J+LbKWOz/7iGvfm06nFi2IaOyd640z7eOTBkVEsSMhvmR7zcB2kaTlZLM3OelsVLPOcNfbvyVbusharn37Q85/+S26a50sNUCdvAeJtdZpjOkLDANGAZ8CTwHdgUXFE6cPcLS4/CJjzJXAq0Avd69pjLkNuA3gzTffhKiqbsWp7VmxlX2rtgPQpF0LstNKv+HJTsuifqPASuecPObj50PUoC7sXPJfAI79nMSqdxYCkOfMIX77QYyPg/BeHmxgDZOU4SSsYWkkvHlwEMmZztOc4Z4zL48NBw8xJDqC2OTUs1lFEbeSMp20CC4/dlMqjF13ZZKdWfSPaEt8WgZpOTkALNuzlx6tW7I3KZlWjRrx4S3XF5cP5v2bruPm9z/mWJZ3boO6qFtPxnXuAcDe5ASaBZb2Z9PA8pkO8vuN7diTmOjuAMQeS6RJmWyGxg2COH6Kfr68x0AaBtTnxTVLSo7lFOSX/L0pPo4p/UcRHFCv5Aaj3ur8zj0Z09HVx/tSEst9694k8NR97E5Mh658vnU9AAmZ6SQ5M2jTKJS9KYlnt9K1wMXde3JBV9ccsTspgWZBFeaIrPL9mp6bQ5B/AA5jKLKWpoHBpGa5soPHdunGpxtdN8CMz0gnISOD8NBQdieV9mtWfh5bjhymX9t2xB3zjvXG2ezjk0a271hue023lq0YFBFF/7aR+Pv60MDPn4fOG8ezixdUYctqvsQK64gWDYNIcf6+dfL6nw8xJErr5GrzK4KJ3qhOBkgArLWFwHJguTFmK/BHYLu1dnDFssYYB9AFyAEaA4fdvN40YNrJh39f/HIV1fyXdRzRg44jXBeBI9vi2LNiK+36diA1LhG/+v5uAyQ56a7AibWWw1v2E9LSFZ2d8MQNJWVWv7+E1t3bKThSwfb4BMIbh9AqpCFJGU7GdevMX76Y96vODWlQn4LCIpx5eQT4+jIwsm2lX8ARqSo7j7rGbstGDUnO/H/27ju8qiL/4/h7kpBAcgMJEAgtpID0LlV6F1dBZQVFV1DWthbAsu76s6y69oplFRXpdgFRSghNAWkihBIIBIK0VCCkkJByfn/ckHpRdyX1fF7P4/Mk587JnfNlnDNn7nfmpjGsbWse/6Z42/3hYAxju3YmPGo/7Rs3Ii3rPMnp6cSfTaV940C8PDzIysmhe/MgouLiiUlM4sq33is4f+HdtzNx1nxbf4vNt3si+XZPJODcHPDqdp1ZF7OfVg0CST9/ntMZ9pw4utTCoyMJj3bGuUvjYEa06sTGI9G0qBdIxvkszmSWjvOgsHZ0ahTEM6u+LvbpcJ2a3qTklw+r1xBjjO0nRwCW7Ytk2T5njLs1DWZUm06sPxzNZQHOGJ8+9/vbclJ6Kh0bNSMq/gR1anrTuLY/cakpZVX1Sm3J7kiW7HbGtUfzYEa378zag/tp3dDZR5xy0UfsPH6U/mEtWXswmmGt2/Dj4RgAElJT6dI0iN0nT+BXy5umfv6cPJtCnZq1yMnLI/18Fp7u7nRpGsTnP28r1+usSJcyxgDenp50aNyUFyOWFxybuWkDMzdtAKBj46aM7dzV9pMjAHsvjJPr1CYhNY3hbVvz2KL/cZwcHMTsHzVOlopVLSdI8vcTybMs68Kiwc5AFDDcGNPbsqwf85fcXGZZ1h5gav7r/wRm5pfJrpDK/5cat2vO6h/p5wAAIABJREFUiT1HWPLUPNw9Peh185CC19a8s4SeEwbj7efDxlkryUw7Bxb4N61P9/EDKrDWVUuuZfHi8jW8c+P1uLkZvtmxm0NJyVzftSMAX22PpJ6PN/Nun4CPlyeWZXFTj66MfW82AQ4f/nXNSNyNwRjDyqhofjh4uIKvqOp58bmb6d4tDD8/HyKWPc47761g4WJ9JedvybUsXglfw/Rx1+NmDEsid3M4KZlrOzvb7sIdkWyIOUyf0BC+uvM2MrNzeGapc7C352Qcq/cfYM6km8nNyyM6PoFFO3ZV5OVUCVt/iaV7UAgfjZ9IVk4Or68NL3jtX1eO5s11EZzKSOea9p0Z26kb/t4+vDP2Zrb9Esub30fgX8ubN6+7EW9PT/IsGNOhC3d+Ppdz2ed/5V3t5+cTsXRuEsyb19xKVm4O7/24suC1vw8czYzNEZw+l87kHoNJSj/LM8PHAYVf59srqAVDW3Ykz8rjfG4O09cvq6hLqbR+OhZLt6bB/Od6Z4zf+qEwxv83bDTvrHfG+Ko2nRjToRv+tXx4Y8wEfjoWy7sbVvH5ji3c328Yb4yZgAHmbluvSShgy5FYegSFMGuCs494ZXVhH/HsVaN5bY2zj/hw03r+OWwUt/bsQ0xiAsujnJnD87dt5uEhw3l/3M0Y4KNN6zmbmUlIvfo8PHg4bm4GNwzrYg6w+Yg9xxt/NMYAV4S0YPvRI2Tm5FTEJVQpuZbFSyvW8PaN1+PuZli80/U4ee5thePkG3t05c/vz6a+w4d/XV04To7QOFkqAVMdv1Ejf3nNW4AfkAMcxLk8pikwHaiDc3LoDWAdsBjoYVlWqjHmNSDVsqwnf+UtKjSDxA6eHHo/XZ99raKrUa1t/79pdOj6YEVXo1rbtf1VAHq+oLZcljY/Oo1R779R0dWo1pbeOYXx89+s6GpUa59OeIBrP1aMy9rCSQ8w/F31F2Up/J4pinEZC79nCt3+rbFFWfrpsWlwka3aqougiS9U6ETAL7MerZTxrZYZJJZl/QT0cfFSEtDfxfE2Rc6dVlb1EhEREREREZHKSV9dIiIiIiIiIiK2pwkSEREREREREbE9TZCIiIiIiIiIiO1Vyz1IREREREREROQiKuUWqRVPGSQiIiIiIiIiYnvKIBERERERERGxE2WQuKQMEhERERERERGxPU2QiIiIiIiIiIjtaYmNiIiIiIiIiK1ojY0ryiAREREREREREdtTBomIiIiIiIiInSiBxCVlkIiIiIiIiIiI7WmCRERERERERERsT0tsREREREREROxES2xcUgaJiIiIiIiIiNieMkhEREREREREbMSq6ApUUsogERERERERERHb0wSJiIiIiIiIiNieltiIiIiIiIiI2Ik2aXVJGSQiIiIiIiIiYnuaIBERERERERER29MEiYiIiIiIiIjYniZIRERERERERMT2tEmriIiIiIiIiJ0Y7dLqijJIRERERERERMT2NEEiIiIiIiIiIranJTYiIiIiIiIidqIVNi4Zy7Iqug5VkYImIiIiIiJSfVXrKYRmd75Uoc+0R99/pFLGVxkk/6Ph775R0VWo1sLvmcJtX7xZ0dWo1mb++QF6vvBaRVejWtv86DQAOnR9sIJrUr3t2v4qN8xVf1GWPr/lAcZ8rBiXpUWTHqCH+uQyt+XRafR99fWKrka1tv7BqQx8QzEuS2unTGXQdD2LlKU190+p6CpIBdEeJCIiIiIiIiJie5ogERERERERERHb0xIbERERERERETuplDuAVDxlkIiIiIiIiIiI7SmDRERERERERMROlEHikjJIRERERERERMT2NEEiIiIiIiIiIranCRIRERERERERsT1NkIiIiIiIiIiI7WmTVhERERERERE70SatLimDRERERERERERsTxMkIiIiIiIiImJ7WmIjIiIiIiIiYiPGaI2NK8ogERERERERERHb0wSJiIiIiIiIiNieJkhERERERERExPY0QSIiIiIiIiIitqdNWkVERERERETsRHu0uqQMEhERERERERGxPU2QiIiIiIiIiEilYowZaYzZb4w5aIx59FfKdTfG5Bpjxv7R99QSGxERERERERE7qeRLbIwx7sA7wDDgGLDVGPONZVl7XZR7EVhxKd5XGSQiIiIiIiIiUpn0AA5alnXIsqzzwKfAaBfl7gO+AhIuxZtqgkREREREREREKpMmwNEivx/LP1bAGNMEuBZ471K9qSZIRERERERERKTcGGPuMMZsK/LfHSWLuDjNKvH7G8DfLcvKvVT10h4kIiIiIiIiIlJuLMuaAcz4lSLHgGZFfm8KnChR5nLgU2MMQH1glDEmx7KsRf9rvTRBIiIiIiIiImIjppJv0gpsBVoaY0KA48B44KaiBSzLCrnwszFmFvDtH5kcAU2QiIiIiIiIiEglYllWjjHmXpzfTuMOzLQsa48x5q781y/ZviNFaYKkGrin7wC6Nw8hKyebV1aFczApsVSZQN/a/HP4KHy9vDiQlMhLEcvJycvjz527Mfiy1gC4G0Mz/7rc8PH7pGZllfdlVHo3dR5Ah0bBnM/J4aOt4fxypnScJ10+lGD/BoAhPu00H21ZSVZuNp0bh3Jtu95YWOTl5fHJju85kFwyQ8x+eoUEM23oQNzc3Phm5y7mbNpaqsy0oYPoExZCZnY2z3y3gv3xzg2qx3fvyuiO7bGAmMQknvluBedzC5cfTujRjfsHD2D4m++Sci6znK6oanv6yXH079eGU6fSuO6GVyq6OlXWpO4D6NI4mKzcHN7dGM7hU6X7ivv6jiCsbkNyrFxikuKZsWk1uVYelzcNZVzn3liWRa6Vx6yt37M/UX2FK5N7DqBb02CycnKYvj6cQ8ml4zyqTUeubtuFRrX9uGXB+6RmOfsC7xqeTO0/gvoOX9yNG4t2b2f1wb2lzrebXiHBPJjfJy++SJ/8YJE++ekiffK4y7swplMHDLBo5y4+3fYzAPcN6k+/FqFk5+Zy/EwKT3+3gjQbjzF6BjfngUEDcTNufLt7N/O2lI7xA4MG0jskhMycbJ5bHk50QgKe7u68Pe4GPN3dcXdzY82BA8zc+CMA9/TvxxVhzhifOJPCcyvCbR1jgPsGDKRXiLOdvhAezoHE0l9uEVi7Nk+MGkVtr5pEJybw3HLn2DjI35+/Dx9Oy4AGfLRxI59t/6nYeW7G8P6NN5GUlsY/vllcXpdUKd3XfwA9g51t9cWV4RxIdPEMUrs2T4wchW9NLw4kJPJcuDPOQ1u1Yny3ywE4l53NG2tWE5OURDM/f564clTB+Y3q1ObjTZv4asfP5XZdUnlYlrUUWFrimMuJEcuyJl6K96yWm7QaY641xljGmNYVXZey1j0omCZ1/Jk0fxZvrF3F/QOGuCx3e+++fL1zO5MWzCYtK5ORbdoD8MWOn7j78/nc/fl8Zm7awK4TxzU54kKHwGAaOvz4x7LZzP5pFX/pOthluU92fM+TKxfw5Mr5JGekMqRFJwCi4o/y5Mr5PLVyATO3RTDxctf/TnbiZgwPDx/MlM8XMv6DWQxv25qQenWLlekTGkIzfz/Gvj+TF5ZH8MgIZ9wCHA7GdevCxNkLuOmjObgZw7C2rQrOa+DroEdwc06mnC3Xa6rqFi/Zyt33flDR1ajSujQOJtDXj/sXz2bGplVM7um6r1h/aD9TvpnDQ0vm4+nuweCW7QDYFXeUh7+dzyPfLeA/GyO4q7f6Cle6NQ2mUW0/7v5qNu9uXMVdvV3HOSr+JE+u+JqE1OJ9wag2nTiacoqpixfwf8u+YlKPfni4Vcsh0e/mZgyPDB/MA58vZNwHsxjxK33y9e/P5PnlEfw9v08OrV+PMZ06MHH2AibMnEvfFqE08/cDYMvhI9z44WwmzJzLL6dOM7F3j3K/tsrCzRimDRnMQ18v4uZZsxnaqhXBdYvHuFdIMM38/Rg/82NeXhnBQ0Odbft8bi4PfPElE+fOY+LcefQKbk67RoEAbD1yhL/MmsPEOfM4evo0t/ToXt6XVqn0DA6mqb8fE2Z9zKurIpg6xHX/cGfffny5fTs3z55FWmYWo9o7x8ZnMzOZvnZtqYmRC67v3IUjp06VWf2rip7Ng2ni58/Nc2bx6upVTB3k+n515xV9+eLn7dwyZzapWZmMaueM88mUs0z56ksmL5jP3C1beHDwUACOnjnNXz+Zz18/mc+dny4gKzuH9TEHy+26RKrraOBGYD3OdUrVWp+QMFbujwJgX3wcPp6e1PX2LlWuc5NmfB9zAICV+6LoExJWqszAlq1Yc2B/2Va4iurSOJSNR5xxPnQqDm9PL+rULB3nzJzzBT97untg5W+0nJWbXXDcy92j1PbLdtS2USDHTp/hREoKOXl5rNy7j/4ti7fL/i3DWLbb+anu7hMn8fXyop6PDwDubm54eXjgbgw1a9QgKTW94LypQwby9trvC+Ivv89P2w+RkpJR0dWo0i5vFsr3h5x9xYGkOHxqeOFXq3Rf8fOJ2IKfDybHU8/bAUBWTpG+wkN9xcX0CApl7UFnnKMT4/Dx9MLfRZwPn0okIS211HHLsqjl4QlAzRo1SMvKJDcvr2wrXcm1K9Enh1+kT17qok8OqVeX3SdOkpWTQ65lsf2XYwy8rAUAm2OPkGtZBec08HWU74VVIm0CAzl2pjDGEfv307dF8Rj3Cwtj+V5n295zMg5HkfveuWxn/+Dh5oa7mxv5YWXrkV8KYrzn5EkCbBxjgCvCwlgR5Yzh3rg4HJ5e1PX2KVWua7NmrDvgHBsvj9pL3zDnv8WZc+fYHx/vsk8IcDjoFRLCd7t3l+EVVA1XhIYRvs8Z56i4OHy8XD+DdGnajHUHnXFeERVF31BnnPfEnSzIdNobd5L6jtLttmuzZpxISSE+tXQ/LlJWqt0SG2OMA7gCGAR8AzxljHED3gYGAIdxTgzNtCzrS2NMN+A1wAEkARMtyzpZIZX/H9Tz8SGxyOAvKT2Nej4OTmUUPuTUrlmTtPNZ5OXfPJPSU6nvU/xG4eXhweVBwbzzw5ryqXgV41/LwamMtILfT2Wk4V/LQUpm6YfJ2y4fRodGwZw4m8xnO38oON61cRjXd+iDb01v3vzB3imZ4MzyKHrDS0hNo13jRsXKBLgoE+DrYF9cPPO3bGPxPZPJyslh8+EjbI49AkC/FqEkpqVxICGpfC5EpIi63g6S0gv7iuSMNOrWcnDmnOuJJ3fjRr+Q1szatq7gWPdmYdzUpQ91anrz/Gr1Fa6UinN6GnW9HZy+SJxL+i5qJ48NvZqZ4yZTq0YNXlm7zPaTUa7625J9sqt+u4Gvg5ikZO4e0Jc6NWuSmZPDFWEhRMXFl3qPqzu2Y2VUdNldRCUX4HCQUCR+ialptM3PArmgfokyCalp1Hc4SE5Px80YPrr5Jpr4+bFwx072xsWVeo+r2rdn1X57f9gV4OMgsWic09IIcDg4lVH4QUqdmjVJy8oqmFhKTE0lwOe3J5buHTCQ99f/gLen56WveBVT3+FTrK0mpTnbaqlnkKzCZ5DEtFTqO0pPVo1q244tR2JLHR/cshWrou3dnstU5d+ktUJUxwySMcByy7KigVPGmK7AdUAw0AGYDPQGMMbUAN4CxlqW1Q2YCfzb1R8t+j3NM2b82rcRlS/zO7YfNi5af8mBYK/gUPbGndDymotxEWbrIqPpmdtWMm3Jh5w8e5oezS4rOL79RAyPrZjL2xuWcG373mVU0aqtZMaHy9ZtWfh6edG/ZRjX/ucjrnp7BrVq1GBkuzZ4eXgwsU9P3v9hY7nUV6QkV2321x68J/ccRFTCcfYlFO4zsvVoDFO/mcvLa5cwrrP6Clf+6JiuS5PmHD6VxG2ffcjUxQu4o9dAatWw9wOP65j+9rSRZVnEJp9izqatvDX+eqaPu44DCYmlPn2f1LsHuXkWy/dEXZL6VkWuhmyl7nsuOxFnmTzLYtLc+Vw340PaBAYSUq9esWJ/6dmD3Lw8wqP2XaoqV02/I86uAv1brb13SAinMzKITii9n4kduXq+KB1mF3EuUaZz06aMateeGRvWFzvu4eZGn9DQgiwfkfJS7TJIcC6veSP/50/zf68BfGFZVh4QZ4y5kCbRCmgPrMz/H9gdcJk9UuJ7mq0v333DVbFycXX7joxq2wGA/QlxBDh8C16r7+MgucinagApmedweHrhZgx5lkV9H1+S09OLlRnY4jItrylhcFhH+oc610kePhVPXW8HJDtfq+vt4Exm2kXPtbDYcjSaK1t1Y31s8Y3/opNOEOCog8OzJmnn7bt5aEJqGg19C9tuA18HSalpv1kmMS2d7sFBnDhzljPnzgGwJvoAHZo04kBCIo3r1GHebbfkl/dlzsSbmTRnAafStXREysaIyzoypKWzr4hJjqe+j4P9+fvU1fN2cPqc675ibMee1K5ZixlrV7l8PSrhBIG+dfD1qlmwuaidXdm6I8Mvc8b5QJIzzhc4Mycv3ieXNKRlW77etQ2AuNQU4tPO0rSOPweSSmc92IXL/vZ39skA30Tu5ptI57KDu/tfQUKRc69q35a+LUK555Mvy/ISKj1nxk1h/AJ8HSSlFR+PJZYo08DXQVKJMVtaVhY/HztGr5BgDic7ByYj27alT2gID3zxVdldQCU2pmMn/tTB2T/si4snoGicHaXjnHLuHA4vL9yNIdeyCPD1LZaV5kr7xo25IjSUXiHBeLp74O3pyWMjRvLvFcsv+fVUVmM6duSqds5nkH3xcc62mv/kVN/hKBXDC3G+8AwS4Cj+DBJarz4PDRnKo4sXcTaz+H2uZ3Aw0YkJvzszUP4HyiBxqVpNkBhj6gGDgfbGGAvnhIcFLLzYKcAey7Kq1Ed0S3ZHsmR3JAA9mgczun1n1h7cT+uGgaSfP18ste2CnceP0j+sJWsPRjOsdRt+PBxT8Jq3pycdGjflxQj7dPC/x+qYSFbHOOPcMTCYIS06sfloNKF1A8nIznK5vKaBTx0S0lMA6Nw4hJOpp0odD/ILwMPN3daTIwBRJ+NoVtePRnVqk5iaxrC2rXn8m2KbVPPDwRjGdu1MeNR+2jduRFrWeZLT04k/m0r7xoF4eXiQlZND9+ZBRMXFE5OYxJVvFW5svfDu25k4a76+xUbK1IroSFZEO/uKLk2CGdmqExtio2lZ39lXuFpeM7hFOzo1CuLpiK+LfeDW0LcO8anOviKkrrOv0OSI07J9kSzb54xzt6bBjGrTiR8OR3NZQCDp57P+q0F0YnoqHRs1Y2/8CerU9KZJbX/i8uNuV3vz++TGdWqTkJrG8Iv0yX920ScD+HvX4nTGORrW9mVQq5bcPucTwLnp6C29unPX/M/Jyskp78uqVPbFxdHMz59GtWuTmJbG0Fat+NfSZcXKrI85xPVdOhGxbz/tGgUWxNivVi1y8vJIy8rC08Ody4OCmL/V+Q04PYObM6HH5dz32Re2jfGiyJ0sitwJQK/gEK7t3InV+/fTNvDC2Di91Dk/Hz3KgJYtWR0dzcg2bdkQE1OqTFEfbNjABxs2AM6sh3Fdu9lqcgRgUWQkiyKd/XCv4GDGdOzM6uj9tAkMJD3L9TPIz8eOMqBFS9YciGZEmzZsOOSMcwOHL09f9SeeX7GCY2fOlDpv8GWtWG3z5WJSMarVBAkwFphjWdadFw4YY9bh3FvkemPMbCAAGAgsAPYDAcaY3pZl/Zi/5OYyy7L2lH/V/zdbjsTSIyiEWRMmkpWTwyurwwtee/aq0by2JoJTGel8uGk9/xw2ilt79iEmMYHlUYWXeEVIC7YfPUKmTW+qv0dkXCwdGwXzwpW3cj43h5lbVxa8NqXvaGZtiyAlM53bewwvSNM+eiaJududyUrdmragT/M25Fp5nM/N4b0fl7l8HzvJtSxeCV/D9HHX42YMSyJ3czgpmWs7dwRg4Y5INsQcpk9oCF/deRuZ2Tk8s3QF4Ny4bvX+A8yZdDO5eXlExyewaMeuirycauHF526me7cw/Px8iFj2OO+8t4KFi7dUdLWqlJ+Px9K1STDTx9zK+Zwc3t1Y2Fc8Ong07/8Ywelz6fy152AS08/y75HjANj8y0G+2rWFXkEt6B/ahtw8Z1/x+vfqK1z56Vgs3ZoG8971t5KVm8P0Hwrj/Piw0by93hnnq9p04toO3fCv5cObYybw07FY3tmwis93bOGBfsN4c8wEAOZsW2/7iahcy+LlEn3yoaRkrsvvk78u0id/XaJPBnjx2qupXasWuXl5vBy+qmDJ7sPDBzu/onb89YBzo9YXVrjOmqruci2L11av5rXrr8PNzfDd7j0cTk5mdEdnjBdHRvLj4cP0Dg3ms9snkZmdw3MrnOO6ej4+PHblCNyMwc0YVu+PZuOhwwBMHTyYGh7uvD72OsB5j3wlwp4xBtgUe5ieIcHMnziJrJwcXgwvHBu/MHoML0esJDk9nffXr+eJUaO4vc8VHEhIYOke59i4rrc37994E96enlhYjO3ShVvnziHj/PmLvKM9bYqNpWdwCPNunUhWdg4vRhTG+flrRvPKqgiS09OZsWE9j48cxe29+3AgMYGle51x/kvPntSuWZMpg5zfMpSbl8ddnzknVr08POjWLIjXVtu3HUvFMdbFNlKogowxa4EXLMtaXuTY/UAbnNki/YFowAt4zbKslcaYzsB0oA7OCaM3LMv6re+5tIZX4BIbOwi/Zwq3ffFmRVejWpv55wfo+cJrFV2Nam3zo9MA6ND1wQquSfW2a/ur3DBX/UVZ+vyWBxjzsWJclhZNeoAe6pPL3JZHp9H31dcruhrV2voHpzLwDcW4LK2dMpVB0/UsUpbW3D8FqvkilOApL1foREDsGw9XyvhWqwwSy7IGujg2HZzfbmNZVlr+MpwtwK7813fgnDgREREREREREZuqVhMkv+FbY4wf4Ak8Y1lW6e9GExEREREREanufse3odqRbSZIXGWXiIiIiIiIiIgAuFV0BUREREREREREKpptMkhERERERERERCtsLkYZJCIiIiIiIiJie5ogERERERERERHb0wSJiIiIiIiIiNieJkhERERERERExPa0SauIiIiIiIiInWiTVpeUQSIiIiIiIiIitqcJEhERERERERGxPS2xEREREREREbERrbBxTRkkIiIiIiIiImJ7yiARERERERERsROlkLikDBIRERERERERsT1NkIiIiIiIiIiI7WmJjYiIiIiIiIiNGC2xcUkZJCIiIiIiIiJie5ogERERERERERHb0wSJiIiIiIiIiNieJkhERERERERExPa0SauIiIiIiIiIjWiTVteUQSIiIiIiIiIitqcJEhERERERERGxPU2QiIiIiIiIiIjtaYJERERERERERGzPWJZV0XWoihQ0ERERERGR6qtab2Pa8u+vVOgz7YEXH6qU8dW32PyPBr/1RkVXoVpbfd8Uer7wWkVXo1rb/Og0Rr2vdlyWlt45BYAb5r5ZwTWp3j6/5QE6dH2woqtRre3a/ipB975c0dWo1n55+2E6P637Xlnb8cQ0hr6je19ZivjbFAZNV4zL0pr7p9DrxdcruhrV2qa/T63oKkgF0QSJiIiIiIiIiJ1UyvyNiqc9SERERERERETE9jRBIiIiIiIiIiK2pyU2IiIiIiIiIjZitMbGJWWQiIiIiIiIiIjtaYJERERERERERGxPS2xERERERERE7EQrbFxSBomIiIiIiIiI2J4ySERERERERERsRAkkrimDRERERERERERsTxMkIiIiIiIiImJ7WmIjIiIiIiIiYiNGa2xcUgaJiIiIiIiIiNieMkhERERERERE7EQZJC4pg0REREREREREbE8TJCIiIiIiIiJie1piIyIiIiIiImIjWmHjmjJIRERERERERMT2lEEiIiIiIiIiYidKIXFJGSQiIiIiIiIiYnuaIBERERERERER29MSGxEREREREREb0Qob15RBIiIiIiIiIiK2pwwSERERERERERsxSiFxSRkkIiIiIiIiImJ7miAREREREREREdvTEhsRERERERERO9ESG5c0QVJF3dt/AD2bh5CZk81LEeEcSEwsVSawdm0eHzEK35peHEhM5Pnw5eTk5dEnJJRJvXpjWZCbl8c7P6xj98kTACy49TYyzp8nz7LIzcvj7s8/Ke9LqxR6hQQzbehA3Nzc+GbnLuZs2lqqzLShg+gTFkJmdjbPfLeC/fEJAIzv3pXRHdtjATGJSTzz3QrO5+ZyZ78+9GsZhmVZnM7I4OnvVpCUll6+F1bJ3dlnAN2DQsjKyea1teHEJJVu139q14kxHbrQuI4f42e/x9nMTACa+vkzdeBwWtQPYPaWjXwdub28q18lTOo+gC6Ng8nKzeHdjeEcPlU6xvf1HUFY3YbkWLnEJMUzY9Nqcq08Lm8ayrjOvbEsi1wrj1lbv2d/4okKuIqq6+knx9G/XxtOnUrjuhteqejqVFkD2gTz1NghuLsZPt0Yybsrt7gs1zEokMUPTeBvM5ewdEc0AC9PGMmQ9qEkp2Yw7LlZ5VjrqqVPWDCPjHDeBxf+vIuPNxS/DwbX8+dfo0fQJrABb6/ZwJwffyp4zdfLiyeuHkaLBvWxLIunloQTeexkeV9ClfC3fgPo0TyErOxsXloVzkEX971A39o8NmIUvl5eHExM5IUI53gOoFPjptzdbwAebm6knDvHg4u+LO9LqJTu6z+AnsHOcfKLKy8+Tn5iZP44OSGR5/LHyUNbtWJ8t8sBOJedzRtrVhOTlASAj6cXDw8dSkjdeljASxEr2Rtnz7bdK6Q5U4dcGCvvZu5mF2PlIQPpHeZs388sDWd/fAJBdf159ppRBWWa+NVhxvof+Wzbzwxu1ZLJfXsTXK8ut835hH1x8eV5SSJAFVxiY4x5zBizxxgTaYzZYYzpaYz50BjTNv/1tIuc18sYszn/nChjzFPlWvFLqGfzYJr4+XPL3Fm8tnoVUwYOcVk4/7KBAAAgAElEQVTujj59+XLHdv4ydzapmZmMatsegO3HjvLXT+Zzx6fzeXnVSh4aMrTYedMWfskdn8637eSImzE8PHwwUz5fyPgPZjG8bWtC6tUtVqZPaAjN/P0Y+/5MXlgewSMjnP8GAQ4H47p1YeLsBdz00RzcjGFY21YAzNu8jZtnzuWWj+ex/uBhbr+iV7lfW2V2ebNgmtTxZ/Kns5j+/Sru7eu6Xe+NO8E/v/2a+NSzxY6nZmby3oa1fLVTEyMX06VxMIG+fty/eDYzNq1ics/BLsutP7SfKd/M4aEl8/F092Bwy3YA7Io7ysPfzueR7xbwn40R3NXb9b+RXNziJVu5+94PKroaVZqbMTx7wzBuffdLhjw7k2u6taFlYD2X5f4xuj/romKLHf9i027+8o4eIn+NmzH848rB/G3BQq57dxYj27UmtH7x+2DKuUxeWr6m2MTIBY+MHMjGmFiufXcWN7w/l8OJp8qr6lVKj+bO+96t82bx+tpVPHCR8dxf+/Tlqx3bmTh/NqlZmVzZxjme8/H04v4Bg3jiu2+Y/MlcnlnxXXlWv9K6ME6+ec4sXl29iqmDXMf1ziv68sXP27lljjOuo9o543oy5SxTvvqSyQvmM3fLFh4cXDhOvm/AALYcieXWeXOYvGAeR07Zs227GcNDwwYz9YtF3PjhbIa3bUVwibFy79BgmtX1488zPub5FRE8Mtw55vjl1Gn+Mms+f5k1n4mzF5CZncO66IMAHEpK5tGFS9hx9Fi5X5MdmQr+73fV0ZiRxpj9xpiDxphHXbw+IX9eINIYs9EY0+m/jUNJVWqCxBjTG/gT0NWyrI7AUOCoZVmTLcva+xunzwbusCyrM9Ae+Lxsa1t2+oSGsTIqCoCo+DgcXp7U9fYuVa5L02asO3gAgPB9UVwRGgZAZnZ2QZmaNWpgWeVQ6SqkbaNAjp0+w4mUFHLy8li5dx/9W4YVK9O/ZRjLdjub3O4TJ/H18qKejw8A7m5ueHl44G4MNWvUICnVmSWSfv58wfm1ango7iX0Cg5jVbSzXe9PiMPHyxN/F+36UHIiCWlnSx1PyTzHgcR4cvM/VZPSLm8WyveHnDE+kBSHTw0v/GqVjvHPJ2ILfj6YHE89bwcAWTmFfYeXhwdqwv+9n7YfIiUlo6KrUaV1Dm5EbNJpfklOITs3jyXb9zG8Y4tS5SYN6MqynQdITi0e7y0xxziTkVle1a2S2jcJ5OjpMxw/47wPrtizj4Gtit8HT2ecY8+J+IJMhgt8PD3pGtSUhT/vBiAnL4/UrKxyq3tV0ickjJX7i4znPF2P5zo3acb3MaXHc0Mua8X6QwdJSEsF4My5c+VU88rtitAwwvflxzXOOZ74rXHyiqgo+ubHdU/cSdLy2+zeuJPUdzjvgd6ennRs3ISle/YAzradft6ebbtto0COnSkyVo7a73KsvHS3899hz4k4HEXGyhdc3rwZx8+kEHfW2YZjk0/xy6nT5XMRUukZY9yBd4ArgbbAjReSIoo4DAzInxt4BpjxR9+3qi2xaQQkWZaVBWBZVhKAMWYt8JBlWdvyf38VGAScBsZblpUINABO5p+XC+zNL/sUEAY0AZoBL1mWVak/3qvv41NwMwRITEujvsPBqYzCQWDtmjVJy8oiL/8pPDEtlfqOwk6pb2gYk/tcgV8tb/65ZHHBccuyeHn0dVhYLNm9i+/27C6HK6pcGvg6iE8tjG9CahrtGjcqVibARZkAXwf74uKZv2Ubi++ZTFZODpsPH2Fz7JGCcnf1v4JR7duSlpXFPQu+KPuLqULq+/iQmF4Y06T0NOp7OzidoYfJS6Wut4Ok9MIku+SMNOrWcnDmnOsYuxs3+oW0Zta2dQXHujcL46YufahT05vnVy92eZ5IWQqs4+DE6cK+4uTpVDoHF++jG9ZxMKJTS8ZP/4xOE0aWdxWrvAa+DuJSCmMcfzaNDk0a/coZhZr61+F0xjmevmYElzUMYO/JeF5asYbM7Jyyqm6VVd/Hh8Si47n0NOr7uBjPnS8czyWlpxY8ZDbx88fDzY1Xx4ylVo0aLIzcUTDhYmf1HT4kFBmjJf0P4+QLRrVtx5YjsQA0ql2HM+fO8fehwwkLqE90QgJvr1tLZo792naAr4OEsyXGyo0Ci5dxlC4T4OsgOb1wefmwNq0Ij9pX9hWWqqoHcNCyrEMAxphPgdHkP8cDWJa1sUj5TUDTP/qmVSqDBAgHmhljoo0x7xpjBrgo4wNstyyrK7AOeDL/+OvAfmPMQmPMncaYmkXO6QhcBfQGnjDGNC75R40xdxhjthljts2Y8Ycnpv4Q4+JLq0tmIxgXiUtFy6w/FMPEeXN44rslTOrVu+D4/V99zp2fLeDRbxYxpmMnOjZucsnqXZVZJT4rd5kWZln4ennRv2UY1/7nI656ewa1atRgZLs2BUXe+34D17z7ASv2RPHnbp3LttJVjos2WwG1qM5ctdtfi/HknoOISjjOvoTCfUa2Ho1h6jdzeXntEsZ17v0rZ4uUDRe3wFLt+KnrB/P84nUFDz/y33HdV/y+WLq7udG6UQM+/2kn4z+YR2Z2Nrdd0ePSVrCacDlW+x1lLnA3hssCGvDYt4t4dMlCJlzegyZ1/C5xLaselzErOU7+HWPpzk2bMqpde2ZsWA+Au5vhsgYN+GZXJHd8soDM7GxuvLz7pap2leK6VZYYK7v6ZygSZA83N/q1CGP1vgOXtG7y+xlT0f8VPl/n/3dHiSo2AY4W+f1Y/rGLuR1Y9kfjUqUySCzLSjPGdAP64cwQ+czFWqQ84LP8n+cBX+ef+7QxZj4wHLgJuBEYmF9usWVZ54Bzxpg1OGerFpV47xkUpuxYn771xqW8tN80ukNHrmrXAXAuP2jg8C14LcDhIDm9+NYrKZnncHh54WYMeZZFgMO32IztBZEnjtO4dh1q16zJ2czMgjJnzp1jfUwMrRs2JPLE8TK8ssonITWNhr6F8W3g6yApNe03yySmpdM9OIgTZ84WpLmuiT5AhyaNWL6n+Cc6K/bu47U/X8sH638swyup/P7UriMjWjvb9YHEOAJ8CmNa38dBcobLLYXkvzDiso4MaelcVx2THE99Hwf78/eqq+ft4PQ51zEe27EntWvWYsbaVS5fj0o4QaBvHXy9apKapeUKUn5OnkmjsX9hX9HI35eElOLtuENQQ96edDUAdR21GNQuhJy8PMIjD5ZrXauq+NQ0AusUxrhhbQeJqb+vP44/m0rC2VR2H48DYGXUAW67wp4Pka5c074jo/LHc9HxcQQUHc/5XGQ851k4nqvvUzieS0pP4+wvmWTm5JCZk8OuE8cJqx/A8ZQz5XdBlcSYjoXj5H3xcTTw9c3PG4f6juLZkwAp5359nBxarz4PDRnKo4sXFWwGn5iWRmJaGlHxzra97uABbupmz7adkJpGg9qlx8EuyxwvLFP0ywl6hwazPz6hWGaP2EuJ52tXfvdne8aYQTgnSPr+0XpVtQwSLMvKtSxrrWVZTwL3Atf/1ilFzo2xLOs/wBCgkzGmXskyF/m9wi3eFckdnzo3Vl1/KIZhbZxZCW0aBpJ+/rzLzmXHsaMMaNESgOGt27DhcAwAjevUKSjTMiCAGu7unM3MpKaHB7Vq1ACgpocHlwcFcTg5uawvrdKJOhlHs7p+NKpTGw83N4a1bc33Bw8VK/PDwRiubO9cAte+cSPSss6TnJ5O/NlU2jcOxMvDOffYvXkQscnODbya+Rd+qtOvZRhHku25sVdR3+6J5L6v5nPfV/P5MTaGIZc523WrBs52reU1f9yK6Ege+W4Bj3y3gC1HY+gf6oxxy/qBZGRnuVxeM7hFOzo1CuKNH5YV6wwb+hb2HSF1A/Bwc9fkiJS7nUdOEhLgT7N6dajh7sbVXVuzssTER9+nPuCKJ2dwxZMzWPpzNP/3WYQmR/4Le47HEVTXj8Z+zvvgiHatWRd96LdPBJLTM4g7m0rzev4A9AwJ4pA2aS3wze5I7vpsPnd9Np8Nh2MY1up3jOeOH6V/WOF4bmP+eG7j4RjaN26MmzF4eXjQumEgv5y2Z6wXRUby10/m89dP5rPhUAzDW+fHNTCQ9CzXcf25yDh5RJs2bDjkjGsDhy9PX/Unnl+xgmNnCiebTmdkkJCaSjM/Z9vu2iyI2FP2GydD/ljZ379wrNymFT+UHCsfOMSo9s5/h3aNAwvGyhcMb9tay2vktxzDuQXGBU2BUl+faIzpCHwIjLYs6w//T1mlMkiMMa2APMuyLuRidQaO4Nx09QI3YCzwKc5MkfX5514FLLWcuV0tgVzgQq832hjzPM7lOQOBUjvkViabY2Pp2TyEeX+ZSGZ2Di+tCi947fmrR/PK6giS09OZsXE9j48cxW29+nAwMYFl+ZtK9Q9ryfDWbcjJyyMrJ4enly8FwN/bm6evcn7i5m7cWBW9j62/HCldgWou17J4JXwN08ddj5sxLInczeGkZK7t3BGAhTsi2RBzmD6hIXx1521kZufwzNIVAOw5Gcfq/QeYM+lmcvPyiI5PYNGOXQD8bWA/gur6k2dZxJ09y4vLXX8yb1dbf4mle1AIH42fSFZODq+vLWzX/7pyNG+ui+BURjrXtO/M2E7d8Pf24Z2xN7Ptl1je/D4C/1revHndjXh7epJnwZgOXbjz87mcyz7/K+9qLz8fj6Vrk2Cmj7mV8zk5vLtxZcFrjw4ezfs/RnD6XDp/7TmYxPSz/HvkOAA2/3KQr3ZtoVdQC/qHtiE3L4/zuTm8/v0fzmK0nRefu5nu3cLw8/MhYtnjvPPeChYudv0VteJabp7F459HMPdvY3E3bny2aRfRccnc3Ne5cf289Tt/9fy3Jv6J3i2b4e+oxeZn7uK1pRv47Mdd5VH1KiPXsnhh2Rr+M8F5H1y8YzcxicmM7ea8D375UyT1fLxZ8NcJ+Hh5YlkWE3p25bp3Z5N+/jwvLlvDc9deSQ13d46fTuGJb1ZU8BVVTpuPxNKjeQhzbnbe914uMp77959G89rqCJIz0vnwx/U8NnwUky6M5/Y6x3O/nD7Ntl+O8MH4m8mzLJbt3WPbB/aiNsXG0jM4hHm3TiQrO4cXI4qMk68ZzSur8sfJG5zj5Nt79+FAYgJL8+P6l549qV2zJlMGOb91JTcvj7s+c36z4/R1a3lsxEg83N04mXK22N+2k1zL4pWVq3nzhutwM4Zvd+0pNVbeeOgwfcKC+fKOSWTm5PDs0sJYeXl40CM4iBeWRxT7uwNahvHgsEH41arFa2NHE52QyJTPF5brtUmlshVoaYwJwZmLNB7n830BY0wQzhUjt1iWFX0p3tRYVWh9bv7ymrcAPyAHOAjcAXxJ/iat+V/z+zowCkgBxlmWlZi/qUtXICP/3Mcsy1qRv0lrY5wbtQbx+zZptQaX8xIbu1l93xR6vvBaRVejWtv86DRGva92XJaW3jkFgBvmvlnBNanePr/lATp0fbCiq1Gt7dr+KkH3vlzR1ajWfnn7YTo/rfteWdvxxDSGvqN7X1mK+NsUBk1XjMvSmvun0OvF1yu6GtXapr9Phd//bbRVUocnX63QiYBd/3rwN+NrjBkFvAG4AzMty/q3MeYuAMuy3jPGfIhzRcmFT/VzLMu6/I/Uq0plkFiW9RPQx8VLA4uUceT/+HiJc8f/yp+Otiyr5KYwIiIiIiIiItWOq410KxvLspYCS0sce6/Iz5OByZfyPavcHiQiIiIiIiIiIpdalcogKQuWZT1V0XUQERERERERkYpl+wkSEREREREREVupAktsKoKW2IiIiIiIiIiI7SmDRERERERERMRGjFJIXFIGiYiIiIiIiIjYniZIRERERERERMT2tMRGRERERERExEaMVti4pAwSEREREREREbE9TZCIiIiIiIiIiO1pgkREREREREREbE8TJCIiIiIiIiJie9qkVURERERERMRGtEmra8ogERERERERERHbUwaJiIiIiIiIiI0ogcQ1ZZCIiIiIiIiIiO1pgkREREREREREbE9LbERERERERETsRGtsXFIGiYiIiIiIiIjYnjJIRERERERERGxEX/PrmjJIRERERERERMT2NEEiIiIiIiIiIranJTYiIiIiIiIiNqIVNq4pg0REREREREREbE8TJCIiIiIiIiJie1piIyIiIiIiImInWmPjkrEsq6LrUBUpaCIiIiIiItVXtZ5CuPy51yr0mXbbP6dVyvgqg+R/1OvF1yq6CtXapr9Po99rr1d0Naq1H6ZNZfz8Nyu6GtXapxMeAGDMx4pzWVo06QGC7n25oqtRrf3y9sN06PpgRVejWtu1/VXaPf5qRVej2tvzzIMMfEPji7K0dspUhr/7RkVXo1oLv2cKvV9SOy5LPz4ytaKrUOYq5exEJaA9SERERERERETE9jRBIiIiIiIiIiK2pyU2IiIiIiIiIjZitMbGJWWQiIiIiIiIiIjtKYNERERERERExE6UQeKSMkhERERERERExPY0QSIiIiIiIiIitqclNiIiIiIiIiI2ohU2rimDRERERERERERsTxkkIiIiIiIiIjair/l1TRkkIiIiIiIiImJ7miAREREREREREdvTEhsRERERERERW9EaG1eUQSIiIiIiIiIitqcMEhEREREREREb0SatrimDRERERERERERsTxMkIiIiIiIiImJ7WmIjIiIiIiIiYidaYuOSMkhERERERERExPY0QSIiIiIiIiIitqclNiIiIiIiIiI2ohU2rimDRERERERERERsTxkkIiIiIiIiIjZilELikjJIRERERERERMT2NEEiIiIiIiIiIranCRIRERERERERsT1NkIiIiIiIiIiI7WmT1iqoV0gwU4cMxM3NjW927mLu5q2lykwbMojeYSFkZWfzzNIV7I9PAGD85V25plN7LAtiEpN4dukKzufmcu/A/vRtEUpObi7HzqTw7NIVpGVllfOVVR49gpvzwEBnjL/dtZv5W0vH+IFBA+kV4ozxcyvCiU5wxvjR4cPoExrK6YwMbp0zt6B8i4AAHho6BE93d3LzLF5bvYqouPhyu6aq4NZuA+jSJJisnBz+82M4sacTS5W5t88IQus1JDcvl4PJ8Xy4eTW5Vh5tGzThoQFXk5B2FoAtRw/y9e4t5X0Jld7kngPo1tQZ4+nrwzmUXDrGo9p05Oq2XWhU249bFrxPalYmAN41PJnafwT1Hb64GzcW7d7O6oN7y/sSKrUBbYJ5auwQ3N0Mn26M5N2Vrttgx6BAFj80gb/NXMLSHdEAvDxhJEPah5KcmsGw52aVY62rl6efHEf/fm04dSqN6254paKrU2X1bRHMo1cNwt0YvvppNx/+ULwtX9WxNbf36wFAxvlsnlkSwf64RAJr+/L89SOp5+uDZVl8sTWSeZt+rohLqLTuG+AcP2RmZ/NCeDgHEhNKlQmsXZsnRo2itldNohMTeG75cnLy8gjy9+fvw4fTMqABH23cyGfbfyo455Fhw+gdEsqZjAwmzZtb6m/ayT19B9C9eQhZOdm8siqcg0ml73WBvrX55/BR+Hp5cSApkZcinDH29vTk0aEjCXD44u7mxpc7fiJ8n/NeN23QMHo1D+HMuQzu+GxeeV9WpdIrpDlThgzE3bjxTeRul88jU4cMpE+os60/syyc6PznEYeXF/8YOYyw+vWwsPj3spXsPnGSO/r2pl+LMPIsi9MZ53h22QqS0tLL+9JsQ5u0ulblMkiMMbnGmB3GmN3GmC+MMd5/8O8FG2N2X6r6lTU3Y3ho2GCmfrGQGz+cxfC2rQmuV7dYmd6hITSr68efZ8zk+RURPDJ8CAABDgc3dOvCpNkLmDBzDm5uhmFtWgGwJfYIEz6azc0fz+XoqdPc2qtHuV9bZeFmDNMGD+ahhYu4ZdZshrZuRXDd4jHuFRJMUz8/bpz5MS9FRPDgkMEFry3bs5eHvl5Y6u/e3a8fH/+4idvmzeejHzdyd79+ZX0pVUrnxsE0qu3HlG9m88HmVUzuMdhlufWx+5m2ZA4PfzcfT3cPBrdoV/DavsQTPLpsAY8uW6DJERe6NXXG+O6vZvPuxlXc1dt1jKPiT/Lkiq9JSD1b7PioNp04mnKKqYsX8H/LvmJSj354uFW520iZcTOGZ28Yxq3vfsmQZ2dyTbc2tAys57LcP0b3Z11UbLHjX2zazV/e+bKcalt9LV6ylbvv/aCiq1GluRnDY1cP4a45X3PNW7MY1bEVYQHF74PHT59l4kefcd07c3hv7Y88dc0wAHLy8nhp+TqumT6LG99fwI09O5c61856BgfT1N+PCbM+5tVVEUwd4rofvrNvP77cvp2bZ88iLTOLUe3bA3A2M5Ppa9cWmxi5YPnevTyysPT4w266BwXTpI4/k+bP4o21q7h/wBCX5W7v3Zevd25n0oLZpGVlMrKNM8bXtO/EkVOnuPvz+Ty86Evu6NO/4F63ct9e/vmtYuxmDA8OHcy0LxZx40ezGdamlYvnkWCa+fvx5w8+5oUVETwyrLCtTx0ykE2HYxn/0Wxu+XgescmnAJi35SdumTWPW2fPZ0PMIW7r06tcr0sEquAECXDOsqzOlmW1B84Dd/2ek4wx1SJbpm2jQI6dOcOJlBRy8vJYGbWP/i3DipXp3zKMpbudM917TpzE4eVFPR8fANzd3PDy8MDdGGp61CAxf1Z2S+wRci0LgN0nTtLA11GOV1W5tAkM5PiZM5zMj/GqffvpG1Y8xn3Dwli+NwqAvSfjisV45/HjnM3MdPGXLXw8PQHw8fQiKV0z4kVd3jSU7w85Y3owOQ5vTy/8apae/9xxIrbg55jkeOp627et/rd6BIWy9qAzxtGJcfh4euFfq3SMD59KJCEttdRxy7Ko5eFswzVr1CAtK5PcvLyyrXQV0jm4EbFJp/klOYXs3DyWbN/H8I4tSpWbNKAry3YeIDk1o9jxLTHHOJPhqu+Q/8ZP2w+RkpLx2wXlojo0DeRo8hmOnXa25aW79jOoTfG2vOPoCc5mOjNNI4+epGEdZ1+clJZO1Ennp8QZ57M5lHiKBrV9y/cCKrErwsJYEZU/foiLw+HpRV1vn1LlujZrxroDBwBYHrW3YBxy5tw59sfHu+x7I48fL8j4s7M+IWGs3O+M8b74OHw8PanrXfpe17lJM76PccZ45b4o+oQUjvW8PWsAUKtGDVKL3Ot2nTxOqo0zrC8o+TwSEbWf/i1KPI+0CGPZHue/w56TcThqOsfK3p6edG7ahCWRzs+nc/LyCrLWM86fLzi/Vo0aWPnPJiLlqSpOkBT1A9DCGHO1MWazMeZnY0yEMaYhgDHmKWPMDGNMODDHGNPQGLPQGLMz/78++X/H3RjzgTFmjzEm3BhTq8Ku6DcE+DpIOFv44JKQmkaAo/jAI8Dhooyvg8S0NOZv2caiuyfz7b13kp6VxZbYI6Xe4+qO7fjxUGyZXUNlF+BwkJBaGL/EtDTql5gwclnG8esP6tPXruOe/v348q+T+duA/rz/w/pLW/Eqrq63g+SMtILfT2Wk/erkh7txo19Ia3aeKGzDLesH8uKom3h00Gia1tEnliXV9XaQlF4Y4+T0X49xSd9F7aSpnz8zx03mzTET+HDzOjR0KRRYx8GJ04X9wsnTqQUPjRc0rONgRKeWzPthR3lXT+R3a1jbwcmUwrYcn5JKw1/54OS6bh34ITq21PHGfrVp06gBkcdOlkU1q6QAHweJJcYPASXGD3Vq1iQtK6vgg6vE1FQCfPRhwO9Vz8eHxCKT/EnpadQrEb/aNWuSdj6LvPwYJ6WnUj//g67Fu3bQzL8un9z6V94ffzP/Wb9W97oSSo6DLzxrFCvj6yC+yPNIYn6ZJn51OHPu3P+zd9/hUVX5H8ffZwKhpJBQQwkk9N679KagFMGCwi72tioqP3Vd17J2XVGwrbA2VFhQEAGlhKqgqBQh9BJ6SYc0Ukhyfn9MCAkZmpJMkvm8niePM3PPvXPO4XrnzHe+51z+OXgQ08aN4alrBlC+7Nnfse/t2Z1v77uLQc2b8t81awu/MR7MuPmvuCqxAZKcjJDBwBZgDdDVWtsOmAk8kadoB2C4tfZW4B3gB2ttG6A9sC2nTCPgfWttC+AkMMrF+91jjFlvjFk/derUwmrWRbk+mfJftl3NJ7PW4leuHL0aNWDkhx9z3ftTKV+2LNc0b5av3G3dOpOZbXOzIyTHORFsV/8OF4tyj2jTmnd/+IEb/vsR7676gb8PGnQFK1g6XahH7+jclx3RR9kZcwxwZj08+O2nPLlwBot3bWZCr6FFU8kS5M9+GLWrXY/98bHcMesjHp03g3u69qFCWe8rUrfSwOW195znz4/qx6vzfsgdlIsUTwVP5vOdsZ1DgxnZoSVvhf2Y7/WK3mWZNHoYry1aSUp6xnn29kAurxPn9K6Li4muGJfOXMLCCuYC53jH4Hrsi43hlmn/5f5Z03mwZ18q6rMun/N917gYay1eDgeNa1Tnm03hjJs2ndSMTP7apVNumSmrf2bEhx8Rtn0nN7RveyWrLXJJSuK0kwrGmDM/va0GPgaaALOMMTUBb2B/nvLzrbWpOY/7AX8FsNZmAQnGmEBgv7X2zDE3ACHnvqm1dipwJjJiP3n9rSvXossQnZScL1W1ek5miMsyR8+WiU1OoVNIXY4lJHIy1dkdq3bvoVXtmrnBkCEtm3NVg/o8ONOz58DHJCdT3e9sH1fz9S2wQFS0izJxF5kyc03z5kxeuQqAlbt38+TAAVeu0iXUoMat6dfAOec3Ij6KKnmyGSpX9OXEqWSX+41q1QX/chV469flua+lZp4dgG86doA7O/XFr1x5j083Hty0NYMaO/t4T2wUVfP8ilbFx5f48/SxK/0bNeebLesBiExKICo5kTqVAtkTq8WGAY6fTKZW4NnrQs1AP6IT8vdvq7o1eO92Z/Cusm8F+rYIJTM7m7DwvUVaV5ELiUpMogsGJJgAACAASURBVGals+dyjUp+RCcVvFY0rlGVf40YxH2ff0NC6tlrbRmHg0mjh/F9+A6Wbde5PaJ1G65r5bwO74yMotpFxhgJqan4liuHlzFkWUs1P7982X9S0NCWrRnSvBUAu6Ij82VXV/XxJe6c/ktIS8XXuxwOY8i2lqo+frnjuEHNWjBro3PB0WOJCUQmJhIcGMiuaH3WnRGdlH8cfOa7Rl4xScnUyPN9pFpOGYslJimJ7ccjAVi5ew9/6dKxwHuE7djJm6NG8NFPyiIpNMU5jcONSmIGyZk1SNpaax+y1mYA7wLvWWtbAfcC5fOUv5SFHvJOJsyiGAeOdhyPJDgwgJqV/CnjcDCwWVNW792Xr8zqPREMadkcgBa1apKcnkFcSgpRiUm0rBVEuTLO5nWsVzd3UaSuoSH8pUsnHp8zj/TMzCJtU3GzMzKSOgGB1PR39nH/pk1Ysy9/H/8UsS83+6Z5zSCSMzIuGiCJTU6mbZ06AHQIDubIyZOF04ASJGx3eO6iqusPR9CrvrNPG1YJ4lRGOifTCq4j0LdBC9rUrMs7Py3K94tapTzrlTSoUgNjjMcHRwAW7Qzn0fkzeHT+DH49FEGfhs4+blwtiJSMdE6kXvpaDTEpSbSuGQw4+7u2fyCRSQmFUu+SaPPB44RWCyS4SiXKejkY2r4pS88JfPR4/r9c9dxUrnpuKgt/380/Zy1TcESKna1HI6lbJYDaAf6U9XIwpFUTVu6MyFemZiU/Jt8yjKdmL+Jg3Il82164fhD7YuKY9nPBhUQ90bfhm7lr+nTumj6dNRERXN0sZ/wQFERKRgbxpwqOH34/fJjejRoBcE2z5vwUEVGgjJy1YGs49381nfu/ms7P+yMY2MTZx01rnOnjgp91m48eplcDZx8PbNqMtfudfRydlES7OnUBCKhQkToBgRxP1GddXs7vI4G530cGNGtS8PvI3n0MbuH8d2hRM4iUnO8j8SmniEpMpm7lQAA61gvO/T5SJzAgd/8eDRtwMD7/tUWkKBTbQMBlqkRufJJxFyi3HLgfmGSM8QIKropVzGVZy5tLVzL5plE4jOG7LVvZHxvH9W1bAzB3Uzg/79tP9wahzL7nDtIyM3lp4RLAuUDSil17mHbbWLKys9kdFc23m7cAMGFgP7y9vHjnZufsoq3HjvNG2HLXlSjlsqzl7ZUrmDhqJA5j+H7rNg7ExTG8tbOP54WHs3b/frqGhjDzjttJy8zk1SVhufs/N2Qw7eoEU6lCeebcfRefrF3L91u38cbSZYzv2wcvh4OMzEzeWLrMTS0snn4/doC2tUOYPGwc6VmZfLh2ae62J/sMZ+qvyziRmsJdnfsRm5LIi4NuBs7ezrdr3YYMaNSabJtNRlYm76xZ5K6mFFsbjhygQ50QPhzl7ON3Vp/t42cGDue9Nc4+vrZZG65v1YHACj5MHjGGDUcO8P5Py/lq02+M7zmQySPGAPD5+jUKQuWRlW155qtlfPG3G/AyDmb9soXdkXGM7dEGgC/XbL7g/u/edh3dGgUT6FuBX1+8j7cW/sSstVuKouqlyuuvjKVThwYEBPiwbNEzvP/hEubO012tLkdWtuXl71YwddwoHA4HczduJSI6jps6OT8Hv1oXzn19ulGpYgWeGeq8Q0hmdjY3fzid9nVrM7xtC3ZFxjDngb8AMGnpGlbv2X/e9/MkvxzYT5fQEKbfdjvpmZm8HnZ2/PDa8BH8e9lS4lJSmLJmDc8OGcKd3a9iT3Q0C7c5Z4VXrliRKbfcSkVvbyyWG9q1Y9wXn3MqI4NnBg+mbZ1gKpUvz9d33sWnv6zN3c+T/HbwAJ3rhvLZmNtIz8zkzRVn+/ila4fz1splxJ9K4aNf1vCPgUMY16U7ETHRLN7h7Kvp63/l8f6DmHLzWAzw8S9rchfff2rgYFrXqkOl8uWZ/tc7+WLdL7n7eZIsa5m4bAWTbhyZ831kG/vjXHwfqR/C13c7z/WXFp39d3hr+Uqev24wZR0OjiYk8PJC57YHevWgbuVArLVEJibxRpjGylL0TElbHdgYk2yt9T3nteHA2ziDJL8Anay1fYwxzwPJ1to3c8rVwDlNpj7OTJH7gePAdzl3xcEY83+Ar7X2+QtUw3Z10xQbT/HLk4/R86233V2NUm31Y48yevpkd1ejVJs5ZjwAIz5VPxemb28fT90H/+3uapRqh957nFbtJ7i7GqXalo0TafHMRHdXo9Tb9uIE+kzS+KIwrXrkUQZ9MMnd1SjVwh54hG5v6DwuTGufeBRK+SSUXm+/7dZAwI+PPlos+7fEZZCcGxzJeW0eMM/F68+f8zwKGO7isC3zlHnzz9dSRERERERERP4oY8w1wGTAC/jIWvvaOdtNzvYhwCngNmvtxj/zniVxDRIRERERERER+YOK+21+c5bEeB/nnWubA7cYY5qfU2wwzjvSNgLuAf5zWZ3gggIkIiIiIiIiIlKcdAb2Wmv35dyYZSYFZ4MMBz63Tr8AATl3tv3DFCARERERERERkSJjjLnHGLM+z9895xSpDRzO8/xIzmuXW+aylLg1SERERERERETkT3DzEqnW2qk4b6ByPq5qeO7CspdS5rIog0REREREREREipMjQHCe53WAY3+gzGVRgERERERERETEgxT3RVqBdUAjY0yoMcYbGA3MP6fMfOCvxqkrkGCtPX5ZHXEOTbERERERERERkWLDWptpjHkQWILzNr+fWGu3GWPuy9n+IbAQ5y1+9+K8ze/tf/Z9FSARERERERERkWLFWrsQZxAk72sf5nlsgb9dyfdUgERERERERETEgxg3L9JaXGkNEhERERERERHxeAqQiIiIiIiIiIjH0xQbEREREREREU+iOTYuKYNERERERERERDyeMkhEREREREREPIjyR1xTBomIiIiIiIiIeDwFSERERERERETE42mKjYiIiIiIiIgn0Rwbl5RBIiIiIiIiIiIeTxkkIiIiIiIiIh5ECSSuKYNERERERERERDyeAiQiIiIiIiIi4vE0xUZERERERETEgxjNsXFJGSQiIiIiIiIi4vGUQSIiIiIiIiLiSZRB4pIySERERERERETE4ylAIiIiIiIiIiIez1hr3V2HkkidJiIiIiIiUnqV6kkoA9+f5NbvtEv/9kix7F+tQfIHNXlqorurUKrtenUCLyx/x93VKNWe7f8w13862d3VKNXm3j4egM6vveXmmpRuv/39Mdq+oD4uTJuefYwWz+hzrzBte3ECrdpPcHc1Sr0tGyfSWGO4QrX71QkMmTLJ3dUo1Rbe+wjDP9EYrjDNu2O8u6sgbqIAiYiIiIiIiIgH0W1+XdMaJCIiIiIiIiLi8RQgERERERERERGPpwCJiIiIiIiIiHg8BUhERERERERExONpkVYRERERERERD6JFWl1TBomIiIiIiIiIeDwFSERERERERETE42mKjYiIiIiIiIgH0RQb15RBIiIiIiIiIiIeTwESEREREREREfF4CpCIiIiIiIiIiMdTgEREREREREREPJ4WaRURERERERHxIFqk1TVlkIiIiIiIiIiIx1OAREREREREREQ8nqbYiIiIiIiIiHgQzbBxTRkkIiIiIiIiIuLxlEEiIiIiIiIi4kmUQuKSMkhERERERERExOMpQCIiIiIiIiIiHk9TbEREREREREQ8iNEUG5eUQSIiIiIiIiIiHk8ZJCIiIiIiIiIeRAkkrimDREREREREREQ8ngIkIiIiIiIiIuLxNMVGRERERERExJNolVaXFCAp4Xo2DuHp6/ricBi+XreV//7wW77tQ9s25e5enQFIyTjN898uY1dkDAB+5cvx0shBNK5RFYvlH3OWsOnQ8SJvQ0lgrWXD16s5uu0gZcqWpdtf+1O5brUC5dZ+vpyoPUfxruANQNe/9KdycDWidh/lhw8X4lvVD4Dgtg1oNaRTkbahJLizS2861AkhPTOTd9eEsS8upkCZwc1aM7R5O2r6B/DXGVNISk8DoGJZbx7pdTVVff3wMg7mbd3Iir3bi7oJxU7X0BAmDOiDw+Fg3uYtfP7LugJlJgzoS/cGoaSdPs0L3y9hV1Q0ADd3bMeINq0wwLebtzBz/e8APNS3Fz0b1ud0VhZHTybwwvdLSE5PL8JWFV/dG4TwxNXO/p77+xY+/Sl/f4dUCeRfw6+mWVB13lv5E5+v3ZC7za9cOZ4dOpCG1atireX5BWGEH9E12ZUeDUP4+7V98TKGORu28tHq/J9917Zuyp09nZ99pzJO8+IC52dfkL8fr466hip+Plhr+XpdOF/+8rs7mlCivfDczfTq2Yz4+GRG3vSmu6tTYp0Zw3nljOGmXmAMdypnDLczMobQqoFMuuW63HLBlSsxednPTPtpY5HWvyS5t3tvOtUNJT3zNG+tCiMituD44roWbRjRqh21KgUwetqHJKY5xxd9GjbhxrYdAUg9fZr3V69gf3xskda/JLi7S286BDvHcJNXux7DDWnWmmEtnGO4sdPPjuGub9meXg2aAuDlMNSpVJm/zphKcobGFlL0Sk2AxBiTBWzJ89IIa+0BN1WnSDiM4dlh/bn949lEJSYx+29jWLFjLxHR8blljsQnMnbqLBLT0unVOIQXRw7kpg9mAPD00L6s3n2A8TMWUNbLQfmyZd3VlGLv2LaDJEYnMOz5scQdiOK3mau45okbXZZtf3136rZvWOD1ag1r0veB61zsIQDt64RQyz+AB+ZMo3G1IO7t1o8nv5tVoNzOqOOsP7yfl665Id/rg5u14XBCPK8sX4B/uQq8N+qv/LhvJ5nZ2UXVhGLHYQxPDOrHgzPnEJ2UxLTbxrB6TwT7485eI7rXDyU4MIBRUz6hZa2aPHl1f+74/H/Ur1qFEW1acdu0GWRmZTH55pH8FLGfwydO8tv+g3ywajVZ1vJgn57c1q0z761a7caWFg8OY3hqcD/u+3IOUYlJTL9rDD/simBf7Nn+TkhN443FK+nbpOA14olr+vBzxAEen/0dZRwOKuia7JLDGJ4e2p+7P3N+9s26bwwrd+4lIuZsPx89kchtHzs/+3o0CuH5YQO5ZeoMMrOzeWPxD+w4Hk1F77J8ff9Y1kYczLevXNy8Bev436w1vPzCLe6uSonlMIbncsZwkYlJzPnbGJZfwhjuxg9msD/2BMPf/SL3OKufupel2/a4qynFXsfgEGpXCuSumZ/RpHoQD/boz6PfzixQbnvkMX47uJ/Xh+UfX0QlJfLk/NkkZ6TTMTiEh3sNcLm/J+tQJ4SalQK4b7ZzDHd/9348vqDgGG7HmTHc4Px9PHfrRuZudQb4OgWHMqxFOwVHioDyR1wrTWuQpFpr2+b5O3CxHYxTie2D1sFBHIw7yZETCZzOyub7zbvo3yz/oPv3Q8dITHNeYDYdOk6Qvy8APuW86RRSh9nrnTGl01nZJKXpQnQ+R8L3U79LE4wxVA0NIuNUBqkJKe6uVqnSuW59Vu7dAcDumEh8vMsRWKFigXL742OISU4q8Lq1lgplnJk75cuWJTk9jSwPDo4AtKgZxJETJzmWkEBmdjZh23fSq1GDfGV6NWrAwq3OTJutx47jV64cVXx8CK1Sma3HjpOemUmWtWw8dIQ+jZ3Xl18PHCTL2tx9qvv5Fm3DiqmWtYM4fOIkR086+3vJtp30aZK/v0+cSmXbsagCgTsfb2/a163D3N+3ApCZnU2SsnJcalUniMN5PvsWbtlF33M++zYdPvvZF374ODUqOc/R2OQUdhx3ZkidyjjNvph4qvv7FW0DSoENG/eRkHDK3dUo0c6M4Q7nGcMNuMQxXF7dGtblUNxJjp0s+LkoTl1DGrB8t3N8sSs6Ep9y3gRWLDi+2BcXQ3RyYoHXd0Qdz/2yvjPqOFV89Zl3rssZw0W7GMPl1bN+E37ct6tQ6ilyKUpscOBijDG+xpjlxpiNxpgtxpjhOa+HGGN2GGM+ADYCwcaYx40x64wx4caYf7m35peuhr8vkQlnLzJRiUm5g0BXbujUih93HwCc6ZjxKad49YarmfvQX3hp5CAqlC01CUVX3KmTKVQMPNu3FQN9OHXSdYBk0/xf+f6lmWyYvYas01m5r8fuj+T7l2ey4r0FnDwWV+h1LmmqVPQlLiU593lcSjKVK176IGThjs3UCQjk45vvYtKIMXz86w/YwqhoCVLNz5eopLPXiOikZKr55f8yWN1Fmep+vkTExtEuuA6VypenXJkyXNUglBouvkgObd2Cn/cdKLQ2lCTV/c69JidT3e/SvnzXCazEiVOpvDDsambePZZnrxtIeV2TXarh78vxvP2ckESNCwTpRnZoxeqcz768agX406xmdU1jErc4dwwXeRljuLyubd2U78N3FkYVS42qPj7EpJzt69iUZKpexvgir0FNW7Dh0IErVLPSo0pFX2LzjOFiU5Kp8gf62NurDO3r1GPtgb1Xsnoil6U0BUgqGGM25fzNBdKA66217YG+wERjcleiaQJ8bq1tl/O4EdAZaAt0MMb0Ovfgxph7jDHrjTHrp06dWiQNuhjjIjHKnucbYZf6wdzQsSVvLv4RgDIOB81r1eB/v27m+ne/IDXjNPf06VyY1S3ZXPWri7y0tsO7MvS5W7nmyRtJT0lj+1JnumDl4GqMePGvXPv0aJr0acWPUxYVbn1LicsJcLSrXY/98bHcOesjHps3g7u79qFCWe9Cq1tJ4Dp18uK9aq3lQFw8n/+yjndHj+Kdm0eyJzqmQEbO7d06k5VtWbxtxxWpb0nnqr/tJZ7FXg4HTWtW56sNmxn93y9JO32aO67SNdk1F5995ynZOTSYkR1a8lbYj/ler+hdlkmjh/HaopWkpGcUQh1FLuxyx3A3dmzJvxfnP4/Lejno36wBi7bsLowqliKXfs24kNa16jCoaUs++XXNn69SKeNqrc8/0sed64ayI+qYptcUEWPc+1dclaafp1KttW3PPDHGlAVeyQl2ZAO1gRo5mw9aa3/JeTwo5+/MKm2+OAMm+T6FrLVTgTORETvxqYmF0ojLEZmYRFCls79O1vD3IzoxuUC5JkFVeWnkIO7+7BtOnnIuhhSZkERkYhLhhyMBWLx1N/f01mA8r10/bCHip20AVK5Xg1MnzvbtqRMpVKzkU2CfCjmveZX1okG3Zmxf5jytylY4+0W9dssQ1s38kbTkVMr7VijMJhR7g5u2ZmDjlgDsjY2iis/ZXxuq+Phy4lTB8/l8+jVqzjdb1gMQmZRAdHIidSoFsic26spWugSJTkqmRp4Mhup+vsQkJV+8TLIzO2p++FbmhzunfNzf6yqi8+x7bcvm9GhYnwf+N7swm1CiRCUln3NNLtjf5903MYnoxCS2HnVek5fu2MMdV2khZ1eiEpOombefK/nlOzfPaFyjKv8aMYj7Pv+GhNS03NfLOBxMGj2M78N3sGy7fqUU9zh3DBd0gTHcyyMHcVeeMdwZvRqHsu1YFHHJmu50rutatObqpq0A2BMTSTWfs31d1ceXuMsYXwCEVK7K+F4DeHbRt7kLi3q6Ic3yj+Gq5hnDVfXxJf4y+xigZ/3GrN6ngJ+4V2nKIDnXGKAa0CEncBIFlM/ZlnduhAFezbN2SUNr7cdFXNc/ZMuRSEKqBlAn0J+yXg6ubdOEFTsi8pWpWcmPd8cO44mvFnEg9kTu67HJp4g8mURo1UAAujWoS0S0pn3k1aR3K4b8YzRD/jGa4Nah7Pt1F9ZaYvdH4l3BOzcYkteZdUmstRzevI+AWlVyX7c5Pw3FHojCWks5n/IF9vc0i3aG89j8GTw2fwa/Hoqgb8NmADSuFsSpjHROpF76oC82JYnWNYMBqFS+IrX8A4lMSiiUepcU249HElw5gFqV/CnjcDCoeVNW792Xr8zqvREMadkcgJa1apKcnkFcivM8DqzoDODV8Pejb5NGhG13pnF3DQ3hL107MWH2PNIzM4uuQcXctqOR1K0cQK0AZ39f3aIpP+zed/EdgbiUU0QmJlGvivOa3CW0Lvu0cKhLW49GUrdKALUDnJ99Q1o1YeXOgp99k28ZxlOzF3Ew7kS+bS9cP4h9MXFM+3kDIu7iagy33MUY7r2xw3j8nDHcGde1acp3mzW9xpXvtoXz0JzpPDRnOmsPRNC/sXN80aR6ECkZGZw4denji2q+fvxz0HW8uXIJRxNOFlaVS5yFO8J5dN4MHp03g18O5h/DpVzmGA6cdyNsEVSHXw9FXLywSCEqTRkk56oERFtrTxtj+gL1zlNuCfCiMWa6tTbZGFMbOG2tjS6ymv5BWdmWF+av4KM7RuFlHMxZv5W90XGM7twagJm/hfO3/t0IqFiB54b3z9knm1HvTwfgxQUrePPmIZT18uJwfAJPzV7strYUd7Va1uPotoPMf+5LvLzL0O0v/XO3rXx/AV3G9KNigA8/fbqUtORUsBBYpyqdb+kNwKHfI9izeivG4cCrbBl63DEIU5xzy9xgw5EDdKgTwn9GjSM9K5N3Vy/N3fbPgcN5f80yTqSmcG2zNoxo1YHACj5MGjGGDUcO8MFPy/lq02883HMgk0aMwQBfrF/j8b/yZFnLv8NW8s7No3AYw4LwreyLjWNkW+c14ptN4fwUsZ/u9UP55t47SDudyYsLl+Tu//r1Q/GvUIGs7Gz+HbY8d9HQxwf1w9vLi/dGjwKcC7W+tmR50TewmMmyltcWreQ/Y5z9PW/TViJi4rihg7O/Z28Ip4pPRWbcPQafct5YaxnTpT0jP5hGSkYGry9aySvXD6aslxdHTyTw7PwlF3lHz5SVbXn5uxVMHTfKeTvljVuJiI7jpk7Ofv5qXTj39elGpYoVeGao81qdmZ3NzR9Op33d2gxv24JdkTHMeeAvAExauobVe/a7rT0l0euvjKVThwYEBPiwbNEzvP/hEubO++3iO0quM2O4j3PGcLNdjOEezBnDPT/87Hl8ZgxXvmwZujeqxzNzl573PcRp3aEDdKobysejbyM9M5O3V4XlbvvX4OFM/mEZ8adSGNayLTe06UBgRR/ev2Es6w8dYPKPy7i1fRf8ypfngR79AMi22Yz/5n/uak6xtOHIAToGh/DhDeNIz8w/hnsmZwwXn5rCdc3bcH3OGO6d68ew4fAB3vvJOX7oWq8Bm44e1A8vRUhfRVwz9nwTHksYY0yytdY3z/OqwAKgLLAJuAoYnLP5O2ttyzxlxwN35TxNBsZaay8UvrRNisEUm9Js16sTeGH5O+6uRqn2bP+Huf7Tye6uRqk29/bxAHR+7S0316R0++3vj9H2BfVxYdr07GO0eEafe4Vp24sTaNV+grurUept2TiRxhrDFardr05gyJRJ7q5Gqbbw3kcY/onGcIVp3h3joZTfCXf4J5PdGgiYd8f4Ytm/pSaDJG9wJOd5LNDtPMVbnlN2MqCrjIiIiIiIiIiHKs1rkIiIiIiIiIiIXBIFSERERERERETE45WaKTYiIiIiIiIicnFapNU1ZZCIiIiIiIiIiMdTBomIiIiIiIiIB1ECiWvKIBERERERERERj6cAiYiIiIiIiIh4PAVIRERERERERDyJcfPfn62+MZWNMUuNMXty/hvookywMWalMWaHMWabMWb8xY6rAImIiIiIiIiIlCR/B5ZbaxsBy3OenysTmGCtbQZ0Bf5mjGl+oYMqQCIiIiIiIiLiQUp4AgnAcGBazuNpwIhzC1hrj1trN+Y8TgJ2ALUvdFAFSERERERERESkJKlhrT0OzkAIUP1ChY0xIUA74NcLldNtfkVERERERESkyBhj7gHuyfPSVGvt1HPKLAOCXOz+9GW+ly8wB3jEWpt4obIKkIiIiIiIiIh4EHOF5rn8UTnBkKkXKTPgfNuMMVHGmJrW2uPGmJpA9HnKlcUZHJlurf3mYvXSFBsRERERERERKUnmA+NyHo8D5p1bwBhjgI+BHdbaty7loAqQiIiIiIiIiHgQY9z7dwW8Bgw0xuwBBuY8xxhTyxizMKfMVcBfgH7GmE05f0MudFBNsRERERERERGREsNaGwf0d/H6MWBIzuM1XOZNc5RBIiIiIiIiIiIeTwESEREREREREfF4CpCIiIiIiIiIiMfTGiQiIiIiIiIiHsTdt/ktrpRBIiIiIiIiIiIeTwESEREREREREfF4mmIjIiIiIiIi4kE0w8Y1ZZCIiIiIiIiIiMdTgEREREREREREPJ6m2IiIiIiIiIh4EN3FxjVlkIiIiIiIiIiIxzPWWnfXoSRSp4mIiIiIiJRepTrHYvT0yW79TjtzzPhi2b+aYvMHtfnXW+6uQqm2+bnHuPnLye6uRqk2a+x4Bn0wyd3VKNXCHngEgB4T33ZzTUq3NRMeZcD7OpcL07K/PUKfSTqPC9OqRx6l8VMT3V2NUm/3qxNo1X6Cu6tRqm3ZOJGhH2kMV5gW3DWeGRvVx4Xp1vbj3V0FcRNNsRERERERERERj6cAiYiIiIiIiIh4PAVIRERERERERMTjaQ0SEREREREREQ+i2/y6pgwSEREREREREfF4CpCIiIiIiIiIiMfTFBsRERERERERD6IZNq4pg0REREREREREPJ4ySEREREREREQ8iBZpdU0ZJCIiIiIiIiLi8RQgERERERERERGPpyk2IiIiIiIiIh5EM2xcUwaJiIiIiIiIiHg8ZZCIiIiIiIiIeBKlkLikDBIRERERERER8XgKkIiIiIiIiIiIx9MUGxEREREREREPYjTFxiVlkIiIiIiIiIiIx1MGiYiIiIiIiIgHUQKJa8ogERERERERERGPpwCJiIiIiIiIiHg8TbERERERERER8SBapNU1ZZCIiIiIiIiIiMdTgEREREREREREPJ6m2IiIiIiIiIh4EM2wcU0ZJCIiIiIiIiLi8ZRBUsJ1bxDCk9f0weFwMHfjFj75aV2+7SFVAnlh+NU0q1mdd1f8xOdrNwBQr0ogb9xwbW65OoGV+GDlz0z/9fcirX9JclvHcOI2bwAAIABJREFU3rSrHUJ6Zib/WRvG/viYAmUeuupq6lepQVZ2Fntjo/jvryvIstm52xtUqcFLV9/EpDWL+PXQ3qKsfrH1QI/edKoXSnrmad5cHsbe2IL9GuTnzz8GDcGvXDn2xMbwxrLFZGZnU9Hbm78PuIZqvn54ORzM3rSBsJ3bKevlxcQRN1LWywsvh4PVEXv4Yt0vbmid+3UJqcf4vn1wGAffbd3Kl7+tK1BmfN8+dAsNJS3zNK8sDmN3dDTeXl68d/NNeOf04co9e/jk57UAPNCrJ1c1qM/prCyOnUzglSVhJKenF3XTiq2/9exN53qhpJ8+zRsXOKefvtp5Tu+NieG1nHMaoE2tOtzfszdlHA4SUlOZ8O3som5CsfVQ7z50DQ0l7fRpXgsLY09MdIEyQf7+PDtkCP7lyrM7JppXFjv7tm5gIE8OGkSjatX5+OefmbVxQ+4+TwwcSLfQ+pw8dYrbv/yiKJtUbPVsHMLT1/XFy2H4et1Wpv7wW77tQ9s25e5enQE4lXGa579dxs7IGEKrBjLplutyywVXrsTkZT8z7aeNRVr/0uCF526mV89mxMcnM/KmN91dnRLtnm696VAnhPSsTCb/EEZEXMHr8rXNWzOsRTtqVQpgzBdTSExPA6Blzdr8c+BQopISAVh7YC8zf/+twP6ezFrL4mlr2LPpIGW9yzDi/v7UDK1WoNynz88lPS0DgJSEVGo3rMHoCYNJO5XO3PeXkRCbTHZWNt2ua0u7Ps2KuhkeR4u0uqYASQnmMIZ/DOnHvV/MISoxiRl3j2HVrgj2xcbnlklMTeP1xSvp27Rhvn0Pxp3g5ilf5h5n6WP3sGKnvrCfT9taIQT5BTB+3jQaVQ3izs79+OfiWQXKrd6/i3d/WgLAwz2uoV/DFizdswUAYwy3truKzccPFWndi7NOdUOoXSmQ26d/RtMaQTzcuz8Pz5lZoNyd3XrwzeaNrNq7m4d79+OaZi35bls4w1q24WB8PM8unE+l8hX4+NZxrNi9k9NZWTwxbw5pmafxcjh4+/qbWHfoADujIou+kW7kMIbH+vfj0dnfEJ2UxEdjbmXN3ggOxJ+9RnQNDSE4MIDRn3xKi5pB/N+AftwzYyYZWVmM/3o2qaedffif0Tfx6/79bDseybqDB5myeg1Z1nJ/zx78pXMn/rN6jfsaWox0ruc8p8d9+RnNagQxvk9/Hppd8Jy+u3sP5mxyntPje/djcLOWLNgWjo93OR7u3ZenFnxLdHISARUquKEVxVOXkBDqBAYw5rNPaR4UxKP9+/HAzIJ9e2+PnszeuJEVu3fzWL/+DGnZkvnh4SSmpfHOqlX0aNCgwD6Lt29n7qbN/OPqq4uiKcWewxieG9af2z+eTWRiEnP+NoblO/YSEX322nEkPpGxU2eRmJZOr8YhvDhyIDd+MIP9sScY/u4XucdZ/dS9LN22x11NKdHmLVjH/2at4eUXbnF3VUq0DnVCqOUfwL1fT6NJtSDuv6of/ze/4BhuR9Rx1h3azyvX3lBg2/bIY7wQNr8oqlsi7d10iPjIBB56ewxH90bx/cc/cNdLBfvx9uevz3381duLadIhBIB1YVupWrsytzx+LSmJqbz32Axa92iMVxmvomqCSK5LmmJjjMkyxmzK8/f3S30DY0wfY8x3f7yKYIxZZYzp+Af3/cwYU/D/0LPbyxpjXjPG7DHGbDXG/GaMGfzHa1t0WtYO4nD8SY6eTCAzO5vF23bSp2n+gV/8qVS2HYsiMyv7PEeBLqF1ORx/kuMJSYVd5RKrU3B9fty/A4A9sZH4eJcjoELFAuU2HTuQ+3hvbBSVK/rmPh/cpA2/HtpLQtqpQq9vSdE9tAFLdzn7dWdUJD7e3lSuWLBf29YO5scI5wB76c4ddA89e55X9C4LQIWyZUlKTyMr51f4tMzTAJRxOPByOMAWalOKpWZBQRw5eZJjCc5rxLJdu+jRMP81omeDBize7vw32HY8Et9y5aji4wNA6un8fWhz+nDdwUNk5TzZdvw41fx8Eae85/SOqEh8L+GcDtu5g6vqO/9d+jduwpp9e4lOdl6PT6amFlHNi7+rGjRgyQ5n326PjMTXuxyVK/oUKNc+OJgf9jj7dvGO7bkBkZOpqeyKisq9RuQVfvQoSTm/Fgu0Dg7iYNxJDp9I4HRWNt9v3sWAZvl/aPn90DES05yZY5sOHSfIv+B1oFvDuhyKO8mxkxpf/BEbNu4jIUFjhj+ra736rNjjvHbsinGO4QJdjOH2xcXkXnvl8uzcsJ/WPZtgjKFOoyDSTmWQdCLlvOXTUzPYv+0oTTvWz30tIzUDay0Zaaep4FsOh0MrQYh7XGoGSaq1tm2h1uQ8jDGFHTp8EagJtLTWphtjagC9C/k9r4jqfr5EJp69kEcnJtOqds3LPs41LZuweOuuK1m1Uiewgi9xKcm5z+NSkqlcwZeTqa4HLl7GQa/6Tfls3Q85+/vQKbgBLyz7hgZVahRJnUuCKj4+xOQZjMSmJFPFx5f4U2f71b98eZIz0snO+UIem5JE1Zwv8PO2bOJfQ4bxv3F3U9G7LC+HLcyNgziM4f0bb6VWpUrM3xLOzmjPyh4BqObrS3TS2f6NSUqmec2gfGWqnlMmOimZqr6+xKWk4DCGj8feSu2AAOZu2sz2yIJ9eG3LlizfpevHGVXPOadjUpKpegnn9JmgVO2AQMo4HEwccQMVypZlbvim3ICLp6vm40tM3vM5OZlqvr7Enzo7CK9UvjzJ6em5AbyYpCSq+SiAd7lq+PsSmedHk8jEJNoEn398cUOnVvy4+0CB169t3ZTvw3cWRhVFLlkVH19izxnDVfHx5cR5xnCuNKkexDvX30r8qRQ++XU1h07GX3wnD5IUn0KlKmevtf6VfUiKT8EvsGAQG2Dnun2EtqhNuYreAHS+uhUz31zIWw9MIz01gxseHoRxaP5HYVMPu/anQnPGmAPGmFeMMWuNMeuNMe2NMUuMMRHGmPvyFPU3xsw1xmw3xnxojHHk7P+fnP22GWP+dc5xnzXGrAFuzPO6wxgzzRjzkjHGyxjzb2PMOmNMuDHm3pwyxhjzXs57fQ9Uv0D9KwJ3Aw9Za9MBrLVR1tqv/ky/FBVX88bsZf5MXsbhoHeTBoRt332FalU6ue7r87uzc192RB1lZ8wxwLl+yYzff8JaD0xjuABzCZMfjYvL95le7Bhcj32xMdwy7b/cP2s6D/bsS8Wyzg/bbGu5/6vp3DrtY5rUqEFI5SpXsuolwqVcI1z+E+Scp9nWcvsX0xk59SOaBQURWiV/H/61S2eysrMJ26EvQGdc6Hy9UJkzvIyhcbXqPP3dt/x9wVzGdOxM7UoBV7iWJdSlfOa5OKF11b18Ls/j83Rkl/rB3NixJf9e/GO+18t6OejfrAGLtmh8IcXP5QzHImJjuHPmpzw8dwYLtm3m6YFDC69iJZWrDr3AEG/rz3tp2b1R7vOI8MPUqFeVxz4Yx32v3cyiz1aTfiqjECoqcnGXmkFSwRizKc/zV621ZybvHbbWdjPGvA18BlwFlAe2AR/mlOkMNAcOAouBkcBs4GlrbXxOlshyY0xra214zj5p1toeADnBljLAdGCrtfZlY8w9QIK1tpMxphzwkzEmDGgHNAFaATWA7cAn52lXQ+CQtTbxYh2Q8373AEyZMuVixYtEVGIyQf5+uc+r+/sSnZR8gT0K6tEolJ3Ho4hPUQrnuQY1bk3/hi0BiIiLooqPL+Ss6eX85cF1X9/Qqgv+5Ssw8Yflua/Vr1Kdh3s4Z275lytPu9ohZGVns/7IvsJtRDE0tGVrhjRvBcCu6Eiq+Z49h6v65M/UAUhIS8XXuxwOY8i2lqo+fsSlOH8xHtSsBbM2OhcdPZaYQGRiIsGBgeyKjsrdPyUjnfCjR+hYtx4H4uMKu3nFSnRSMtX9zvZvNT9fYpPzp7zGnFOmup8vsSn5yySnp/P7kSN0DQ1hf5yzD69p3pzu9UMZ//WcwmtACTGsZWuGtHCe07uj8p/T1S7znI5NSSbxUBppmZmkZWay5dhRGlStxtGEk0XXoGJkROs2XNfKeR3eGRlFtbzns2/B8zkhNRXfcuXwMoYsa6nm55fvl2O5NJGJSQRVOtvXQf5+RCcW7McmQVV5eeQg7vrsG06eyj9FqVfjULYdiyIuWeMLKXpDmrXm6qbOa8eemCiq5skkc2aqXvp1IfX02S/qG44cwMvRF/9y5XMXcfVUv4VtYeOK7QDUql+dhLizfZp4geyRU0lpHI2I4ubHrsl9bdOqHVw1vD3GGCoHVSKgmj+xx05Qu6GyrguTFml17UpMsTmzYtEWwNdamwQkGWPSjDFnfvb6zVq7D8AY8z+gB84AyU05gYcyOKe5NAfOBEjOXT1pCvCVtfblnOeDgNZ51hepBDQCegH/s9ZmAceMMSsusY0XZK2dCkw98/T9f711JQ77p2w7GkndKgHUDvAnKjGZa1o05alvFl7WMQa3bMIiTa9xKWx3OGG7nadju9ohXN24DT8f2E2jqkGcykh3Ob2mX8MWtK5VlxeXfZPvV8uHvv0s9/H93Qay8eh+jwyOACzYGs6Crc5+7VwvhOEt27Jq7y6a1ggiJSMj31SEMzYfPUyvBo1YtXc3A5s2Y+3+CACik5JoV6cuW48fI6BCReoEBHI8MYFK5SuQmZ1NSkY63l5etKtTl69+X1+k7SwOdkZGEhwQSE1/f2KSkxnQpAn/WrgoX5k1EfsY1a4Ny3buokXNIJLTM4hLSSGggrMPk9PT8S7jRce6dZm+zhmM6hJSjzGdO/LQrK9Jz8x0R9OKlflbw5mfc053qRfC8FZtWblnF80ucE5vynNOD2rajJ9zzumf90fwYK++OIyhrJcXTWsEMWez595d7NvwzXwbvhmAriGhXN+2DSt27aJ50Jm+LTjH/ffDh+ndqBErdu/mmmbN+SkioqirXeJtORJJSNUA6gQ6xxfXtmnCYzPzjy9qVvLjvbHDePyrRRyIPVHgGNe1acp3m5VdJu6xcEc4C3c4r8sdg0O4rnkbfty3mybVnGO4y5leE1ChYu6Yr1G1GjiM8fjgCEDnQa3oPCjnx4GNB1gXtpWW3RtydG8U5Sp6nzdAsv2XvTRuF0IZ77NfQ/2r+rF/6xHqNa1F8slTxB0/SWB1/yJph8i5rsRdbM7c2zE7z+Mzz88c/9y8K2uMCQX+D+hkrT1hjPkMZ+bJGeeOen4G+hpjJlpr03Ambj1krV2St5AxZoiL9zufvUBdY4xfTmCnRMmyllcXruQ/Y0fhMIZvN20lIiaOGzu0BuDrDeFU8anI/+4Zg085b7KtZWzX9lz//jRSMjIoX6YMXevX48Xvlrm5JcXf70cP0K5WCJOHjyMjM5P/rF2au+3vfYcz5ZdlnEhN4a7O/YhJSeSlq28G4LfDe5mzRbeCO5/fDh6gc91QPhtzG+mZmby5Iix320vXDuetlcuIP5XCR7+s4R8DhzCuS3ciYqJZvGMbANPX/8rj/Qcx5eaxGODjX9aQmJZGaJWqPN5vEA6HwYHhh4g9/Hpwv5ta6T5Z1vLWihW8NWokDofh+63b2B8Xx/DWzmvEvPBw1u7fT7f6Icy683bSTmfyyhLnv0EVHx+eHnw1DmNwGMOKXbv5eZ+zDx/t14+yZbx4+4aRgHNx1zeXLXddCQ/z68EDdK4Xyudjnef0v5efPadfvm44b61YRtypFD5au4anBw3h9q7d2RsTzaLtznP60IkTrD90kP+OHku2tSzavs3jMp/O55cD++kSGsL0224nPTOT18PO9u1rw0fw72VLiUtJYcqaNTw7ZAh3dr+KPdHRLNzm7NvKFSsy5ZZbqejtjcVyQ7t2jPvic05lZPDM4MG0rRNMpfLl+frOu/j0l7W5+3mirGzLC/NX8PEdo/AyDmav38re6DhGd3ZeO2b+Fs6D/bsRULECzw/vD0Bmdjaj3p8OQPmyZejeqB7PzF163veQi3v9lbF06tCAgAAfli16hvc/XMLceRpTXK71hw/QMTiEqTeNIz0zk8k/nj0vn7t6OO+udo41hrZow8jWHQis4MM7I8ew4cgB3l29nKtCGzKkWWuysrNJz8rkjRWLLvBunqlRu3rs2XSIdx+ZTtlyZRh+b7/cbdNf/45hd/fFr7IzYLJ17V56DGufb//e13fk2w+X858nZmItDLilKxX9dRc3cQ9zKWsiGGOSrbUFVjkzxhwAOlprY40xt+U8fjDvNqAlsIizU2wW4czE2At8jnNKTDWcmSNPWms/y3vcnGOtwhlM6QX0Ba4H7gCGADdaa08bYxoDR4GrgXtztlXHOcXmbmvt7PO07Y2c97/XWpthjKkJ9LfWfnmBLrFtikEGSWm2+bnHuPnLye6uRqk2a+x4Bn0wyd3VKNXCHngEgB4T33ZzTUq3NRMeZcD7OpcL07K/PUKfSTqPC9OqRx6l8VMT3V2NUm/3qxNo1X6Cu6tRqm3ZOJGhH2kMV5gW3DWeGRvVx4Xp1vbjoZSvY3rnnMluXabr41Hji2X//tE1SBZbay/5Vr/AWuA1nOuC/AjMtdZmG2N+x7lWyT7gp4sdxFr7ljGmEvAFMAYIATYa50qPMcAIYC7QD+eUn93ADxc57D+Bl4Dtxpg0nJkrz15G20RERERERESkhLukAIm11uWtdq21IXkef4ZzkdZzt63K+XO1/20XO27O8z55Hj+XZ9M/cv7O9aCr457nvTKAJ3L+REREREREREq1Ypm+UQz8qdv8ioiIiIiIiIiUBldikdYSwRgzFwg95+Unz13kVUREREREREQ8j8cESKy117u7DiIiIiIiIiLuZjTHxiVNsRERERERERERj+cxGSQiIiIiIiIiokVaz0cZJCIiIiIiIiLi8RQgERERERERERGPpyk2IiIiIiIiIh5Ei7S6pgwSEREREREREfF4CpCIiIiIiIiIiMfTFBsRERERERERD6IZNq4pg0REREREREREPJ4ySEREREREREQ8iBZpdU0ZJCIiIiIiIiLi8RQgERERERERERGPpwCJiIiIiIiIiAcxxr1/f77+prIxZqkxZk/OfwMvUNbLGPO7Mea7ix1XARIRERERERERKUn+Diy31jYCluc8P5/xwI5LOagCJCIiIiIiIiIexLj57woYDkzLeTwNGOGyncbUAa4FPrqUgypAIiIiIiIiIiJFxhhzjzFmfZ6/ey7zEDWstccBcv5b/TzlJgFPANmXclDd5ldEREREREREioy1diow9UJljDHLgCAXm56+lPcwxlwHRFtrNxhj+lzKPgqQiIiIiIiIiHiQK7FQamGz1g443zZjTJQxpqa19rgxpiYQ7aLYVcAwY8wQoDzgb4z50lo79nzH1RQbERERERERESlJ5gPjch6PA+adW8Ba+5S1to61NgQYDay4UHAEFCARERERERER8SilYJHW14CBxpg9wMCc5xhjahljFv7Rg2qKjYiIiIiIiIiUGNbaOKC/i9ePAUNcvL4KWHWx4yqDREREREREREQ8njJIRERERERERDxISVik1R2MtdbddSiJ1GkiIiIiIiKlV6kOITy8YLJbv9O+M3R8sexfZZD8Qb3fftvdVSjVfnj0UVo8M9Hd1SjVtr04gUEfTHJ3NUq1sAceAaDPJF0vCtOqRx6l7zs6lwvTyocf0fWikIU98AhDpqiPC9vCex9h6EeT3V2NUm3BXeNp1X6Cu6tRqm3ZOJGnlrzj7mqUaq9e/bC7q1DoimV0ohjQGiQiIiIiIiIi4vEUIBERERERERERj6cpNiIiIiIiIiIeRIu0uqYMEhERERERERHxeMogEREREREREfEgSiBxTRkkIiIiIiIiIuLxFCAREREREREREY+nKTYiIiIiIiIiHkSLtLqmDBIRERERERER8XgKkIiIiIiIiIiIx9MUGxEREREREREPohk2rimDREREREREREQ8njJIRERERERERDyIFml1TRkkIiIiIiIiIuLxFCAREREREREREY+nKTYiIiIiIiIiHkRTbFxTBomIiIiIiIiIeDxlkIiIiIiIiIh4ECWQuKYMEhERERERERHxeAqQiIiIiIiIiIjH0xQbEREREREREQ9itEqrS8ogERERERERERGPpwwSEREREREREQ+i/BHXlEEiIiIiIiIiIh5PARIRERERERER8XiaYiMiIiIiIiLiQbRGq2vKIBERERERERERj6cMkhKic716PNSnDw6Hg++3bmXGunUFyjzcpw9dQkNJP32aV8PC2BMdfcF97+jWjR4NGpBtLSdTU3l1yRLiUlIY0LQpozt0yD1ug2rVuHv6dPbGxBRNY4uhHg1D+Pu1ffEyhjkbtvLR6t/ybb+2dVPu7NkZgFMZp3lxwTJ2RcYQ5O/Hq6OuoYqfD9Zavl4Xzpe//O6OJhRbD/ToTad6oaRnnubN5WHsjS14ngX5+fOPQUPwK1eOPbExvLFsMZnZ2dzYtgP9GjcFwMsYggMrc9OnU0hKTwfAYQzv3XALsSnJPLtwfpG2qzh5qHcfuoaGknb6NK+FhbEnJrpAmSB/f54dMgT/cuXZHRPNK4udfVw3MJAnBw2iUbXqfPzzz8zauCHffg5jmHLLrcQmJ/PU/HlF1aRi56FevekSEkpa5mleXxrGHhfXyyB/f569Zgh+5cuxJzqGV8KcfTygSRNGd+gIQOrp00xauYKI2FgAfLzL8fiAAYRWroIF3li2lO2Rx4uyacXKn7leVPT25u8DrqGarx9eDgezN20gbOd2AB7rO5Cu9UI5mXqKe2Z9WdTNKrbu7d6bTnWd/f3WqjAiXPT3dS3aMKJVO2pVCmD0tA9JTEsDoE/DJtzY9ux5/f7qFeyPjy3S+pcE93TrTYc6IaRnZTL5hzAi4gr28bXNWzOshbOPx3wxhcR0Zx+3rFmbfw4cSlRSIgBrD+xl5u+/Fdhfzu+F526mV89mxMcnM/KmN91dnVJjaNNeNKkWQkZWJrO3LOVYUsHz+oaWAwgNrE1aZgYAs7cu5XiSrhFFSQkkrimDpARwGMMj/frxxLffMm7aNPo3aUK9ypXzlekSEkKdgADGfPopby5bxmP9+l1035kbNnDHl19y1/TprN23j3FduwKwbOdO7po+nbumT+eVxYuJTEz06OCIwxieHtqf+z7/hmHvfsaQ1k1oUC1//x89kchtH89i5Puf8+GqtTw/bCAAmdnZvLH4B4a98xm3TJnBLV3aFtjXk3WqG0LtSoHcPv0zJq1azsO9+7ssd2e3HnyzeSO3z5hGcnoa1zRrCcDXmzZw/1fTuf+r6Xzyy09sOXY0NzgCcH3rthw6EV8UTSm2uoSEUCcwgDGffcrE5ct4tH8/l+Xu7dGT2Rs3MnbaZySnpTOkpbOPE9PSeGfVqgKBkTNGtW3HwXgP7+N6IdQOCGTs558xccVyHu3r+jy+96oe/9/encdHVZ1/HP88CTthXwQEDPsqIqCCIogLKnVfatXWfau17q21/rSt1ar9ubf+qqhVtO5a3CqCICIguKFl3xdRSNhDEkIgyfP7407INgkgmdxh5vt+vebl3G3muYfryT3PnHMub3wzi1+8MIbs/O2M6hOU8dqsrdz41ptc8fJLvPjFF9xy7PG7jvn18OF8sWolF//rBa54+V9JXdb7Wl+c1vcQVm3axC9ff4nfvP0mVx05jFopwW3QRwvn8/v3x9bUqewXBnUIyvuKV5/n8U8ncd3Q6OU9P2MNv3//37sa6cUys7dy27tv8qs3X+LVWV9w/bDjox6fzAa2T6dd46Zc/cYYnpg6iV8eFb1+XpC5ljvHVSxjCMr/hrEvc8PYl5Uc+RHeee9Lfnnd02GHkVB6tDyIFg2a8uDUFxg772PO6D2i0n3HLZ7O32a8wt9mvKLkiMSN3SZIzKzQzL4t9frdnn64mR1jZu/vS4Bm9omZDfqRxz5vZudUsb2OmT1qZsvMbKmZvW9mHX98tLHRq00bftiyhbVZWRQUFfHxokUM7dKlzD5Du3Rh/IIFAMzPyCCtbl2aN2xY5bHbduzYdXy92rXBvcJ3H9ezJ5MWLozh2cW/g9u3YfXGLXy/OYudhUV8MGcRI3p1LbPPt6vXsHV70DCfvXotBzRJA2BDTi4L1ga/1m/bsZPl6zfRunGjmj2BOHZkpy58tCi4bhdmZtCwTh2aN2hQYb/+B3bg02VLAPho4QKO7NSlwj7HdOvB5CWLdi23bJjG4Qd14sMFc2MU/f7hqPJ1Q526NG/QsMJ+Azp0YMqSoIw/XDB/Vz2xJS+PRZmZFBYVVTimVVoagzt14j9zk7yMO3dhwsKgjBdkZNCwbvTr+ND2HZiyNCjj8QsWMLRzUMbzMtaSE0nszc9YS8u0oP5oUKcO/dodyAfz5gFBwjV3R36Fz00W1VFfNKhTG4D6tWuTnb9913U9Z23Z5KrA4PQuTFoclPeidcF13SxKeS/fuJ51ORUb7gsy15ITuV4XZq6lReS6lhKDD+rMx0siZbw+g4Z16tKsfmVlnF3T4SWFr2ctJytrW9hhJJRerTvzzZqg7bA6K4N6tevSqE7F61okXu1JD5I8d+9f6nV/zKOKMLPUGH/FX4BGQHd37wq8BbxjZnHVs6ZlWhrrskv+MK7Pydl1A13VPq3S0nZ77BVHHskbV1zB8T178uyMGRW+e0T37kxatKjC+mRyQOM01maVlGFmVjYHNKr8Ru+sgQczdfHKCuvbNW1Mr7atmf198naPL69Fw4asL3XTtyE3hxYNy5Zt43r1yNmRT1EkgbchN5uWDcs28OvWqsWgjulMW75k17pfDh3OMzOmUVQx75dUWjVMY32UuqG0JvXqkZOfT2GkjNdnZ9Oq4e4bM9cNP4anpk3FSe5CbpnWsEw9uyFKHd04UsbF1/H6nGxaplVMVI3q3YcvVq0EoG3jJmzJy+O240cy+vwLuPW446lXK3lHxu5XQU9WAAAgAElEQVRrffHOnG/p0Kw5r1x8JU/97Of8Y9onSX7lVq1lw4aszy1b3i0b/Lgkx8ieffj6u5XVFFniaNEwjQ25ObuWN0a5pnenR+s2PH7mBfzxxNPp2FQ9VCV8TeqmsWV7Sd2RtT2HxvWiX9cjuw3h+iMv4Cc9jiY15s0+KS/Fwn3Fqx+dCDCzlWb2FzObYWZfmdkAMxsf6Y1xTaldG5vZWDObb2ZPFicfzOwfkePmmdmfyn3uXWY2DTi31PoUMxtjZveYWaqZ/a+ZfWlms83s6sg+ZmZ/j3zXf4DWVcTfALgUuMndCwHc/TkgB6jQD9TMrorE+9Xo0aN/bLH9KFGvn3K9PaLt4+67PfaZzz7j3GeeYeLChZzVv3+Z3Xq1aUN+QQErNm7c25ATTMVSrOym+vBOHThrYF8envBpmfUN6tTm0Z+dxv3jJpObv6OSo5OP7cH02bYH5T84vTPzM9bs+gX4iMhcAtHm2kg6UYq4QkIjyr/D7hqOQzp1YvO2bSxepzKOdo1WLOIoZVxun/7t2zOqT19GT58GQGqK0b11a96dM5urXnmZ7Tt3cv6gw6or7P3OvtYXgzocxPIN6zl/zNP88rWXuO7oETSoXaeao0wke18vRNOvXXtG9uzLPz+ftu8hJYEonXkrtWzDei5/9TmuH/sy7837L3eccGrsAhPZU3ty3wGMX/wZD097kSdmvEaD2vUY3nlgxQNFQrAnP0XVN7NvSy3f5+6vRd6vdvchZvYI8DxwFFAPmAc8GdnncKA3sAr4EDgLeBO4w903RXqJTDKzfu4+O3LMdncfChBJttQCXgLmuvu9ZnYVkOXuh5lZXWC6mU0ADgV6AAcDBwDzgX9Wcl5dge/cvXy/0K8i8U4ovdLdRwPFmRF/6ZFHqiiy6rU+J4fWjUqGZbRKS2NDbu4e7VM7NXW3x0Iw78j9Z5zBc6V6kRzbo0fSD68ByNyaTdsmJWV4QJNGrMvOqbBf9wNa8qczRnLNC/8mK2/7rvW1UlJ49Gen8Z/ZC5g4f2mNxBzPTu3bj1G9DwaCbtut0krKtmXDNDbmli3brO15pNWpS4oZRe60bNiIjeWu4WO6di8zvKZP23YMTu/MYR07UadWKg1q1+G240/kgYnjY3hm8eOMfodwysHBvAsLMzJpVb4OyClbfll5eaTVrUuqGYXutGrUqMyvmtH0bdeOozp3ZnCndOqk1qJBnTrcceJJ3Dv+w2o/n3h0Rr9+/KRPcB0vzMwI6tlI57CWaWkVyq+4jIuv41ZpZa/jzi1acutxx/O7d97eNcnl+pwc1ufksCAzA4ApS5dwwcDkSpBUZ30xslcfXpsVTFK+ZmsWGVu30qFZMxaty6yhs4l/p/Tpx4k9g/Jesj6DVg3Llfe2quuF8tKbt+SGYcdz17i3yc7fvvsDksCoXv04sWdQPy9Zn0nLUj1GWjRMY9NelHHezpIfXL7+fiWpKSNoXLferklcRWrK4A79OKx9HwC+35pJ03qNWBX5o9ikXhrZ2yu2PbJ3BEObCr2Qr36Yz7D0ATUXsACapLUye5IgyXP3/pVsK34sxBwgzd2zgWwz225mTSPbvnD35QBm9gowlCBB8tNIoqMW0JYgKVGcIClOwBR7Cnjd3e+NLI8E+pWaX6QJ0A0YBrwS6RGyxsw+ruK8jOg/hsTdtbIwI4P2zZrRpnFjNuTkcGyPHvx53Lgy+0xfvpyzDjmESYsW0btNG3J37GBTbi5Z27ZVeuyBTZvyw5YtQDBPwXebN+/6PAOO6daN6994o8bOM17N/SGDji2acmDTxqzLzmHUwT34zRsflNmnbZNGPHb+adz+5jhWbdxcZtvdZ45k+fqNjPks+iSXyea9ubN5b27wv/rhB6Vzet/+fLJ0ET0PiFy32yqOBf7vD6sZ1qUbnyxdzAk9ezFjxbJd2xrUqcPB7drzwMSShvk/Z07nnzOnA8Gvl+f0H5A0yRGAt2f/l7dn/xeAwemdOLP/IXxcum7YVvFG5ZvVqxnerRsfL17MSb16M33Zsgr7lPb09Ok8PT0o4/7t23PegIFJkxwBeHv2bN6eHVzHg9PTOaNffz5evIhebdqQmx/9Ov7m+9UM79qNyUsWc2KvXkxfHpRx67RG3P2TU7hv/Hi+j9TJAJu3bWNddjYdmjZj9ZbNDOjQkZWbkqtHX3XWF+uyszm0fUfmrl1D0/oNaN+0GWu3ZtXo+cS79+fN5v15QXkf1jGdU/v0Z8qyRfRoHZT35ijlXZlWaY34n5Gn8ODk8fyQtWX3BySJDxbM5oMFQRkP6pDOKb0P4dPli+nRqg3bduSzOW/Py7hp/QZsiezfrdUBpJgpOSKhmLl6NjNXB9d1j5bpDOnYj/9mLKZDkzZsL8jflQwprVGdBrvW9zmgMxk5yfX3TeLXvg5mLp7RrKjU++Ll4s8un4RwM+sE3Aoc5u6bzex5gp4nxcrfvX8GjDCzh9x9O0H7/dfuXqbFY2ajonxfZZYCB5lZo0hip9gAggRO3Ch059GPP+bBs84ixYwP5s1j5caNnNavHwDvzp7NzBUrGJyezsuXXkp+QQH3T5hQ5bEAVw8dSodmzXB3MrOzeWjixF3feUj79qzPyWFtlm4eC4uce9//mNEXn01KSgpjZ81l2bqN/PSwoPxf/3I21xwzhCYN6nPnqcEs/wVFRZz35EsM6Hggp/fvw6KM9bx17S8AePSjaUxdsiK084knX6xayeEdO/H8hZeQX1DAgx+XdNy65yen8/DkiWzalsszM6fx+xNGcfERR7Js/To+XDBv135HderKrNWr2F5QEMYpxL2ZK1dwRKd0XrokqBsemFBSxveffgb/O/EjNubm8tS0adw1ahSXH3kUS9at2zUxaPMGDXjq/AtoUKcOjnPOoYdy8YsvlJnkOdnNXLmSI9I78a+LLyF/ZwEPTCwp4/tOO50HJ01kY24uo6dP486TRnH5kCNZsn4dH8wPyviiI46gcb163DgieIJFYVER17z2CgCPT/mEO048iVqpKazN2lrms5PNvtYXL331Ob85biRPnfdzDHh25rRdvXVuP+Fk+rVrT5N69Xjpost58cuZZeqZZPTldys5rGMnnv1ZUN6PfFJS3n86+XQemxKU92l9+3POIQNp1qAhT5zzc776biWPfTqRCwYcQaN69bh2aHBdF3kRN/z7lbBOJy59tXolgzqkM/qnF5NfUMBjn360a9sfTjydv00NyvjUPodwVr+BNKvfkMfPupCvv1/J36ZO4qhOXRnVqx+FRUXkFxbw14/HVfFtEs0Df/k5hw3sQtOmDZk47k6eeHI8Y9/R04D2xaINK+nRKp1bj76YnYU7eXNuSfvikgGn8da8SWTn53JevxNpWKc+YKzNXs/bSyaHF7RIKea7GexoZjnuXmFmHTNbCQxy9w1mdknk/XWltwF9gXGUDLEZRzBMZSnwAsGQmFYEPUduc/fnS39u5LM+IUimDANGAGcClwGjgHPdfaeZdQd+AE4Ero5sa00wxOZKd4+a8DCzhwkmab3G3QvN7CLg58CJXnXB+PAaHGKTjKbcdBN97nwo7DAS2rw/38LI/3s07DAS2oRrbwTgmEdVX8TSJzfexIjHdS3H0uTrb1R9EWMTrr2RUU+pjGPtg6tv5NRnHgs7jIT23hU3cPCAW8IOI6HNmfUQt49/POwwEtp9J14PcTiyoDrd9dHjoc5VfvcJ18dl+f6YOUg+dPc9ftQvMAO4n2BekE+Bse5eZGbfEMxVshyYvrsPcfeHzawJ8CJwIZAOzLJg1rb1wBnAWOBYgiE/i4Epu/nY24H/BRaZWf3I5wzZTXJERERERERERBLMbhMk7h71mUvunl7q/fMEk7SW3/ZJ5BXt+Et297mR5WNKvf9DqU2/j7zKuy7a51byXfnA9cD1ZtaGYBLZX1AyGauIiIiIiIiIJIF9nYMkYbh7BlDZZLQiIiIiIiIiCSEux7fEgaRIkJjZWKBTudW3lZ/kVURERERERESSU1IkSNz9zLBjEBEREREREYkHpi4kUaWEHYCIiIiIiIiISNiUIBERERERERGRpJcUQ2xEREREREREJKARNtGpB4mIiIiIiIiIJD31IBERERERERFJIpqkNTr1IBERERERERGRpKcEiYiIiIiIiIgkPQ2xEREREREREUkiGmETnXqQiIiIiIiIiEjSUw8SERERERERkSSSoi4kUakHiYiIiIiIiIgkPSVIRERERERERCTpaYiNiIiIiIiISBLRCJvo1INERERERERERJKeepCIiIiIiIiIJBFTF5Ko1INERERERERERJKeEiQiIiIiIiIikvQ0xEZEREREREQkiWiETXTqQSIiIiIiIiIiSU8JEhEREREREZEkYhbua9/jt+Zm9pGZLYn8t1kl+zU1szfNbKGZLTCzIVV9rhIkIiIiIiIiIrI/+R0wyd27AZMiy9E8Bnzo7j2BQ4AFVX2oEiQiIiIiIiIisj85HRgTeT8GOKP8DmbWGBgGPAvg7jvcfUtVH2ruXs1xJgUVmoiIiIiISOJK6HlM//rJ46G2aW8bccPVwFWlVo1299F7eryZbXH3pqWWN7t7s3L79AdGA/MJeo98Ddzg7rmVfa6eYvMjnfbsY2GHkNDevfwGBj/wcNhhJLSZt93MwHtVxrH09R03AzDi8UdDjiSxTb7+RgY/8EjYYSS0mbfdxJC/qoxjacZvb+L0f+reItbeuewGXp6lco6lCwbcwO3jHw87jIR234nXc/CAW8IOI6HNmfVQ2CEkvEgypMqEiJlNBNpE2XTHHn5NLWAA8Gt3/9zMHiMYinNnVQeIiIiIiIiIiMQNdz++sm1mlmlmbd19rZm1BdZF2e174Ht3/zyy/CaVz1UCaA4SERERERERkaSyvz/FBngXuDjy/mLgnfI7uHsGsNrMekRWHUcw3KZSSpCIiIiIiIiIyP7kfuAEM1sCnBBZxszamdkHpfb7NfCSmc0G+gN/qepDNcRGREREREREJIlUUy+O0Lj7RoIeIeXXrwFGlVr+Fhi0p5+rHiQiIiIiIiIikvSUIBERERERERGRpKchNiIiIiIiIiJJRD0lolO5iIiIiIiIiEjSUw8SERERERERkSSyv0/SGivqQSIiIiIiIiIiSU8JEhERERERERFJehpiIyIiIiIiIpJENMImOvUgEREREREREZGkpx4kIiIiIiIiIklEk7RGpx4kIiIiIiIiIpL0lCARERERERERkaSnITYiIiIiIiIiSUQjbKJTDxIRERERERERSXrqQSIiIiIiIiKSRDRJa3TqQSIiIiIiIiIiSU8JEhERERERERFJehpiIyIiIiIiIpJENMImOvUgEREREREREZGkpwSJiIiIiIiIiCQ9DbERERERERERSSJ6ik106kEiIiIiIiIiIklPPUhEREREREREkog6kESnBEkCuHLwcAZ1SCe/oIBHP53A8o3rK+zzk179OK3vobRt3JQL//UU2fnbd23r2+ZArhg8nFopKWzdnsfvP3irJsOPS4M7pXPTcceQkpLCu/+dw4uff1lhn5uPG8GQLp3I37mTP38wnkWZ6wD42aABnHZIX9xh2foN3PPBeHYUFnLdMcMY2rUzBYWFfL8li3s+GE9Ofn4Nn1n8GtI5nVtHHkOqpfD2t3N4fkbZMk9v0Yw/nHIiPdu05v8+mc6Ln38NQJ3UVJ6+6DzqpKaSmmJMWriEpz6dEcYpxK1fDxvOEemd2F6wkwc+msCS9RXriDaNG3PXSaNoVK8uS9at5y8TPqSgqIjje/TgZwMHAZC3cyePTv6YZRs20KFpM+46edSu49s2acxzM2fy1rff1Nh5xYvBnQ4qVV/MraS+OKZUfTGBRZnr6Ni8GfecVlKGBzZtwuhpM3jtq284tkc3rhg6hPQWzbnshVdYmJFZk6cUdwZ3Oogbjwvqh3dnRy/jm447hiM7d2L7zp38edwEFkfq5LS6dbn9pBPo0rIFjnPvuI+Yu2YtVw0dwtFdu1DkzuZtedwzbjwbcnJr+tTi2pVHDGdg5P7isanR7y9G9erHaX2C+4ufv1Ryf3Fm3wEM69ITgNQUo32T5lz08mhydujvXjF358Mx01jy7Spq16nFGb88jradWlXY77k/jiV/+w4AcrPyOLDrAfzslpPZvi2fsU9MJGtDDkWFRQw5pT+HHtOrpk9jv3Nqz2H0aJXOjsIC3pzzEWuyK17X5/Q9nk7NDmR7QVDub879iLXZG2o61IRw9x/OY9jRvdi0KYezfvpg2OGI7JYSJPu5ge3Tade4KVe/MYYerdrwyyOP5TfvvVZhvwXr1vLluBXcO+qcMusb1qnDNUeO4I/j32FDbjZN6tWvqdDjVooZt55wLNe/9hbrsrN57uILmbp0GSs3btq1z5DOnejQvCnnjv4nfdq15bcjj+PyF1+hVVoaPx14KOc/O4b8ggLuOf0nnNCrB/+ZO58vVq7iH1OmUujOr4YfzcWDD+eJKVNDPNP4kWLG7046lmtffovMrdm8eNmFTFmyjBUbSso8K287/zthMsf06Frm2B2FhVzzrzfI27mTWikpPHvReUxfupK5a9bW9GnEpSMOSufAps34+QvP06tNG24acRzXvv5qhf2uPmoob3wzi8lLFnPTiGMZ1acv786Zzdqsrdz41pvk5Odz+EHp3HLs8Vz7+qus3rKZK195CQj+/d647AqmLVta06cXupL64t+R+uKCKPVFeqS+eI4+7drw25HHcvmLr/Ldps1c9HxJGb537ZVMWRyU4fING/nd2Pf43YnHhXJe8STFjFuOP5YbXg/K+J8XVVLGzZpy7tPP0adtG357wrFc8a/gOr/puGOYuWIld7zzPrVSUqhXuzYA//ria0ZPC5Kp5w7oz2VHDuavEybV/AnGqYHt02nbpCnXvDmG7lXdX2Su5avVK7jn5LL3F2PnzmLs3FkAHNahE6f1OVTJkXKWfvsdmzKy+PUjF/LD0kz+8+wUrrjnnAr7XfrHM3e9f/2RD+kxMB2ALyfMpeWBzTn/Nz8hd2sef7/5ZfoN7U5qrdSaOoX9To+WB9GiQVMenPoCHZq04YzeI/i/z1+Puu+4xdOZm5l8f9eq2zvvfckrr03j3rvPDzsUkT2yx3OQmFmhmX1b6vW7vTj2GDN7/8eFuOszPjGzQT/y2OfNrOJfnJLtp5jZN2b2XzObb2ZX//hIa9YRB3Vm8tIFACxan0HDOnVpVr9Bhf2Wb1zPupzsCuuHdenJjFXL2JAbbMvanhfbgPcDvdu24fstW1iTlUVBUREfLVjIsG5dyuwzrFsXPpg7H4B5a9aSVrcuLRo2BCA1JYW6tWqRaka9WrVZH/lF8ouVqyh0B2DumrW0bpRWg2cV3/q0a8PqTVv4YUtQ5hPmL+SY7mXLfPO2POavzaSgsKjC8Xk7dwJQKyWFWqkpgNdE2PuFozp3YcLCoI5YkJFBw7p1aN6gYh1xaPsOTFm6BIDxCxYwtHNQ/vMy1u7q6TQ/Yy0t0ypetwM6dGBNVhaZ2RXrmERXsb5YVEl9EfwbzFuTUaa+KDbooA78sCWLjK1BGa7cuInvNm2umZOIc+XLeOKCRQzrWq6Mu3Zh3LxIGa/NIK1eUMYN6tShf/sDeW/2XAAKiop2Xc/bduzYdXz92rVxV71R2uEdS+4vFldxf7FiU/T7i9KO7tyDT5cvikmc+7OFX6+g39E9MDPad2vD9m07yN5ceS+m/LwdrJj3Az0Hdd61bkfeDtydHdt3Uj+tLikpml6wKr1ad+abNQsBWJ2VQb3adWlUp+J1LdXn61nLycraFnYYEoVZuK94tTc9SPLcvX/MIqmCmcUsFW5mtYHRwOHu/r2Z1QXSY/V91a1FgzTW5+bsWt64LYcWDdPYnLdnFdGBjZuSmpLCvaPOpn7t2rw371smL10Yq3D3C60apbFua8nN3rrsHPq0bVt2n7SK+7RqlMbCjExe+uIr3v7lFeQXFPDFilV8sXJVhe84tV8fJi5YHLuT2M+0bpRWpnGduTWHvge2reKIslLM+NflF9KhWVNe/+q/zF2TEYsw90st0xqyrlTZbsjJoWVaGpu2ldQRjevVIyc/n6JIA3F9TjYt0xpW+KxRvfvwxaqVFdYf260HkxYnZ+Mnen3Rpuw+ldQXG3NLGkIn9OrBhAXJXfdWplVaWplreF12Dn3alSvjRmlklirj9ZEyLiwqYkteHv9z8ki6tW7FwsxMHpn0Cdt3FgBw9dFHcnKf3uTk53Pdq2/WzAntJ1o0SGNDqfuLDbk5tGiw5/cXxeqk1mJA+4MYPWNydYe438velEuTFiVJ58bNG5K9KZdGzSrWvwALv1xOpz4HUrdBHQAOP/FgXn3wAx6+dgz5eTs45/qRWEoctzriQJO6aWzZXlJXZG3PoXG9NLJ3VLyuR3YbwrFdDmfZxtV8uPgzCr2wJkMVkZDsc5rZzFaa2V/MbIaZfWVmA8xsvJktM7NrSu3a2MzGRnpoPGlmKZHj/xE5bp6Z/anc595lZtOAc0utTzGzMWZ2j5mlmtn/mtmXZja7uOeHBf4e+a7/AK2rOIVGBImijQDunu/uFe70zeyqSJxfjR49el+KrHpF+Tu4Nz+Cpaak0LVla+6e8A5/+PBtzut/BO0aN62++PZD0W8tyhZqtKynu9Oobl2GdevCWU8+yylPjKZe7dqc1LvseOBLhhxOQZHz4fwF1Rbz/i5ame/Nr7lF7lzwzL84+fGn6duuDV1atai+4PZzFrWSKLdPlAu6fPH3b9+eUX36Mnr6tDLra6WkcGTnzkxZsmRfQ90v7Ut9UaxWSgpHd+3CxwuTswx3Z3flVxl3JzUlhe4HtObf387m4jEvkbejgIuOOGzXPk9N/YwznnyGCfMXcs6AUH4DiltRy/1HfM7hHTuxIHONhtdEE+06riK/MfezpfQ9stuu5WWzV3PAQS25+f8u5pr7z2Pc81PJ37aj8g+Q6PfNUa7s8Ys/4+FpL/LEjNdoULsewzsPrIHgRGpWSsiveLU3PUjqm9m3pZbvc/fiwair3X2ImT0CPA8cBdQD5gFPRvY5HOgNrAI+BM4C3gTucPdNkV4ik8ysn7vPjhyz3d2HAkSSLbWAl4C57n6vmV0FZLn7YZGeH9PNbAJwKNADOBg4AJgP/DPaSUW++11glZlNAt4HXnH3onL7jSboaQLg7z/72F4UXfUa1asfI3v0BWDJhkxaNUyjuKndokEam7blVH5wORtyc9i6PY/8ggLyCwqYl/EDnZq3ZM3WLTGIfP+wLjuH1o0b7Vpu3SiN9Tk50ff5oWSfDTm5HJbekTVZW9mSFwxV+mTxEg4+sO2uZMiovr05qktn/VJZTmZ2Dgc0KinzAxqnsSFnz6/jYjn5+Xz13WqO7JzOsvUbqzPE/coZ/frxkz4HA7AwM4PWjRpBZEqWlmllfxUGyMrLI61uXVLMKHKnVVqjMr0bOrdoya3HHc/v3nmbrdu3lzn2iPR0Fq9ft9e/KieK6PVFbvR9ytUXxYZ0TmdR5royvXqkxLrsnOAajihffhD0GDmgVBm3iuzjOOuzs5m/NuhVNnnxEn5xRMXRuhMWLOTBs8/gmenJPcHzqF79OKF7cH+xdEMmLRuW9G5o2XDv7i+KHd25O1OXq8dksS8mzGHWx8EQ3XadW5O1saRMt1bRe2Rb9nZ+WJbJeTeftGvdt58s4KjTB2BmNG/ThKatGrNhzWYO7HpAbE9iPzO4Qz8Oa98HgO+3ZtK0XiNWRf4oNqmXRvb2isOainuUFHohX/0wn2HpA2ouYBEJ1d4kb/LcvX+pV+mZut6N/HcO8Lm7Z7v7emC7mRV3R/jC3Ze7eyHwCjA0sv6nZjYL+AboQ5BEKVZ+NrCniCRHIssjgYsiiZvPgRZAN2AYQZKj0N3XAB9XdWLufgVwHPAFcCuVJFPixQcLZnPj2y9z49sv8/mqZYzoGvRQ6NGqDdt25u9VQ+XzVcvo3eZAUsyok1qL7q0PYHVWco97X7A2gw7NmtK2SWNqpaRwQq+eTF26vMw+U5csY1Tf4FLt064tOfk72JibS+bWbPq2a0PdWkHucdBBHXdNJDi4Uzq/OOIwfvPWO+QXFNToOcW7+Wsy6NC8Ke0iZT6yd0+mLF6++wOBpg3qk1a3LgB1a9XiiPSOZSZvTEZvz57Nla+8xJWvvMT05csY2TOoI3q1aUNu/o6oDfFvvl/N8K7BL5Mn9urF9OXLAGid1oi7f3IK940fz/dbKiZOj+3eg48XJefwGiiuL5qVqi96RKkvljOqb/Bv0Kddm131RbGRvXtqeE0Vypfx8dHKeOlyTu4TKeO2wXW+MTeXTbnbyNyaQ8fmzYBgrpfi+qF9s5LekkO7dmGV5nzhgwWzuemdl7npnZeZWer+onurNuTu2Lv7C4AGtevQp017Pv9uWSzC3S8dPvJgrrn/PK65/zx6DurE7KmLcHe+X5JB3QZ1Kk2QzJ+5lO6HplOrTslvm41bNmLF3O8ByNmyjY1rt9CsdeMaOY/9yczVs/nbjFf424xXmJ+5nEPbBU9X6tCkDdsL8qMOryk9L0mfAzqTkZO8P7qIJJvqeopNcb/JolLvi5eLv6N8/zU3s04ECYnD3H2zmT1P0POkWPmU7mfACDN7yN23E3SU+7W7jy+9k5mNivJ9VXL3OcAcM3sRWAFcsjfHh+Wr1SsZ2D6dp869mPyCAh6f+tGubXeNPJ2/T5vIpm25nNL7EM7qN5Bm9Rvy+JkX8vX3K/n7tEl8n7WZWd+v5PEzL8RxPlo0j+82J/cfgUJ3HvxoMo/99GxSzHh/zlxWbNjImf37ATD229l8tnwFR3bpxJtXXcb2ggLu+SC4BOetzeDjRUsYc8nPKSwqYnHmOt7+7xwAbjnhWOqkpvL4eWcDwUStemJCoNCdv46fzN/PP5vUFOOd/85l+YaNnD0gKPO3Zs2mReXcfBUAABkZSURBVMMGvHjZhTSsWwd35/zDB3DuU2NomdaQP516EqlmmBkTFyxm6tIVIZ9R/Ji5ciVHpHfiXxdfQv7OAh6YOGHXtvtOO50HJ01kY24uo6dP486TRnH5kCNZsn4dH8yfB8BFRxxB43r1uHHEsQAUFhVxzWuvAEFCamCHjjz8cfJex0F98TGP/fSsSH0xr5L6Ip03r7o0Ul+U/BvUrVWLw9M7cv+HE8t87vBuXbjlhBE0rV+fh885ncXr1nPj62Nr9NziRaE7D038mEfPLVXGG6OUced03rjy0uAJYuNKyvjhSZP54yknUzslhR+ysrg3Uv7XDhtKx+bNcHcytmbz1wkTo35/svr6+5UM6pDOk+cE9xd/K3V/cecJp/PEtIlsygvuL848uNT9xeqV/H16UCcMPqgL3/6wSj8KVKLboQex5Nvv+NuNL1G7bi1Ov/rYXdteeuB9TrtyBI2aBwmTuTOWMvS0sr0Yhp85iLefnMQ/fvsq7nD8+YNp0FhPI6zKog0r6dEqnVuPvpidhTt5c27J//eXDDiNt+ZNIjs/l/P6nUjDOvUBY232et5eojl0fqwH/vJzDhvYhaZNGzJx3J088eR4xr7zRdhhCfE9UWqYbE/H+ZtZjrtXeHyBma0EBrn7BjO7JPL+utLbgL7AOEqG2IwjGK6yFHiBYEhMK2A2cJu7P1/6cyOf9QlBMmUYMAI4E7gMGAWc6+47zaw7QQfbE4GrI9taEwyxudLdK4xrMLO0yPd8Elk+HnjU3ftWURx+WohDbJLBu5ffwOAHHg47jIQ287abGXivyjiWvr7jZgBGPP5oyJEktsnX38jgBx4JO4yENvO2mxjyV5VxLM347U2c/k/dW8TaO5fdwMuzVM6xdMGAG7h9/ONhh5HQ7jvxeg4ecEvYYSS0ObMegipnBdr/jZ75eKiPb7tq8PVxWb77MgfJh+6+x4/6BWYA9xPMC/IpMNbdi8zsG4K5SpYD03f3Ie7+sJk1AV4ELiR44swsC2YZXA+cAYwFjiUY8rMYmFLFRxrwWzN7Csgj6LVyyV6cl4iIiIiIiMh+Iy6zE3FgjxMk7h71Ubvunl7q/fMEk7SW3/ZJ5BXt+Et297mR5WNKvf9DqU2/j7zKuy7a50b5nmyCniYiIiIiIiIikqTi+Qk7IiIiIiIiIiI1oromad0vmNlYoFO51beVn+RVREREREREJFFpktbokipB4u5nhh2DiIiIiIiIiMSfpEqQiIiIiIiIiCQ7dSCJTnOQiIiIiIiIiEjSU4JERERERERERJKehtiIiIiIiIiIJBFN0hqdepCIiIiIiIiISNJTDxIRERERERGRJKIeJNGpB4mIiIiIiIiIJD0lSEREREREREQk6WmIjYiIiIiIiEgS0Qib6NSDRERERERERESSnhIkIiIiIiIiIpL0NMRGREREREREJInoKTbRqQeJiIiIiIiIiCQ99SARERERERERSSLqKRGdykVEREREREREkp4SJCIiIiIiIiKS9DTERkRERERERCSJaJLW6NSDRERERERERESSnnqQiIiIiIiIiCQRw8MOIS6pB4mIiIiIiIiIJD0lSEREREREREQk6WmIjYiIiIiIiEgS0SSt0Zm7xh79CCo0ERERERGRxJXQKYSXZz0Wapv2ggE3xGX5KkGSJMzsKncfHXYciUxlHHsq45qhco49lXHsqYxrhso59lTGsacyjj2VsewvNAdJ8rgq7ACSgMo49lTGNUPlHHsq49hTGdcMlXPsqYxjT2Uceypj2S8oQSIiIiIiIiIiSU8JEhERERERERFJekqQJA+N+Ys9lXHsqYxrhso59lTGsacyrhkq59hTGceeyjj2VMayX9AkrSIiIiIiIiKS9NSDRERERERERESSnhIkIiIiIiIiIpL0lCARERERERERkaRXK+wAREREkoWZtQEOBxz40t0zQg5JRERERCLUgyTBmFm2mW2t7BV2fInGzLqYWd3I+2PM7Hozaxp2XInEzC4vt5xqZn8IK55EZGYHmNmzZjYusty7fLnLvjOzK4AvgLOAc4CZZnZZuFElFjOra2YXmNnvzeyu4lfYcSUiMxtqZpdG3rcys05hx5QIzOxEMzsnyvoLzeyEMGJKZGZ2fOTe7XozOzLseBKJmV1pZt0i783Mnou0R2ab2YCw4xOpjJ5ik6DM7G4gA3gRMOBCoJG7/zXUwBKMmX0LDALSgfHAu0APdx8VZlyJxMxeBpoClwMtgOeAKe5+a6iBJZBIYuQ54A53P8TMagHfuPvBIYeWUMxsEXCku2+MLLcAPnP3HuFGljjM7EMgC/gaKCxe7+4PhRZUAookqQcR/L3rbmbtgDfc/aiQQ9vvmdlM4FR3X19ufRtgrLsPCSeyxGJmHYB3gGyC+sKAAUAecDrwC3d/JrwI939mNhc41N13mtkFwC3ASOBQ4A/ufnSoAYpUQkNsEteJ7n5EqeV/mNnngBIk1avI3QvM7EzgUXf/m5l9E3ZQicTdLzCz84A5wDbgfHefHnJYiaalu79uZrcDRK7pwt0dJHvte4Kb8WLZwOqQYklU7d39pLCDSAJnEjRyZgG4+xozaxRuSAmjQfnkCIC7Z5hZwzACSlBPAI+7+/OlV5rZRcCMyKISJPumwN13Rt6fArwQ+YFgopmpPSJxS0NsEldhpDtmqpmlmNmFlPo1TarNTjM7H7gYeD+yrnaI8SScSPfMG4C3gJXAL8ysQahBJZ7cSG8GBzCzwQS/wkv1+gH43Mz+GPkFfiaw1MxuNrObQ44tUXxmZur5FHs7POiCXFxnqOFefepFevGVYWa1gfohxJOoepZPjgC4+wtAa0CJ1n1XZGZtzawecBwwsdQ2XcsSt9SDJHFdADwWeTkwPbJOqtelwDXAve6+IjIG+18hx5Ro3gOuc/eJZmbAzcCXQJ9ww0ooNxMMD+tiZtOBVgRzZEj1WhZ5FXsn8l/98r6PzGwOwd+6WsClZrYcyCfoNu/u3i/M+BLQ62b2FNDUzK4ELgOeDjmmRPFv4Gkzu87dc2FXAurxyDapHlF/JDazFCDP3dfVcDyJ6C7gKyAVeNfd5wGY2XBgeZiBiVRFc5CIVBMzawZ0cPfZYceSSMyssbtvLbeum7svCSumRBT5xbIHQYNyUalusRIDkfpii+uPcLUws4Oq2u7uq2oqlkQXSVS3B3oSzCdgwHh3/yjUwBJEpC6+B7gCKL5uOwLPAneqbq4eZvYIkAbcWC4R9QhBguSGMONLFJHruZG7by61riFBGzQnsnyC6g+JJ0qQJCgz6w78AzjA3fuaWT/gNHe/J+TQEoqZfQKcRvCr5bfAeoIJRNVdvpqY2QHAX4AD3f0kM+sNDHH3Z0MOLWGY2VlRVmcBc/Qr2r6LPEXldXdfGHnq1TigP1AAXODuE6v8ANljkeFh89w9O7LcCOjt7p+HG1liMbOv3X1g2HEkMjOrD3SNLC5197xy29Wo3AeRIUv3AZcQJKIcOAgYA/ze3XeEF11yMbNZ7q6n2kjc0Bwkietp4HZgJ0CkV8PPQo0oMTWJ9G44C3gucsN4fMgxJZrnCZ4Q1DayvBi4MbRoEtPlBJPRXRh5PU0w7Ga6mf0izMASxHnAosj7iwn+9rYChhMk/6T6/APIKbWcG1kn1WummR0WdhCJzN3z3H1O5JUXZZcHajyoBOLuOyNPw+tAkCS5DDjI3W8tnRzRo5VrhIUdgEhpSpAkrgbu/kW5dQWhRJLYaplZW+CnlEzSKtWrpbu/DhRB8IQVNOFwdSsCern72e5+NtCbYP6GI4DbQo0sMRRPaAlwIvCKuxe6+wI0F1h1s9LDlty9CJVxLIwAZpjZMjObbWZzzEzDS2uWGpXVoFQiara7b4uyixJRsafhDBJXdNOQuDaYWRdKZpg/B1gbbkgJ6W6C3g3T3P1LM+sMaG6M6qUnrMReurtnllpeB3R3901mpvHu+y7fzPoCmQQNy1tLbdMTmarXcjO7npJeI9eiyQBj4eSwAxA1KmuIElEiSUYJksT1K2A00NPMfgBWEHSdl2rk7m8Ab5RaXg6cHV5ECUlPWIm9qWb2PiXX8tnAp5GJ1LaEF1bCuAF4k+DafcTdVwCY2SjgmzADS0DXEDzt438IGpCTgKtCjSgBFU96a2atgXohhyMSS0pExd7KsAMQKU2TtCYoM0t198JIAyeleMI6qV6RZ7tfTvDI2V03ie5+WWhBJYjI+PbV7p4RmQX9aoKG+3zgLnffFGqACSTyVIqzgKGRVRuBtu7+q/CiEtk7ZpYKjHH3n4cdS6Izs9OAh4B2BD3ODgIWuLsev15DzOzf7h5tgm2pRppA9MerZAL4Xdxdj62WuKQeJIlrhZl9CLwGfBx2MAnsRWAhwbwCdxP00lkQakSJ4ylKJrw9ErgD+DXB0z9Go14k1cbd3cyWEcw58lOCHmdvhRtV4okMFfsDQSLKgWnA3e6+MdTAEkTkR4FWZlZHT6CIuT8Dg4GJ7n6omY0Azg85poSwp41KJUdqzMqwA9iPnRr5b2uC+7ji9sgI4BNACRKJS0qQJK4eBBXTr4BnI93nX3X3aeGGlXC6uvu5Zna6u48xs5cJ5iSRfZdaqpfIecBod38LeMvMvg0xroQReRz4zwgaNhsJEqrm7iNCDSxxvQp8SskwvAsJylxPvqo+KwmevvQuwRNsAHD3h0OLKDHtdPeNZpZiZinuPtnMNJll9VCjsgYoERV77n4pQKQN0tvd10aW2wJPhBmbSFWUIElQkUfCvQ68bmbNgMeAKUBqqIElnuIJLLdEJmHMANLDCyehpJpZrchTa46j7DwCqruqx0JgKnCquy8FMLObwg0poTV39z+XWr7HzM4ILZrEtCbySgEahRxLIttiZmkECb+XzGwdelJetVCjssYoEVVz0ouv44hMoHtYwYjsjhoZCczMhhP88n4y8CVB13mpXqMjCag7CSYSTQPuCjekhPEKMMXMNgB5BA15zKwreopNdTmboAfJ5MiQvFfRjP2xNNnMfkaQvIZgmNh/Qown4bj7n8KOIZGZWUd3/w44naBevomgJ1QTgmGmUn3UqIwhJaJq1CdmNp7gvs6J3HeEG5JI5TRJa4IysxXAtwQ34u+6e+5uDhGJO5FH+rYFJhRfw5FhIWnuPivU4BJIZDLnMwiG2hwLjAHGuvuEUANLEGaWTXBTaEBDoDCyKRXIcffGYcWWaMysFfBbKk6cfWxoQSWQ0hNWmtlb7q6ntsWImf0d6EbZRuVSd/91qIElGDOb6+59Sy2nALNLr5N9Z2ZnAsMii5+6+9gw4xGpihIkCcrMGrv71rDjSFRmdnNV2zXeXfZXZtYcOBc4T41K2d+Y2QSCeV1uJXjk78XAene/LdTAEoSZfePuh5Z/L7GhRmXsKRFVM8zsIKCbu080swYE88zpCZsSl5QgSTBm9lt3/6uZ/Y0oz2539+tDCCvhmNkfqtqubt4iUszMerr7QjOL+qhI9YaqPmb2tbsPNLPZ7t4vsm6Kuw8PO7ZEUK4HiR5/GmNqVNYMJaJiy8yuJJhHrrm7dzGzbsCT7n5cyKGJRKU5SBJP8SNmvwo1igSnBIiI7IWbCW4OHyq1rnQCWz11qk/xxNlrzewnBBO2tg8xnkRziJltJRguVj/ynsiya7hY9SndqAS6AAcCTxJMWi7VaxaQXZyIMrNGSkRVq18BhwOfA7j7EjNrHW5IIpVTgiTBuPt7kbez3f2bUINJAmY2BrjB3bdElpsBD7n7ZeFGJiJx5Bkza1P8+GQzu5hggtyVwB9DjCsR3WNmTYBbgL8BjQkmEpVq4O56El7NUaOyBigRVSPy3X2HWTAHvJnVIkovd5F4kRJ2ABIzD5vZQjP7s5n1CTuYBNavODkC4O6bAY3JFpHSngR2AJjZMOA+golws4DRIcaVMMysnpndCJxEMIfAQncf4e4D3f3dkMMT+THy3X1H8YIalTHzK+AoYCsEiSiCR/9K9ZliZr8n6HV2AvAG8N5ujhEJjRIkCSryS+UxwHqCR9HOMbP/CTeqhJQS6TUC7JrgUj2zRKS0VHffFHl/HjDa3d9y9zuBriHGlUjGAIOAOQSPtn+o6t1F4p4alTVDiajY+x1Be2QOcDXwgbvfEW5IIpXTJK1JwMwOJnjs4XnuXifseBKJmV0E/J7gxsWBnwL3uvuLoQYmInHDzOYC/d29wMwWAle5+6fF2/Q4yX1nZnPc/eDI+1rAF5pAVPZnkcfNXg6MJJjjZby7Px1uVInHzP4KbAEuAn4NXAvMVwO++pjZ3e5+V6nlVOAFd78wxLBEKqUeJAnKzHqZ2R8jN+Z/Bz5DE9VVO3d/ATgLyCTIjp+l5IiIlPMKwa/B7wB5wFQAM+tKMMxG9l3x5Ky4e0GYgYhUkz+6+9Pufq67nwP808xeCjuoBKTeDbHX0cxuBzCzOsC/gSXhhiRSOfUgSVBmNpPgpvwNd18TdjyJxszqAdcQdI+fAzyrm3IRqYyZDQbaAhPcPTeyrjuQpsf87jszKwRyixeB+sA29HQV2U+Z2fPAIne/L9KofAP4xt3/GGpgCUa9G2LPgtlZXyK4Xx4BjHP3R8KNSqRySpAkIFXusWdmrxH8YjmVYLz7Sne/MdyoREREJBGoUVkzlIiKHTMrPcyxNvAUMB14FkA/Dki8UoIkQZnZh8BppSeekuqj8e4iIiJS3dSorFlKRMWOmU2uYrO7+7E1FozIXlCCJEGZ2VPAAOBdSrod4+4PhxZUAjGzWaUTIuWXRURERPaWGpU1Q4momhGZbPhcd38t7FhE9pQSJAnKzP4Qbb27/6mmY0lEGu8uIiIisaBGZewpEVVzzOxTdx8Wdhwie0oJEhERERGROKJGZewpEVUzzOxOgie4vUbZXu2bQgtKpApKkCSoSGa8wj+uMuIiIiIi8U2NypqhRFTsmdmKKKvd3TvXeDAie0AJkgRlZgNLLdYDzgYK3P23IYUkIiIiIntAjcqaoUSUiJSnBEkSMbMp7j487DhERERERMKmRFTNMLO+QG+CH20BcPcXwotIpHK1wg5AYsPMmpdaTAEGAW1CCkdERERE9oIalbHn7p3CjiHRRR4ccQzBtfwBcDIwDdC1LHFJCZLE9TUlc5AUACuBy0OLRkRERET2iBqVNUeJqJg7BzgE+MbdLzWzA4BnQo5JpFJKkCQYMzsMWF2cETeziwnmH1kJzA8xNBERERHZM2pU1gAlompEnrsXmVmBmTUG1gEawiRxKyXsAKTaPQXsADCzYcB9wBggCxgdYlwiIiIismfy3L0IUKMyts4BjgMy3P1SgqRU3XBDSjhfmVlT4GmCHu6zgC/CDUmkcupBknhSS828fR4w2t3fAt4ys29DjEtERERE9kz5RmUOalTGgno3xJi7Xxt5+6SZfQg0dvfZYcYkUhUlSBJPqpnVcvcCgoz4VaW26d9bREREJM6pUVljlIiqAWZ2FjCUYH7EaYCuZYlbesxvgjGzO4BRwAagIzDA3d3MugJj3P2oUAMUERERkd0q36h097Ehh5TQzCwdJaKqnZn9H9AVeCWy6jxgmbv/KryoRCqnBEkCMrPBQFtggrvnRtZ1B9LcfVaowYmIiIhIldSorDlKRMWWmc0D+nqk0WlmKcAcd+8TbmQi0WnIRQJy95lR1i0OIxYRERER2WvDKduoHAPMCTekxBMlEXW1mR2vRFS1WkTQq31VZLkDGmIjcUwJEhERERGR+KJGZc1QIipGzOw9gl45TYAFZvZFZPkI4LMwYxOpihIkIiIiIiJxQI3KGqdEVOw8GHYAIj+GEiQiIiIiIvFBjcoaoERU7Ln7lNLLkccoq+0pcU+TtIqIiIiIxKHyjUp33xRiOAnDzIZXtb18415+PDO7CvgzkAcUAQa4u3cONTCRSihBIiIiIiISR9SorFlKRMWOmS0Bhrj7hrBjEdkT6uYkIiIiIhJffgP0UaMytipLRAFKRFWfZcC2sIMQ2VNKkIiIiIiIxBc1KmuGElGxdzvwmZl9DuQXr3T368MLSaRySpCIiIiIiMQXNSprhhJRsfcU8DHB45OLQo5FZLeUIBERERERiS9qVNYMJaJir8Ddbw47CJE9pQSJiIiIiEh8UaOyZigRFXuTI3O9vEfZJJQmwpW4pKfYiIiIiIjEETO7F1iFGpUxZWafufuRYceRyMxsRZTVeiKTxC0lSERERERE4ogalTVDiSgRKU8JEhERERERSTpKRMWOmf3W3f8aeX+uu79Rattf3P334UUnUrmUsAMQEREREZGgUVnq/bnltv2l5iNKbO7eKcpLyZHq8bNS728vt+2kmgxEZG8oQSIiIiIiEh/UqKwBSkTVCKvkfbRlkbihBImIiIiISHxQo7JmKBEVe17J+2jLInFDj/kVEREREYkPalTWDCWiYu8QM9tKUJ71I++JLNcLLyyRqilBIiIiIiISH9SorBlKRMWYu6eGHYPIj6Gn2IiIiIiISNIws0Igl0giCthWvAmo5+61w4pNRMKlBImIiIiIiIiIJD1N0ioiIiIiIiIiSU8JEhERERERERFJekqQiIiIiIiIiEjSU4JERERERERERJLe/wOHrqTbgxhtyQAAAABJRU5ErkJggg==\n",
      "text/plain": [
       "<Figure size 1440x864 with 2 Axes>"
      ]
     },
     "metadata": {
      "needs_background": "light"
     },
     "output_type": "display_data"
    }
   ],
   "source": [
    "sns.heatmap(data.corr(),annot=True,cmap='crest',linewidths=0.2)\n",
    "fig=plt.gcf()\n",
    "fig.set_size_inches(20,12)\n",
    "plt.show()"
   ]
  },
  {
   "cell_type": "markdown",
   "metadata": {},
   "source": [
    "Podem veure que 'SibSp' , 'Parch' i 'Age' no estan gens relacionades amb 'Survive' (que és la que ens interessa).\n",
    "per tant, les llevam."
   ]
  },
  {
   "cell_type": "code",
   "execution_count": 11,
   "metadata": {},
   "outputs": [
    {
     "data": {
      "text/html": [
       "<div>\n",
       "<style scoped>\n",
       "    .dataframe tbody tr th:only-of-type {\n",
       "        vertical-align: middle;\n",
       "    }\n",
       "\n",
       "    .dataframe tbody tr th {\n",
       "        vertical-align: top;\n",
       "    }\n",
       "\n",
       "    .dataframe thead th {\n",
       "        text-align: right;\n",
       "    }\n",
       "</style>\n",
       "<table border=\"1\" class=\"dataframe\">\n",
       "  <thead>\n",
       "    <tr style=\"text-align: right;\">\n",
       "      <th></th>\n",
       "      <th>Survived</th>\n",
       "      <th>Pclass</th>\n",
       "      <th>Sex</th>\n",
       "      <th>Fare</th>\n",
       "      <th>Embarked_C</th>\n",
       "      <th>Embarked_Q</th>\n",
       "      <th>Embarked_S</th>\n",
       "    </tr>\n",
       "  </thead>\n",
       "  <tbody>\n",
       "    <tr>\n",
       "      <th>0</th>\n",
       "      <td>0</td>\n",
       "      <td>3</td>\n",
       "      <td>1</td>\n",
       "      <td>7.2500</td>\n",
       "      <td>0</td>\n",
       "      <td>0</td>\n",
       "      <td>1</td>\n",
       "    </tr>\n",
       "    <tr>\n",
       "      <th>1</th>\n",
       "      <td>1</td>\n",
       "      <td>1</td>\n",
       "      <td>0</td>\n",
       "      <td>71.2833</td>\n",
       "      <td>1</td>\n",
       "      <td>0</td>\n",
       "      <td>0</td>\n",
       "    </tr>\n",
       "    <tr>\n",
       "      <th>2</th>\n",
       "      <td>1</td>\n",
       "      <td>3</td>\n",
       "      <td>0</td>\n",
       "      <td>7.9250</td>\n",
       "      <td>0</td>\n",
       "      <td>0</td>\n",
       "      <td>1</td>\n",
       "    </tr>\n",
       "    <tr>\n",
       "      <th>3</th>\n",
       "      <td>1</td>\n",
       "      <td>1</td>\n",
       "      <td>0</td>\n",
       "      <td>53.1000</td>\n",
       "      <td>0</td>\n",
       "      <td>0</td>\n",
       "      <td>1</td>\n",
       "    </tr>\n",
       "    <tr>\n",
       "      <th>4</th>\n",
       "      <td>0</td>\n",
       "      <td>3</td>\n",
       "      <td>1</td>\n",
       "      <td>8.0500</td>\n",
       "      <td>0</td>\n",
       "      <td>0</td>\n",
       "      <td>1</td>\n",
       "    </tr>\n",
       "    <tr>\n",
       "      <th>...</th>\n",
       "      <td>...</td>\n",
       "      <td>...</td>\n",
       "      <td>...</td>\n",
       "      <td>...</td>\n",
       "      <td>...</td>\n",
       "      <td>...</td>\n",
       "      <td>...</td>\n",
       "    </tr>\n",
       "    <tr>\n",
       "      <th>886</th>\n",
       "      <td>0</td>\n",
       "      <td>2</td>\n",
       "      <td>1</td>\n",
       "      <td>13.0000</td>\n",
       "      <td>0</td>\n",
       "      <td>0</td>\n",
       "      <td>1</td>\n",
       "    </tr>\n",
       "    <tr>\n",
       "      <th>887</th>\n",
       "      <td>1</td>\n",
       "      <td>1</td>\n",
       "      <td>0</td>\n",
       "      <td>30.0000</td>\n",
       "      <td>0</td>\n",
       "      <td>0</td>\n",
       "      <td>1</td>\n",
       "    </tr>\n",
       "    <tr>\n",
       "      <th>888</th>\n",
       "      <td>0</td>\n",
       "      <td>3</td>\n",
       "      <td>0</td>\n",
       "      <td>23.4500</td>\n",
       "      <td>0</td>\n",
       "      <td>0</td>\n",
       "      <td>1</td>\n",
       "    </tr>\n",
       "    <tr>\n",
       "      <th>889</th>\n",
       "      <td>1</td>\n",
       "      <td>1</td>\n",
       "      <td>1</td>\n",
       "      <td>30.0000</td>\n",
       "      <td>1</td>\n",
       "      <td>0</td>\n",
       "      <td>0</td>\n",
       "    </tr>\n",
       "    <tr>\n",
       "      <th>890</th>\n",
       "      <td>0</td>\n",
       "      <td>3</td>\n",
       "      <td>1</td>\n",
       "      <td>7.7500</td>\n",
       "      <td>0</td>\n",
       "      <td>1</td>\n",
       "      <td>0</td>\n",
       "    </tr>\n",
       "  </tbody>\n",
       "</table>\n",
       "<p>891 rows × 7 columns</p>\n",
       "</div>"
      ],
      "text/plain": [
       "     Survived  Pclass  Sex     Fare  Embarked_C  Embarked_Q  Embarked_S\n",
       "0           0       3    1   7.2500           0           0           1\n",
       "1           1       1    0  71.2833           1           0           0\n",
       "2           1       3    0   7.9250           0           0           1\n",
       "3           1       1    0  53.1000           0           0           1\n",
       "4           0       3    1   8.0500           0           0           1\n",
       "..        ...     ...  ...      ...         ...         ...         ...\n",
       "886         0       2    1  13.0000           0           0           1\n",
       "887         1       1    0  30.0000           0           0           1\n",
       "888         0       3    0  23.4500           0           0           1\n",
       "889         1       1    1  30.0000           1           0           0\n",
       "890         0       3    1   7.7500           0           1           0\n",
       "\n",
       "[891 rows x 7 columns]"
      ]
     },
     "execution_count": 11,
     "metadata": {},
     "output_type": "execute_result"
    }
   ],
   "source": [
    "data.drop(['SibSp','Parch','Age'],axis=1,inplace=True)\n",
    "data"
   ]
  },
  {
   "cell_type": "markdown",
   "metadata": {},
   "source": [
    "Dividim entre dades per entrenar el model i dades per comprovar si funciona"
   ]
  },
  {
   "cell_type": "code",
   "execution_count": 12,
   "metadata": {},
   "outputs": [],
   "source": [
    "data_copia=data\n",
    "all_features = data.drop(\"Survived\",axis=1)\n",
    "Targeted_feature = data[\"Survived\"]\n",
    "x_train,x_test,y_train,y_test = train_test_split(all_features,Targeted_feature,test_size=0.33,random_state=69420)"
   ]
  },
  {
   "cell_type": "markdown",
   "metadata": {},
   "source": [
    "# Regressió Logística"
   ]
  },
  {
   "cell_type": "markdown",
   "metadata": {},
   "source": [
    "Cream el model i l'entrenam"
   ]
  },
  {
   "cell_type": "code",
   "execution_count": 13,
   "metadata": {},
   "outputs": [
    {
     "data": {
      "text/plain": [
       "LogisticRegression()"
      ]
     },
     "execution_count": 13,
     "metadata": {},
     "output_type": "execute_result"
    }
   ],
   "source": [
    "modellr = LogisticRegression()\n",
    "modellr.fit(x_train,y_train)"
   ]
  },
  {
   "cell_type": "markdown",
   "metadata": {},
   "source": [
    "El testejam i obtenim els resultats"
   ]
  },
  {
   "cell_type": "code",
   "execution_count": 14,
   "metadata": {},
   "outputs": [
    {
     "name": "stdout",
     "output_type": "stream",
     "text": [
      "              precision    recall  f1-score   support\n",
      "\n",
      "           0       0.86      0.78      0.82       197\n",
      "           1       0.63      0.76      0.69        98\n",
      "\n",
      "    accuracy                           0.77       295\n",
      "   macro avg       0.75      0.77      0.75       295\n",
      "weighted avg       0.79      0.77      0.77       295\n",
      "\n"
     ]
    }
   ],
   "source": [
    "prediction_lr = modellr.predict(x_test)\n",
    "print(classification_report(y_test, prediction_lr))"
   ]
  },
  {
   "cell_type": "markdown",
   "metadata": {},
   "source": [
    "## Feature Importance"
   ]
  },
  {
   "cell_type": "markdown",
   "metadata": {},
   "source": [
    "Evaluem la importància que li dona a cada columna el model de regressió logística."
   ]
  },
  {
   "cell_type": "code",
   "execution_count": 15,
   "metadata": {},
   "outputs": [
    {
     "name": "stdout",
     "output_type": "stream",
     "text": [
      "Característica:  Pclass \t\tImportància:  -0.9515927630630978\n",
      "Característica:  Sex \t\tImportància:  -2.456915550177353\n",
      "Característica:  Fare \t\tImportància:  0.0008759457335269901\n",
      "Característica:  Embarked_C \t\tImportància:  0.2478699713616438\n",
      "Característica:  Embarked_Q \t\tImportància:  0.08739515185670776\n",
      "Característica:  Embarked_S \t\tImportància:  -0.4041217218400151\n"
     ]
    }
   ],
   "source": [
    "importances = modellr.coef_\n",
    "\n",
    "importances=str(importances.tolist())\n",
    "dissallowed_chars=\"[] \"\n",
    "for c in dissallowed_chars:\n",
    "    importances=importances.replace(c,\"\")\n",
    "\n",
    "importances=importances.split(\",\")\n",
    "\n",
    "features=x_train.columns\n",
    "for i in range(len(features)):\n",
    "    print(\"Característica: \",x_train.columns[i],  \"\\t\\tImportància: \",importances[i])"
   ]
  },
  {
   "cell_type": "markdown",
   "metadata": {},
   "source": [
    "Podem veure que li dona moltíssima importància al sexe i té sentit perquè es deia d'evacuar dones i infants. Per tant, recuperarem la columna 'Age' i mirarem si millora el resultat."
   ]
  },
  {
   "cell_type": "code",
   "execution_count": 16,
   "metadata": {},
   "outputs": [],
   "source": [
    "# Recuperam columna 'Age'\n",
    "filr=pd.read_csv('dades.csv')\n",
    "filr.drop(['PassengerId','Name','Ticket'],axis=1,inplace=True)\n",
    "filr['Sex'].replace('female', 0,inplace=True)\n",
    "filr['Sex'].replace('male', 1,inplace=True)\n",
    "filr.drop(['Cabin'],axis=1,inplace=True)\n",
    "filr['Age'].fillna(filr['Age'].mean(), inplace = True)\n",
    "clb = filr.pop(\"Embarked\")\n",
    "ohe_clb = pd.get_dummies(clb, prefix='Embarked')\n",
    "filr = pd.concat([filr.reset_index(drop=True), ohe_clb.reset_index(drop=True)], axis=1, sort=False)\n",
    "filr.drop(['SibSp','Parch'],axis=1,inplace=True)"
   ]
  },
  {
   "cell_type": "markdown",
   "metadata": {},
   "source": [
    "Tornam a crear el model però ara amb la columna 'Age' i l'entrenam"
   ]
  },
  {
   "cell_type": "code",
   "execution_count": 17,
   "metadata": {},
   "outputs": [
    {
     "data": {
      "text/plain": [
       "LogisticRegression(max_iter=200)"
      ]
     },
     "execution_count": 17,
     "metadata": {},
     "output_type": "execute_result"
    }
   ],
   "source": [
    "all_feat_filr = filr.drop(\"Survived\",axis=1)\n",
    "Tg_feature_filr = filr[\"Survived\"]\n",
    "x_tr_filr,x_te_filr,y_tr_filr,y_te_filr = train_test_split(all_feat_filr,Tg_feature_filr,test_size=0.33,random_state=69420)\n",
    "modelfilr = LogisticRegression(max_iter=200)\n",
    "modelfilr.fit(x_tr_filr,y_tr_filr)"
   ]
  },
  {
   "cell_type": "markdown",
   "metadata": {},
   "source": [
    "Obtenim els resultats amb el nou model"
   ]
  },
  {
   "cell_type": "code",
   "execution_count": 18,
   "metadata": {},
   "outputs": [
    {
     "name": "stdout",
     "output_type": "stream",
     "text": [
      "              precision    recall  f1-score   support\n",
      "\n",
      "           0       0.86      0.79      0.82       197\n",
      "           1       0.63      0.73      0.68        98\n",
      "\n",
      "    accuracy                           0.77       295\n",
      "   macro avg       0.74      0.76      0.75       295\n",
      "weighted avg       0.78      0.77      0.77       295\n",
      "\n"
     ]
    }
   ],
   "source": [
    "prediction_filr = modelfilr.predict(x_te_filr)\n",
    "print(classification_report(y_te_filr, prediction_filr))"
   ]
  },
  {
   "cell_type": "markdown",
   "metadata": {},
   "source": [
    "Veim que tenim els mateixos resultats que sense emprar la columna 'Age'. I això té sentit perquè com hem vist abans, 'Age' no tenia gaire correlació amb 'Survived' per tant, dividirem 'Age' en diferents rangs d'edat a veure si així obtenim un millor resultat."
   ]
  },
  {
   "cell_type": "code",
   "execution_count": 19,
   "metadata": {},
   "outputs": [
    {
     "data": {
      "text/plain": [
       "LogisticRegression(max_iter=2000)"
      ]
     },
     "execution_count": 19,
     "metadata": {},
     "output_type": "execute_result"
    }
   ],
   "source": [
    "filr['Age_bin'] = pd.cut(filr['Age'], bins=[0,7,12,20,40,999], labels=['Infant','Children','Teenage','Adult','Elder'])\n",
    "filr.drop(['Age'],axis=1,inplace=True)\n",
    "\n",
    "clb = filr.pop(\"Age_bin\")\n",
    "ohe_clb = pd.get_dummies(clb, prefix='Age_bin')\n",
    "filr = pd.concat([filr.reset_index(drop=True), ohe_clb.reset_index(drop=True)], axis=1, sort=False)\n",
    "\n",
    "all_feat_filr = filr.drop(\"Survived\",axis=1)\n",
    "Tg_feature_filr = filr[\"Survived\"]\n",
    "x_tr_filr,x_te_filr,y_tr_filr,y_te_filr = train_test_split(all_feat_filr,Tg_feature_filr,test_size=0.33,random_state=69420)\n",
    "modelfilr = LogisticRegression(max_iter=2000)\n",
    "modelfilr.fit(x_tr_filr,y_tr_filr)"
   ]
  },
  {
   "cell_type": "markdown",
   "metadata": {},
   "source": [
    "Obtenim els resultats amb la nova columna 'Age' diferenciada per rangs d'edat"
   ]
  },
  {
   "cell_type": "code",
   "execution_count": 20,
   "metadata": {},
   "outputs": [
    {
     "name": "stdout",
     "output_type": "stream",
     "text": [
      "              precision    recall  f1-score   support\n",
      "\n",
      "           0       0.86      0.81      0.84       197\n",
      "           1       0.66      0.74      0.70        98\n",
      "\n",
      "    accuracy                           0.79       295\n",
      "   macro avg       0.76      0.78      0.77       295\n",
      "weighted avg       0.80      0.79      0.79       295\n",
      "\n"
     ]
    }
   ],
   "source": [
    "prediction_filr = modelfilr.predict(x_te_filr)\n",
    "print(classification_report(y_te_filr, prediction_filr))"
   ]
  },
  {
   "cell_type": "markdown",
   "metadata": {},
   "source": [
    "Podem veure que milloram en un 2% respecte a quan no teniem la columna 'Age' "
   ]
  },
  {
   "cell_type": "markdown",
   "metadata": {},
   "source": [
    "'''\n",
    "Perceptró\n",
    "'''\n",
    "modelp = Perceptron()\n",
    "modelp.fit(x_train,y_train)\n",
    "prediction_p = modelp.predict(x_test)\n",
    "print(classification_report(y_test, prediction_p,zero_division=1))"
   ]
  },
  {
   "cell_type": "code",
   "execution_count": 27,
   "metadata": {},
   "outputs": [
    {
     "name": "stdout",
     "output_type": "stream",
     "text": [
      "Característica:  Pclass \t\tImportància:  -39.0\n",
      "Característica:  Sex \t\tImportància:  -457.0\n",
      "Característica:  Fare \t\tImportància:  -46.60529999999968\n",
      "Característica:  Embarked_C \t\tImportància:  77.0\n",
      "Característica:  Embarked_Q \t\tImportància:  40.0\n",
      "Característica:  Embarked_S \t\tImportància:  -107.0\n"
     ]
    }
   ],
   "source": [
    "importances = modelp.coef_\n",
    "\n",
    "importances=str(importances.tolist())\n",
    "dissallowed_chars=\"[] \"\n",
    "for c in dissallowed_chars:\n",
    "    importances=importances.replace(c,\"\")\n",
    "\n",
    "importances=importances.split(\",\")\n",
    "\n",
    "features=x_train.columns\n",
    "for i in range(len(features)):\n",
    "    print(\"Característica: \",x_train.columns[i],  \"\\t\\tImportància: \",importances[i])"
   ]
  },
  {
   "cell_type": "markdown",
   "metadata": {},
   "source": [
    "# Arbres de decisió"
   ]
  },
  {
   "cell_type": "code",
   "execution_count": 42,
   "metadata": {
    "scrolled": true
   },
   "outputs": [
    {
     "name": "stdout",
     "output_type": "stream",
     "text": [
      "              precision    recall  f1-score   support\n",
      "\n",
      "           0       0.86      0.82      0.84       197\n",
      "           1       0.67      0.73      0.70        98\n",
      "\n",
      "    accuracy                           0.79       295\n",
      "   macro avg       0.77      0.78      0.77       295\n",
      "weighted avg       0.80      0.79      0.80       295\n",
      "\n"
     ]
    }
   ],
   "source": [
    "'''\n",
    "Arbres de decisió\n",
    "'''\n",
    "modelad = RandomForestClassifier(random_state=69420)\n",
    "modelad.fit(x_train,y_train)\n",
    "prediction_ad = modelad.predict(x_test)\n",
    "print(classification_report(y_test, prediction_ad))"
   ]
  },
  {
   "cell_type": "code",
   "execution_count": 43,
   "metadata": {},
   "outputs": [
    {
     "name": "stdout",
     "output_type": "stream",
     "text": [
      "Característica:  Pclass \t\tImportància:  0.12858767549162733\n",
      "Característica:  Sex \t\tImportància:  0.3281938662501471\n",
      "Característica:  Fare \t\tImportància:  0.5046216871059884\n",
      "Característica:  Embarked_C \t\tImportància:  0.014952890849625207\n",
      "Característica:  Embarked_Q \t\tImportància:  0.007819237417816729\n",
      "Característica:  Embarked_S \t\tImportància:  0.015824642884795254\n"
     ]
    }
   ],
   "source": [
    "\n",
    "importances =modelad.feature_importances_\n",
    "\n",
    "importances=str(importances.tolist())\n",
    "dissallowed_chars=\"[] \"\n",
    "for c in dissallowed_chars:\n",
    "    importances=importances.replace(c,\"\")\n",
    "\n",
    "importances=importances.split(\",\")\n",
    "\n",
    "features=x_train.columns\n",
    "for i in range(len(features)):\n",
    "    print(\"Característica: \",x_train.columns[i],  \"\\t\\tImportància: \",importances[i])"
   ]
  },
  {
   "cell_type": "code",
   "execution_count": 44,
   "metadata": {},
   "outputs": [
    {
     "data": {
      "text/plain": [
       "Survived      0\n",
       "Pclass        0\n",
       "Sex           0\n",
       "Fare          0\n",
       "Embarked_C    0\n",
       "Embarked_Q    0\n",
       "Embarked_S    0\n",
       "dtype: int64"
      ]
     },
     "execution_count": 44,
     "metadata": {},
     "output_type": "execute_result"
    }
   ],,
  {
   "cell_type": "code",
   "execution_count": null,
   "metadata": {},
   "outputs": [],
   "source": []
  }
 ],
 "metadata": {
  "kernelspec": {
   "display_name": "Python 3",
   "language": "python",
   "name": "python3"
  },
  "language_info": {
   "codemirror_mode": {
    "name": "ipython",
    "version": 3
   },
   "file_extension": ".py",
   "mimetype": "text/x-python",
   "name": "python",
   "nbconvert_exporter": "python",
   "pygments_lexer": "ipython3",
   "version": "3.8.5"
  }
 },
 "nbformat": 4,
 "nbformat_minor": 4
}
