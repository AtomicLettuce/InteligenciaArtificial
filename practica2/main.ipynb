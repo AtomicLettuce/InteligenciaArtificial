{
 "cells": [
  {
   "cell_type": "markdown",
   "metadata": {},
   "source": [
    "<font size=10>**Pràctica 2**</font>\n",
    "\n",
    "\n",
    "\n",
    "\n",
    "Lluís Picornell Company<br/>\n",
    "43477189J<br/>\n",
    "Xavier Vives Marcus<br/>\n",
    "43462573W<br/>"
   ]
  },
  {
   "cell_type": "markdown",
   "metadata": {},
   "source": [
    "# Totes les llibreries que emprarem:"
   ]
  },
  {
   "cell_type": "code",
   "execution_count": null,
   "metadata": {},
   "outputs": [],
   "source": [
    "import pandas as pd\n",
    "import seaborn as sns\n",
    "import matplotlib.pyplot as plt\n",
    "from sklearn.model_selection import train_test_split\n",
    "from sklearn.linear_model import LogisticRegression\n",
    "from sklearn.ensemble import RandomForestClassifier\n",
    "from sklearn.linear_model import Perceptron\n",
    "from sklearn.metrics import classification_report\n",
    "from sklearn.inspection import permutation_importance\n",
    "import numpy as np"
   ]
  },
  {
   "cell_type": "markdown",
   "metadata": {},
   "source": [
    "# Neteja de dades"
   ]
  },
  {
   "cell_type": "code",
   "execution_count": null,
   "metadata": {},
   "outputs": [],
   "source": [
    "# Llegim dades\n",
    "data = pd.read_csv('dades.csv')\n",
    "print(data.columns.values)"
   ]
  },
  {
   "cell_type": "markdown",
   "metadata": {},
   "source": [
    "Llevam columnes 'PassengerId' , 'Name' i 'Ticket' Ja que no aporten cap informació"
   ]
  },
  {
   "cell_type": "code",
   "execution_count": null,
   "metadata": {},
   "outputs": [],
   "source": [
    "data.drop(['PassengerId','Name','Ticket'],axis=1,inplace=True)\n",
    "print(data.columns.values)\n",
    "data"
   ]
  },
  {
   "cell_type": "markdown",
   "metadata": {},
   "source": [
    "Podem veure que la columna 'Sex' té valors que no seran compatibles amb el que volem fer. Per tant els substiuim per valors 0 o 1"
   ]
  },
  {
   "cell_type": "code",
   "execution_count": null,
   "metadata": {},
   "outputs": [],
   "source": [
    "data['Sex'].replace('female', 0,inplace=True)\n",
    "data['Sex'].replace('male', 1,inplace=True)"
   ]
  },
  {
   "cell_type": "markdown",
   "metadata": {},
   "source": [
    "Comprovem quants de NaNs hi ha al nostre df"
   ]
  },
  {
   "cell_type": "code",
   "execution_count": null,
   "metadata": {},
   "outputs": [],
   "source": [
    "print(data.info())"
   ]
  },
  {
   "cell_type": "markdown",
   "metadata": {},
   "source": [
    "Podem veure que la columna 'Cabin' només hi ha 204 registres (d'un total de 891) que no son NaNs per tant eliminam la columna 'Cabin'"
   ]
  },
  {
   "cell_type": "code",
   "execution_count": null,
   "metadata": {},
   "outputs": [],
   "source": [
    "data.drop(['Cabin'],axis=1,inplace=True)"
   ]
  },
  {
   "cell_type": "markdown",
   "metadata": {},
   "source": [
    "Substituim els valors NaN de la columna 'Age' per la mitjana de Age perquè tampoc n'hi ha tants que siguin NaN"
   ]
  },
  {
   "cell_type": "code",
   "execution_count": null,
   "metadata": {},
   "outputs": [],
   "source": [
    "data['Age'].fillna(data['Age'].mean(), inplace = True)"
   ]
  },
  {
   "cell_type": "markdown",
   "metadata": {},
   "source": [
    "Canviam la columna Embarked per Embarked_C , Embarked_S i Embarked_Q i així poder treballar amb aquesta columna"
   ]
  },
  {
   "cell_type": "code",
   "execution_count": null,
   "metadata": {},
   "outputs": [],
   "source": [
    "clb = data.pop(\"Embarked\")\n",
    "ohe_clb = pd.get_dummies(clb, prefix='Embarked')\n",
    "data = pd.concat([data.reset_index(drop=True), ohe_clb.reset_index(drop=True)], axis=1, sort=False)"
   ]
  },
  {
   "cell_type": "markdown",
   "metadata": {},
   "source": [
    "Podem veure que ja no tenim valors no numèrics"
   ]
  },
  {
   "cell_type": "code",
   "execution_count": null,
   "metadata": {},
   "outputs": [],
   "source": [
    "print(data.info())"
   ]
  },
  {
   "cell_type": "markdown",
   "metadata": {},
   "source": [
    "Anem a veure com de relacionades estan les dades"
   ]
  },
  {
   "cell_type": "code",
   "execution_count": null,
   "metadata": {},
   "outputs": [],
   "source": [
    "sns.heatmap(data.corr(),annot=True,cmap='crest',linewidths=0.2)\n",
    "fig=plt.gcf()\n",
    "fig.set_size_inches(20,12)\n",
    "plt.show()"
   ]
  },
  {
   "cell_type": "markdown",
   "metadata": {},
   "source": [
    "Podem veure que 'SibSp' , 'Parch' i 'Age' no estan gens relacionades amb 'Survive' (que és la que ens interessa).\n",
    "per tant, les llevam."
   ]
  },
  {
   "cell_type": "code",
   "execution_count": null,
   "metadata": {},
   "outputs": [],
   "source": [
    "data.drop(['SibSp','Parch','Age'],axis=1,inplace=True)\n",
    "data"
   ]
  },
  {
   "cell_type": "markdown",
   "metadata": {},
   "source": [
    "Dividim entre dades per entrenar el model i dades per comprovar si funciona"
   ]
  },
  {
   "cell_type": "code",
   "execution_count": null,
   "metadata": {},
   "outputs": [],
   "source": [
    "data_copia=data\n",
    "all_features = data.drop(\"Survived\",axis=1)\n",
    "Targeted_feature = data[\"Survived\"]\n",
    "x_train,x_test,y_train,y_test = train_test_split(all_features,Targeted_feature,test_size=0.33,random_state=69420)"
   ]
  },
  {
   "cell_type": "markdown",
   "metadata": {},
   "source": [
    "# Regressió Logística"
   ]
  },
  {
   "cell_type": "markdown",
   "metadata": {},
   "source": [
    "Cream el model i l'entrenam"
   ]
  },
  {
   "cell_type": "code",
   "execution_count": null,
   "metadata": {},
   "outputs": [],
   "source": [
    "modellr = LogisticRegression()\n",
    "modellr.fit(x_train,y_train)"
   ]
  },
  {
   "cell_type": "markdown",
   "metadata": {},
   "source": [
    "El testejam i obtenim els resultats"
   ]
  },
  {
   "cell_type": "code",
   "execution_count": null,
   "metadata": {},
   "outputs": [],
   "source": [
    "prediction_lr = modellr.predict(x_test)\n",
    "print(classification_report(y_test, prediction_lr))"
   ]
  },
  {
   "cell_type": "markdown",
   "metadata": {},
   "source": [
    "## Feature Importance"
   ]
  },
  {
   "cell_type": "markdown",
   "metadata": {},
   "source": [
    "Evaluem la importància que li dona a cada columna el model de regressió logística."
   ]
  },
  {
   "cell_type": "code",
   "execution_count": null,
   "metadata": {},
   "outputs": [],
   "source": [
    "importances = modellr.coef_\n",
    "\n",
    "importances=str(importances.tolist())\n",
    "dissallowed_chars=\"[] \"\n",
    "for c in dissallowed_chars:\n",
    "    importances=importances.replace(c,\"\")\n",
    "\n",
    "importances=importances.split(\",\")\n",
    "\n",
    "features=x_train.columns\n",
    "for i in range(len(features)):\n",
    "    print(\"Característica: \",x_train.columns[i],  \"\\t\\tImportància: \",importances[i])"
   ]
  },
  {
   "cell_type": "markdown",
   "metadata": {},
   "source": [
    "Podem veure que li dona moltíssima importància al sexe i té sentit perquè es deia d'evacuar dones i infants. Per tant, recuperarem la columna 'Age' i mirarem si millora el resultat."
   ]
  },
  {
   "cell_type": "code",
   "execution_count": null,
   "metadata": {},
   "outputs": [],
   "source": [
    "# Recuperam columna 'Age'\n",
    "filr=pd.read_csv('dades.csv')\n",
    "filr.drop(['PassengerId','Name','Ticket'],axis=1,inplace=True)\n",
    "filr['Sex'].replace('female', 0,inplace=True)\n",
    "filr['Sex'].replace('male', 1,inplace=True)\n",
    "filr.drop(['Cabin'],axis=1,inplace=True)\n",
    "filr['Age'].fillna(filr['Age'].mean(), inplace = True)\n",
    "clb = filr.pop(\"Embarked\")\n",
    "ohe_clb = pd.get_dummies(clb, prefix='Embarked')\n",
    "filr = pd.concat([filr.reset_index(drop=True), ohe_clb.reset_index(drop=True)], axis=1, sort=False)\n",
    "filr.drop(['SibSp','Parch'],axis=1,inplace=True)"
   ]
  },
  {
   "cell_type": "markdown",
   "metadata": {},
   "source": [
    "Tornam a crear el model però ara amb la columna 'Age' i l'entrenam"
   ]
  },
  {
   "cell_type": "code",
   "execution_count": null,
   "metadata": {},
   "outputs": [],
   "source": [
    "all_feat_filr = filr.drop(\"Survived\",axis=1)\n",
    "Tg_feature_filr = filr[\"Survived\"]\n",
    "x_tr_filr,x_te_filr,y_tr_filr,y_te_filr = train_test_split(all_feat_filr,Tg_feature_filr,test_size=0.33,random_state=69420)\n",
    "modelfilr = LogisticRegression(max_iter=200)\n",
    "modelfilr.fit(x_tr_filr,y_tr_filr)"
   ]
  },
  {
   "cell_type": "markdown",
   "metadata": {},
   "source": [
    "Obtenim els resultats amb el nou model"
   ]
  },
  {
   "cell_type": "code",
   "execution_count": null,
   "metadata": {
    "scrolled": true
   },
   "outputs": [],
   "source": [
    "prediction_filr = modelfilr.predict(x_te_filr)\n",
    "print(classification_report(y_te_filr, prediction_filr))"
   ]
  },
  {
   "cell_type": "markdown",
   "metadata": {},
   "source": [
    "Veim que tenim els mateixos resultats que sense emprar la columna 'Age'. I això té sentit perquè com hem vist abans, 'Age' no tenia gaire correlació amb 'Survived' per tant, dividirem 'Age' en diferents rangs d'edat a veure si així obtenim un millor resultat."
   ]
  },
  {
   "cell_type": "code",
   "execution_count": null,
   "metadata": {},
   "outputs": [],
   "source": [
    "filr['Age_bin'] = pd.cut(filr['Age'], bins=[0,7,12,20,40,999], labels=['Infant','Children','Teenage','Adult','Elder'])\n",
    "filr.drop(['Age'],axis=1,inplace=True)\n",
    "\n",
    "clb = filr.pop(\"Age_bin\")\n",
    "ohe_clb = pd.get_dummies(clb, prefix='Age_bin')\n",
    "filr = pd.concat([filr.reset_index(drop=True), ohe_clb.reset_index(drop=True)], axis=1, sort=False)\n",
    "\n",
    "all_feat_filr = filr.drop(\"Survived\",axis=1)\n",
    "Tg_feature_filr = filr[\"Survived\"]\n",
    "x_tr_filr,x_te_filr,y_tr_filr,y_te_filr = train_test_split(all_feat_filr,Tg_feature_filr,test_size=0.33,random_state=69420)\n",
    "modelfilr = LogisticRegression(max_iter=2000)\n",
    "modelfilr.fit(x_tr_filr,y_tr_filr)"
   ]
  },
  {
   "cell_type": "markdown",
   "metadata": {},
   "source": [
    "Obtenim els resultats amb la nova columna 'Age' diferenciada per rangs d'edat"
   ]
  },
  {
   "cell_type": "code",
   "execution_count": null,
   "metadata": {},
   "outputs": [],
   "source": [
    "prediction_filr = modelfilr.predict(x_te_filr)\n",
    "print(classification_report(y_te_filr, prediction_filr))"
   ]
  },
  {
   "cell_type": "markdown",
   "metadata": {},
   "source": [
    "Podem veure que milloram en un 2% respecte a quan no teniem la columna 'Age' "
   ]
  },
  {
   "cell_type": "markdown",
   "metadata": {},
   "source": [
    "# Perceptró"
   ]
  },
  {
   "cell_type": "code",
   "execution_count": null,
   "metadata": {},
   "outputs": [],
   "source": [
    "modelp = Perceptron()\n",
    "modelp.fit(x_train,y_train)\n",
    "prediction_p = modelp.predict(x_test)\n",
    "print(classification_report(y_test, prediction_p,zero_division=1))"
   ]
  },
  {
   "cell_type": "markdown",
   "metadata": {},
   "source": [
    "## Feature Importance"
   ]
  },
  {
   "cell_type": "markdown",
   "metadata": {},
   "source": [
    "Evaluem la importància que li dona a cada columna el model del perceptró."
   ]
  },
  {
   "cell_type": "code",
   "execution_count": null,
   "metadata": {},
   "outputs": [],
   "source": [
    "importances = modelp.coef_\n",
    "\n",
    "importances=str(importances.tolist())\n",
    "dissallowed_chars=\"[] \"\n",
    "for c in dissallowed_chars:\n",
    "    importances=importances.replace(c,\"\")\n",
    "\n",
    "importances=importances.split(\",\")\n",
    "\n",
    "features=x_train.columns\n",
    "for i in range(len(features)):\n",
    "    print(\"Característica: \",x_train.columns[i],  \"\\t\\tImportància: \",importances[i])"
   ]
  },
  {
   "cell_type": "markdown",
   "metadata": {},
   "source": [
    "Com podem veure li dona molta més importància al sexe que a la resta, igual que la regreció lineal. Igual que la regració lineal recuperarem la columne \"age\" per la mateixa raó de dones i infants primer."
   ]
  },
  {
   "cell_type": "code",
   "execution_count": null,
   "metadata": {},
   "outputs": [],
   "source": [
    "# Recuperam columna 'Age'\n",
    "fip=pd.read_csv('dades.csv')\n",
    "fip.drop(['PassengerId','Name','Ticket'],axis=1,inplace=True)\n",
    "fip['Sex'].replace('female', 0,inplace=True)\n",
    "fip['Sex'].replace('male', 1,inplace=True)\n",
    "fip.drop(['Cabin'],axis=1,inplace=True)\n",
    "fip['Age'].fillna(fip['Age'].mean(), inplace = True)\n",
    "clb = fip.pop(\"Embarked\")\n",
    "ohe_clb = pd.get_dummies(clb, prefix='Embarked')\n",
    "fip = pd.concat([fip.reset_index(drop=True), ohe_clb.reset_index(drop=True)], axis=1, sort=False)\n",
    "fip.drop(['SibSp','Parch'],axis=1,inplace=True)"
   ]
  },
  {
   "cell_type": "markdown",
   "metadata": {},
   "source": [
    "Tornam a crear el model però ara amb la columna 'Age' i l'entrenam"
   ]
  },
  {
   "cell_type": "code",
   "execution_count": null,
   "metadata": {
    "scrolled": true
   },
   "outputs": [],
   "source": [
    "all_feat_fip = fip.drop(\"Survived\",axis=1)\n",
    "Tg_feature_fip = fip[\"Survived\"]\n",
    "x_tr_fip,x_te_fip,y_tr_fip,y_te_fip  = train_test_split(all_feat_fip,Tg_feature_fip,test_size=0.33,random_state=69420)\n",
    "modelfip = Perceptron(max_iter=200)\n",
    "modelfip.fit(x_tr_fip,y_tr_fip)"
   ]
  },
  {
   "cell_type": "markdown",
   "metadata": {},
   "source": [
    "Obtenim els resultats amb el nou model"
   ]
  },
  {
   "cell_type": "code",
   "execution_count": null,
   "metadata": {},
   "outputs": [],
   "source": [
    "prediction_fip = modelfip.predict(x_te_fip)\n",
    "print(classification_report(y_te_fip, prediction_fip,zero_division = 1))"
   ]
  },
  {
   "cell_type": "markdown",
   "metadata": {},
   "source": [
    "Veim que tenim els mateixos resultats que sense emprar la columna 'Age'. I això té sentit perquè com hem vist abans, 'Age' no tenia gaire correlació amb 'Survived' per tant, dividirem 'Age' en diferents rangs d'edat a veure si així obtenim un millor resultat."
   ]
  },
  {
   "cell_type": "code",
   "execution_count": null,
   "metadata": {},
   "outputs": [],
   "source": [
    "fip['Age_bin'] = pd.cut(fip['Age'], bins=[0,7,12,20,40,999], labels=['Infant','Children','Teenage','Adult','Elder'])\n",
    "fip.drop(['Age'],axis=1,inplace=True)\n",
    "\n",
    "clb = fip.pop(\"Age_bin\")\n",
    "ohe_clb = pd.get_dummies(clb, prefix='Age_bin')\n",
    "fip = pd.concat([fip.reset_index(drop=True), ohe_clb.reset_index(drop=True)], axis=1, sort=False)\n",
    "\n",
    "all_feat_fip = fip.drop(\"Survived\",axis=1)\n",
    "Tg_feature_fip = fip[\"Survived\"]\n",
    "x_tr_fip,x_te_fip,y_tr_fip,y_te_fip = train_test_split(all_feat_fip,Tg_feature_fip,test_size=0.33,random_state=69420)\n",
    "modelfip = Perceptron(max_iter=2000)\n",
    "modelfip.fit(x_tr_fip,y_tr_fip)"
   ]
  },
  {
   "cell_type": "markdown",
   "metadata": {},
   "source": [
    "Obtenim els resultats amb la nova columna 'Age' diferenciada per rangs d'edat"
   ]
  },
  {
   "cell_type": "code",
   "execution_count": null,
   "metadata": {},
   "outputs": [],
   "source": [
    "prediction_fip = modelfip.predict(x_te_fip)\n",
    "print(classification_report(y_te_fip, prediction_fip,zero_division=1))"
   ]
  },
  {
   "cell_type": "markdown",
   "metadata": {},
   "source": [
    "Veim que tenir la columna \"Age\", no tenir-la o dividir-la és totalment indiferent, ja que en els tres casos tenim la mateixa accuracy. \n",
    "Per lo que concluim que les millores que hem pensat no afectan al perceptró."
   ]
  },
  {
   "cell_type": "markdown",
   "metadata": {},
   "source": [
    "# Arbres de decisió"
   ]
  },
  {
   "cell_type": "code",
   "execution_count": null,
   "metadata": {},
   "outputs": [],
   "source": [
    "modelad = RandomForestClassifier(random_state=69420)\n",
    "modelad.fit(x_train,y_train)\n",
    "prediction_ad = modelad.predict(x_test)\n",
    "print(classification_report(y_test, prediction_ad))"
   ]
  },
  {
   "cell_type": "markdown",
   "metadata": {},
   "source": [
    "## Feature Importance"
   ]
  },
  {
   "cell_type": "markdown",
   "metadata": {},
   "source": [
    "Evaluem la importància que li dona a cada columna el model d'Arbres de decisió"
   ]
  },
  {
   "cell_type": "code",
   "execution_count": null,
   "metadata": {},
   "outputs": [],
   "source": [
    "importances =modelad.feature_importances_\n",
    "\n",
    "importances=str(importances.tolist())\n",
    "dissallowed_chars=\"[] \"\n",
    "for c in dissallowed_chars:\n",
    "    importances=importances.replace(c,\"\")\n",
    "\n",
    "importances=importances.split(\",\")\n",
    "\n",
    "features=x_train.columns\n",
    "for i in range(len(features)):\n",
    "    print(\"Característica: \",x_train.columns[i],  \"\\t\\tImportància: \",importances[i])"
   ]
  },
  {
   "cell_type": "markdown",
   "metadata": {},
   "source": [
    "Com podem veure a n'aquest model el que és més important és el \"Fare\", per lo que farem el mateix que amb l'edat i el separarem per car, mitjà i barato."
   ]
  },
  {
   "cell_type": "code",
   "execution_count": null,
   "metadata": {},
   "outputs": [],
   "source": [
    "data['Fare_bin'] = pd.cut(data['Fare'], bins=[0,10,31,120], labels=['Cheap','avarage','spencive'])\n",
    "data.drop(['Fare'],axis=1,inplace=True)\n",
    "\n",
    "clb = data.pop(\"Fare_bin\")\n",
    "ohe_clb = pd.get_dummies(clb, prefix='Fare_bin')\n",
    "data = pd.concat([filr.reset_index(drop=True), ohe_clb.reset_index(drop=True)], axis=1, sort=False)\n",
    "\n",
    "all_feat_filr = data.drop(\"Survived\",axis=1)\n",
    "Tg_feature_filr = data[\"Survived\"]\n",
    "x_tr_firc,x_te_firc,y_tr_firc,y_te_firc = train_test_split(all_feat_filr,Tg_feature_filr,test_size=0.33,random_state=69420)\n",
    "modelfirc = RandomForestClassifier(random_state=69420)\n",
    "modelfirc.fit(x_tr_firc,y_tr_firc)"
   ]
  },
  {
   "cell_type": "markdown",
   "metadata": {},
   "source": [
    "Obtenim els resultats amb el nou model"
   ]
  },
  {
   "cell_type": "code",
   "execution_count": null,
   "metadata": {},
   "outputs": [],
   "source": [
    "prediction_firc = modelfirc.predict(x_te_firc)\n",
    "print(classification_report(y_te_firc, prediction_firc,zero_division=1))"
   ]
  },
  {
   "cell_type": "markdown",
   "metadata": {},
   "source": [
    "Com podem observar l'accuracy ha millorat en un 3% d'un 0.79 a un 0.82."
   ]
  },
  {
   "cell_type": "markdown",
   "metadata": {},
   "source": [
    "# Conclusions"
   ]
  },
  {
   "cell_type": "code",
   "execution_count": null,
   "metadata": {},
   "outputs": [],
   "source": []
  }
 ],
 "metadata": {
  "kernelspec": {
   "display_name": "Python 3 (ipykernel)",
   "language": "python",
   "name": "python3"
  },
  "language_info": {
   "codemirror_mode": {
    "name": "ipython",
    "version": 3
   },
   "file_extension": ".py",
   "mimetype": "text/x-python",
   "name": "python",
   "nbconvert_exporter": "python",
   "pygments_lexer": "ipython3",
   "version": "3.10.7"
  }
 },
 "nbformat": 4,
 "nbformat_minor": 4
}
